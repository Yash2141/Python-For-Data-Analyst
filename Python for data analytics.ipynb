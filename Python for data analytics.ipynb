{
 "cells": [
  {
   "cell_type": "markdown",
   "id": "30722ef6",
   "metadata": {},
   "source": [
    "Our Mind is Not a Storage Device it is a Thinking Device\n"
   ]
  },
  {
   "cell_type": "code",
   "execution_count": 1,
   "id": "f5a235c8",
   "metadata": {},
   "outputs": [
    {
     "name": "stdout",
     "output_type": "stream",
     "text": [
      "welcome to python world\n"
     ]
    }
   ],
   "source": [
    "#ESCAPE SEQUENCE\n",
    "print(\"welcome to python world\")"
   ]
  },
  {
   "cell_type": "code",
   "execution_count": 2,
   "id": "1b0df989",
   "metadata": {},
   "outputs": [
    {
     "name": "stdout",
     "output_type": "stream",
     "text": [
      "welcome to \n",
      "python world\n"
     ]
    }
   ],
   "source": [
    "print(\"welcome to \\npython world\")"
   ]
  },
  {
   "cell_type": "code",
   "execution_count": 3,
   "id": "48fa49cc",
   "metadata": {},
   "outputs": [
    {
     "name": "stdout",
     "output_type": "stream",
     "text": [
      "welcome to \"python world\"\n"
     ]
    }
   ],
   "source": [
    "print(\"welcome to \\\"python world\\\"\")"
   ]
  },
  {
   "cell_type": "code",
   "execution_count": 4,
   "id": "2f3248aa",
   "metadata": {},
   "outputs": [
    {
     "name": "stdout",
     "output_type": "stream",
     "text": [
      "welcome to \t python world\n"
     ]
    }
   ],
   "source": [
    "print(\"welcome to \\t python world\")"
   ]
  },
  {
   "cell_type": "code",
   "execution_count": 5,
   "id": "b369e817",
   "metadata": {},
   "outputs": [
    {
     "name": "stdout",
     "output_type": "stream",
     "text": [
      "hello\n",
      "Indore\n"
     ]
    }
   ],
   "source": [
    "print(\"hello\")\n",
    "print(\"Indore\")"
   ]
  },
  {
   "cell_type": "code",
   "execution_count": 6,
   "id": "637f7290",
   "metadata": {},
   "outputs": [
    {
     "name": "stdout",
     "output_type": "stream",
     "text": [
      "hello\n",
      "Indore\n"
     ]
    }
   ],
   "source": [
    "print(\"hello\\nIndore\")"
   ]
  },
  {
   "cell_type": "code",
   "execution_count": 7,
   "id": "ea93dd1c",
   "metadata": {},
   "outputs": [
    {
     "name": "stdout",
     "output_type": "stream",
     "text": [
      "hello\tIndore\n"
     ]
    }
   ],
   "source": [
    "print(\"hello\\tIndore\")"
   ]
  },
  {
   "cell_type": "code",
   "execution_count": 8,
   "id": "0933e5fa",
   "metadata": {},
   "outputs": [
    {
     "name": "stdout",
     "output_type": "stream",
     "text": [
      "*\n",
      "**\n",
      "***\n"
     ]
    }
   ],
   "source": [
    "print(\"*\\n**\\n***\")"
   ]
  },
  {
   "cell_type": "code",
   "execution_count": 9,
   "id": "9785ba8c",
   "metadata": {},
   "outputs": [
    {
     "name": "stdout",
     "output_type": "stream",
     "text": [
      "*\n",
      "*\t*\n",
      "  *\n"
     ]
    }
   ],
   "source": [
    "print(\"*\\n*\\t*\\n  *\")"
   ]
  },
  {
   "cell_type": "markdown",
   "id": "15719857",
   "metadata": {},
   "source": [
    "## variable :-\n",
    "it is reversed memory location or data/values can be stored in temporary storage spaces called variables"
   ]
  },
  {
   "cell_type": "code",
   "execution_count": 10,
   "id": "868f49e0",
   "metadata": {},
   "outputs": [],
   "source": [
    "student = 'aman'"
   ]
  },
  {
   "cell_type": "code",
   "execution_count": 11,
   "id": "eafb0cfb",
   "metadata": {},
   "outputs": [
    {
     "data": {
      "text/plain": [
       "'aman'"
      ]
     },
     "execution_count": 11,
     "metadata": {},
     "output_type": "execute_result"
    }
   ],
   "source": [
    "student"
   ]
  },
  {
   "cell_type": "markdown",
   "id": "86da63a0",
   "metadata": {},
   "source": [
    "## Data type :-\n",
    "every variable is associated with data-type"
   ]
  },
  {
   "cell_type": "code",
   "execution_count": 12,
   "id": "a9a365cf",
   "metadata": {},
   "outputs": [
    {
     "data": {
      "text/plain": [
       "str"
      ]
     },
     "execution_count": 12,
     "metadata": {},
     "output_type": "execute_result"
    }
   ],
   "source": [
    "type(student)"
   ]
  },
  {
   "cell_type": "code",
   "execution_count": 13,
   "id": "a866efee",
   "metadata": {},
   "outputs": [],
   "source": [
    "a1 = 6.5"
   ]
  },
  {
   "cell_type": "code",
   "execution_count": 14,
   "id": "46126cc4",
   "metadata": {},
   "outputs": [
    {
     "data": {
      "text/plain": [
       "float"
      ]
     },
     "execution_count": 14,
     "metadata": {},
     "output_type": "execute_result"
    }
   ],
   "source": [
    "type(a1)"
   ]
  },
  {
   "cell_type": "markdown",
   "id": "c8055820",
   "metadata": {},
   "source": [
    "## Operators\n",
    "Arithmetic operators +,-,*,/"
   ]
  },
  {
   "cell_type": "code",
   "execution_count": 15,
   "id": "192043b7",
   "metadata": {},
   "outputs": [],
   "source": [
    "a = 10\n",
    "b = 5"
   ]
  },
  {
   "cell_type": "code",
   "execution_count": 16,
   "id": "4b634ccf",
   "metadata": {},
   "outputs": [
    {
     "name": "stdout",
     "output_type": "stream",
     "text": [
      "10 5\n"
     ]
    }
   ],
   "source": [
    "print(a,b)"
   ]
  },
  {
   "cell_type": "code",
   "execution_count": 17,
   "id": "57ee0bba",
   "metadata": {},
   "outputs": [
    {
     "data": {
      "text/plain": [
       "15"
      ]
     },
     "execution_count": 17,
     "metadata": {},
     "output_type": "execute_result"
    }
   ],
   "source": [
    "a+b"
   ]
  },
  {
   "cell_type": "code",
   "execution_count": 18,
   "id": "7db81962",
   "metadata": {},
   "outputs": [
    {
     "data": {
      "text/plain": [
       "50"
      ]
     },
     "execution_count": 18,
     "metadata": {},
     "output_type": "execute_result"
    }
   ],
   "source": [
    "a*b"
   ]
  },
  {
   "cell_type": "markdown",
   "id": "dfb026cf",
   "metadata": {},
   "source": [
    "### Relational operator <,>,==,!="
   ]
  },
  {
   "cell_type": "code",
   "execution_count": 19,
   "id": "0052368a",
   "metadata": {},
   "outputs": [
    {
     "data": {
      "text/plain": [
       "True"
      ]
     },
     "execution_count": 19,
     "metadata": {},
     "output_type": "execute_result"
    }
   ],
   "source": [
    "a>b"
   ]
  },
  {
   "cell_type": "code",
   "execution_count": 20,
   "id": "f9bd2e90",
   "metadata": {},
   "outputs": [
    {
     "data": {
      "text/plain": [
       "False"
      ]
     },
     "execution_count": 20,
     "metadata": {},
     "output_type": "execute_result"
    }
   ],
   "source": [
    "a==b"
   ]
  },
  {
   "cell_type": "markdown",
   "id": "bd3eda78",
   "metadata": {},
   "source": [
    "### Assignment operator   =,-=,+=,/=,%=,**="
   ]
  },
  {
   "cell_type": "code",
   "execution_count": 21,
   "id": "90afdda7",
   "metadata": {},
   "outputs": [
    {
     "name": "stdout",
     "output_type": "stream",
     "text": [
      "30\n"
     ]
    }
   ],
   "source": [
    "a =a+20\n",
    "print(a)"
   ]
  },
  {
   "cell_type": "code",
   "execution_count": 22,
   "id": "7bf606ac",
   "metadata": {},
   "outputs": [
    {
     "name": "stdout",
     "output_type": "stream",
     "text": [
      "15\n"
     ]
    }
   ],
   "source": [
    "a = 10                #a = a+5\n",
    "\n",
    "a +=5\n",
    "print(a)"
   ]
  },
  {
   "cell_type": "markdown",
   "id": "0210ce90",
   "metadata": {},
   "source": [
    "### Logical operator  \n",
    "not,and,or"
   ]
  },
  {
   "cell_type": "code",
   "execution_count": 23,
   "id": "32cf0233",
   "metadata": {},
   "outputs": [
    {
     "name": "stdout",
     "output_type": "stream",
     "text": [
      "False\n"
     ]
    }
   ],
   "source": [
    "a = 10\n",
    "print(not(a>5))"
   ]
  },
  {
   "cell_type": "code",
   "execution_count": 24,
   "id": "75a961fc",
   "metadata": {},
   "outputs": [
    {
     "data": {
      "text/plain": [
       "'\\n&   Bitwise and\\n|   Bitwise or\\n^   Bitwise xor\\n<<  Bitwise left shift\\n>>  Bitwise right shift\\n'"
      ]
     },
     "execution_count": 24,
     "metadata": {},
     "output_type": "execute_result"
    }
   ],
   "source": [
    "# Bitwise Operator\n",
    "\n",
    "'''\n",
    "&   Bitwise and\n",
    "|   Bitwise or\n",
    "^   Bitwise xor\n",
    "<<  Bitwise left shift\n",
    ">>  Bitwise right shift\n",
    "'''"
   ]
  },
  {
   "cell_type": "markdown",
   "id": "10064671",
   "metadata": {},
   "source": [
    "### Member ship operator\n",
    "in,\n",
    "not in "
   ]
  },
  {
   "cell_type": "code",
   "execution_count": 25,
   "id": "703577a3",
   "metadata": {},
   "outputs": [
    {
     "name": "stdout",
     "output_type": "stream",
     "text": [
      "True\n"
     ]
    }
   ],
   "source": [
    "v1=\"better as you are\"\n",
    "print(\"as\" in v1)"
   ]
  },
  {
   "cell_type": "code",
   "execution_count": 26,
   "id": "cd13901d",
   "metadata": {},
   "outputs": [
    {
     "name": "stdout",
     "output_type": "stream",
     "text": [
      "False\n"
     ]
    }
   ],
   "source": [
    "v1=\"better as you are\"\n",
    "print(\"as\" not in v1)"
   ]
  },
  {
   "cell_type": "markdown",
   "id": "e4038c76",
   "metadata": {},
   "source": [
    "### Identity operator\n",
    "is,\n",
    "not is"
   ]
  },
  {
   "cell_type": "code",
   "execution_count": 27,
   "id": "a76a194f",
   "metadata": {},
   "outputs": [
    {
     "data": {
      "text/plain": [
       "True"
      ]
     },
     "execution_count": 27,
     "metadata": {},
     "output_type": "execute_result"
    }
   ],
   "source": [
    "a=b=10\n",
    "a is b"
   ]
  },
  {
   "cell_type": "code",
   "execution_count": 28,
   "id": "e227812c",
   "metadata": {},
   "outputs": [
    {
     "name": "stdout",
     "output_type": "stream",
     "text": [
      "False\n"
     ]
    }
   ],
   "source": [
    "a =10\n",
    "b ='10'\n",
    "print(a is b)"
   ]
  },
  {
   "cell_type": "code",
   "execution_count": 29,
   "id": "ce15f250",
   "metadata": {},
   "outputs": [
    {
     "name": "stdout",
     "output_type": "stream",
     "text": [
      "True\n"
     ]
    }
   ],
   "source": [
    "print(a is not b)"
   ]
  },
  {
   "cell_type": "markdown",
   "id": "2282b70f",
   "metadata": {},
   "source": [
    "### User input"
   ]
  },
  {
   "cell_type": "code",
   "execution_count": 30,
   "id": "c10233db",
   "metadata": {},
   "outputs": [
    {
     "name": "stdout",
     "output_type": "stream",
     "text": [
      "shyam\n",
      "you have entered:  shyam\n"
     ]
    }
   ],
   "source": [
    "\n",
    "a= input()\n",
    "print(\"you have entered: \",a)"
   ]
  },
  {
   "cell_type": "code",
   "execution_count": 31,
   "id": "f3c99ddb",
   "metadata": {},
   "outputs": [
    {
     "name": "stdout",
     "output_type": "stream",
     "text": [
      "enter first name:yash\n",
      "enter last name:rathore\n",
      "yashrathore\n"
     ]
    }
   ],
   "source": [
    "a =input(\"enter first name:\")\n",
    "b =input(\"enter last name:\")\n",
    "c = a+b\n",
    "print(c)"
   ]
  },
  {
   "cell_type": "code",
   "execution_count": 32,
   "id": "49bcc48b",
   "metadata": {},
   "outputs": [
    {
     "name": "stdout",
     "output_type": "stream",
     "text": [
      "enter first number:10\n",
      "enter second number:20\n",
      "30\n"
     ]
    }
   ],
   "source": [
    "a =int(input(\"enter first number:\"))\n",
    "b =int(input(\"enter second number:\"))\n",
    "c = a+b\n",
    "print(c)"
   ]
  },
  {
   "cell_type": "code",
   "execution_count": 33,
   "id": "029f2fdc",
   "metadata": {},
   "outputs": [
    {
     "name": "stdout",
     "output_type": "stream",
     "text": [
      "Greater\n"
     ]
    }
   ],
   "source": [
    "# if statement\n",
    "\n",
    "if 5>2:\n",
    "    print(\"Greater\")"
   ]
  },
  {
   "cell_type": "code",
   "execution_count": 34,
   "id": "561d616e",
   "metadata": {},
   "outputs": [
    {
     "name": "stdout",
     "output_type": "stream",
     "text": [
      "condition false\n"
     ]
    }
   ],
   "source": [
    "if 5<2:\n",
    "    print(\"lesser\")\n",
    "    print(\"5 is greater than 2 \")\n",
    "\n",
    "print(\"condition false\")"
   ]
  },
  {
   "cell_type": "code",
   "execution_count": 35,
   "id": "d9314dd8",
   "metadata": {},
   "outputs": [
    {
     "name": "stdout",
     "output_type": "stream",
     "text": [
      "enter number greater than 2:5\n",
      "you have entered: 5\n"
     ]
    }
   ],
   "source": [
    "a =int(input(\"enter number greater than 2:\"))\n",
    "if (a>2):\n",
    "    print(\"you have entered:\",a)"
   ]
  },
  {
   "cell_type": "markdown",
   "id": "34e51529",
   "metadata": {},
   "source": [
    "### Nested if statement\n"
   ]
  },
  {
   "cell_type": "code",
   "execution_count": 36,
   "id": "cd995e35",
   "metadata": {},
   "outputs": [
    {
     "name": "stdout",
     "output_type": "stream",
     "text": [
      "it's greater\n",
      "greater\n"
     ]
    }
   ],
   "source": [
    "\n",
    "if 5>2:\n",
    "    print(\"it's greater\")\n",
    "    if 6>2:\n",
    "        print(\"greater\")"
   ]
  },
  {
   "cell_type": "code",
   "execution_count": 37,
   "id": "f247b2b0",
   "metadata": {},
   "outputs": [
    {
     "name": "stdout",
     "output_type": "stream",
     "text": [
      "not right\n"
     ]
    }
   ],
   "source": [
    "if 5<2:\n",
    "    print(\"it's greater\")\n",
    "    if 6>2:\n",
    "        print(\"greater\")\n",
    "print(\"not right\")"
   ]
  },
  {
   "cell_type": "code",
   "execution_count": 38,
   "id": "b0031aab",
   "metadata": {},
   "outputs": [
    {
     "name": "stdout",
     "output_type": "stream",
     "text": [
      "enter greater than 2:5\n",
      "enter greater than 5 :12\n"
     ]
    }
   ],
   "source": [
    "a = int(input(\"enter greater than 2:\"))\n",
    "b = int(input(\"enter greater than 5 :\"))\n",
    "if a>b:\n",
    "    print(\"you have entered :\",a)\n",
    "    if b>a:\n",
    "        print(\"you have entered\",b)\n",
    "    \n"
   ]
  },
  {
   "cell_type": "markdown",
   "id": "e30ac7fb",
   "metadata": {},
   "source": [
    "### if else statement\n"
   ]
  },
  {
   "cell_type": "code",
   "execution_count": 39,
   "id": "88d13a8e",
   "metadata": {},
   "outputs": [
    {
     "name": "stdout",
     "output_type": "stream",
     "text": [
      "it's greater\n"
     ]
    }
   ],
   "source": [
    "if 5>2:\n",
    "    print(\"it's greater\")\n",
    "else:\n",
    "    print(\"Incorrect\")"
   ]
  },
  {
   "cell_type": "code",
   "execution_count": 40,
   "id": "9a815053",
   "metadata": {},
   "outputs": [
    {
     "name": "stdout",
     "output_type": "stream",
     "text": [
      "Enter greater than 50:80\n",
      "you have entered correct 80\n",
      "Enter greater than 5:8\n",
      "you have entered correct 8\n",
      "Enter greater than 10:14\n",
      "you have entered correct 14\n",
      "all values are correct 8 14 80\n"
     ]
    }
   ],
   "source": [
    "c= int(input(\"Enter greater than 50:\"))\n",
    "if c>50:\n",
    "    print(\"you have entered correct\",c)\n",
    "    \n",
    "    \n",
    "    a= int(input(\"Enter greater than 5:\"))\n",
    "    if a>5:\n",
    "        print(\"you have entered correct\",a)\n",
    "    else:\n",
    "        print(\"Incorrect!\",a)\n",
    "        \n",
    "    b= int(input(\"Enter greater than 10:\"))\n",
    "    if b>10:\n",
    "        print(\"you have entered correct\",b)\n",
    "    else:\n",
    "        print(\"Incorrect!\",b)\n",
    "        \n",
    "    print(\"all values are correct\",a,b,c)\n",
    "else:\n",
    "    print(\"Incorrect\",c)\n",
    "    "
   ]
  },
  {
   "cell_type": "code",
   "execution_count": 41,
   "id": "e2a50d65",
   "metadata": {},
   "outputs": [
    {
     "name": "stdout",
     "output_type": "stream",
     "text": [
      "enter the first number 1?8\n",
      "enter the first number 2?3\n",
      "the output is 13\n",
      "your output 13\n"
     ]
    }
   ],
   "source": [
    "a= int(input(\"enter the first number 1?\"))\n",
    "b= int(input(\"enter the first number 2?\"))\n",
    "c= a*2-b\n",
    "print(\"the output is\",c)\n",
    "if c<0:\n",
    "    print(\"the number is negative\")\n",
    "else:\n",
    "    print(\"your output\",c)"
   ]
  },
  {
   "cell_type": "markdown",
   "id": "f589cce4",
   "metadata": {},
   "source": [
    "### if elif statement\n"
   ]
  },
  {
   "cell_type": "code",
   "execution_count": 42,
   "id": "3392a526",
   "metadata": {},
   "outputs": [
    {
     "data": {
      "text/plain": [
       "(30, 20)"
      ]
     },
     "execution_count": 42,
     "metadata": {},
     "output_type": "execute_result"
    }
   ],
   "source": [
    "\n",
    "a=30\n",
    "b=20\n",
    "a,b"
   ]
  },
  {
   "cell_type": "code",
   "execution_count": 43,
   "id": "18f1b4c8",
   "metadata": {},
   "outputs": [
    {
     "name": "stdout",
     "output_type": "stream",
     "text": [
      "enter the number:12\n",
      "a is less than b: 20\n"
     ]
    }
   ],
   "source": [
    "a =int(input(\"enter the number:\"))\n",
    "if a>b:\n",
    "    print(\"a is greater than b:\",a)\n",
    "elif a==b:\n",
    "    print(\"a is equal to b:\",a,b)\n",
    "elif a<b:\n",
    "    print(\"a is less than b:\",b)"
   ]
  },
  {
   "cell_type": "code",
   "execution_count": 44,
   "id": "d26ff589",
   "metadata": {},
   "outputs": [
    {
     "name": "stdout",
     "output_type": "stream",
     "text": [
      "Enter the daywednesday\n",
      "Today is wednesday\n"
     ]
    }
   ],
   "source": [
    "day = input(\"Enter the day\")\n",
    "if(day==\"Monday\" or day ==\"monday\"):\n",
    "    print(\"Today is monday\")\n",
    "elif(day==\"Tuesday\" or day ==\"tuesday\"):\n",
    "    print(\"Today is tuesday\")\n",
    "elif(day==\"Wednesday\" or day==\"wednesday\"):\n",
    "    print(\"Today is wednesday\")\n",
    "else:\n",
    "    print(\"Today is Holiday\")"
   ]
  },
  {
   "cell_type": "code",
   "execution_count": 45,
   "id": "c41f277d",
   "metadata": {},
   "outputs": [
    {
     "name": "stdout",
     "output_type": "stream",
     "text": [
      "enter the number 1?20\n",
      "enter the number 2?40\n",
      "the output is -20\n",
      "the number is negative\n"
     ]
    }
   ],
   "source": [
    "a=int(input(\"enter the number 1?\"))\n",
    "b=int(input(\"enter the number 2?\"))\n",
    "c= a-b\n",
    "print(\"the output is\",c)\n",
    "if c<0:\n",
    "    print(\"the number is negative\")\n",
    "elif c>50:\n",
    "    print(\"the different is huge\")\n",
    "else:\n",
    "    print(\"the number is positive\")"
   ]
  },
  {
   "cell_type": "markdown",
   "id": "f2bb4b88",
   "metadata": {},
   "source": [
    "### range function\n"
   ]
  },
  {
   "cell_type": "code",
   "execution_count": 46,
   "id": "4773c908",
   "metadata": {},
   "outputs": [
    {
     "name": "stdout",
     "output_type": "stream",
     "text": [
      "5\n",
      "4\n",
      "3\n",
      "2\n",
      "1\n"
     ]
    }
   ],
   "source": [
    "a = range(5,0,-1)\n",
    "print(a[0])\n",
    "print(a[1])\n",
    "print(a[2])\n",
    "print(a[3])\n",
    "print(a[4])"
   ]
  },
  {
   "cell_type": "code",
   "execution_count": 47,
   "id": "4c835868",
   "metadata": {},
   "outputs": [
    {
     "name": "stdout",
     "output_type": "stream",
     "text": [
      "0\n",
      "1\n",
      "2\n",
      "3\n",
      "4\n"
     ]
    }
   ],
   "source": [
    "a = range(0,6,1)\n",
    "print(a[0])\n",
    "print(a[1])\n",
    "print(a[2])\n",
    "print(a[3])\n",
    "print(a[4])"
   ]
  },
  {
   "cell_type": "markdown",
   "id": "2db01f60",
   "metadata": {},
   "source": [
    "### While Loop\n"
   ]
  },
  {
   "cell_type": "code",
   "execution_count": 48,
   "id": "65511994",
   "metadata": {},
   "outputs": [
    {
     "name": "stdout",
     "output_type": "stream",
     "text": [
      "1\n",
      "2\n",
      "3\n",
      "4\n",
      "5\n"
     ]
    }
   ],
   "source": [
    "a=1\n",
    "while a<=5:\n",
    "    print(a)\n",
    "    a+=1"
   ]
  },
  {
   "cell_type": "code",
   "execution_count": 49,
   "id": "b9438342",
   "metadata": {},
   "outputs": [
    {
     "name": "stdout",
     "output_type": "stream",
     "text": [
      "0\n",
      "1\n",
      "2\n",
      "3\n",
      "4\n",
      "5\n",
      "6\n"
     ]
    }
   ],
   "source": [
    "i = 0\n",
    "while i<=6:\n",
    "    print(i)\n",
    "    i+=1"
   ]
  },
  {
   "cell_type": "code",
   "execution_count": 50,
   "id": "f4eb9220",
   "metadata": {},
   "outputs": [
    {
     "name": "stdout",
     "output_type": "stream",
     "text": [
      "0\n",
      "1\n",
      "2\n",
      "3\n",
      "4\n",
      "5\n",
      "6\n",
      "value is overfitted\n"
     ]
    }
   ],
   "source": [
    "i = 0\n",
    "while i<=6:\n",
    "    print(i)\n",
    "    i+=1\n",
    "else:\n",
    "    print(\"value is overfitted\")"
   ]
  },
  {
   "cell_type": "markdown",
   "id": "124c15b8",
   "metadata": {},
   "source": [
    "### Break"
   ]
  },
  {
   "cell_type": "code",
   "execution_count": 51,
   "id": "cec53ef5",
   "metadata": {},
   "outputs": [
    {
     "name": "stdout",
     "output_type": "stream",
     "text": [
      "0\n",
      "1\n",
      "2\n",
      "3\n",
      "4\n"
     ]
    }
   ],
   "source": [
    "i = 0\n",
    "while i<=6:\n",
    "    print(i)\n",
    "    i+=1\n",
    "    if i ==5:\n",
    "        break"
   ]
  },
  {
   "cell_type": "markdown",
   "id": "e6cb8a0b",
   "metadata": {},
   "source": [
    "### continue statement"
   ]
  },
  {
   "cell_type": "code",
   "execution_count": 52,
   "id": "78705db6",
   "metadata": {},
   "outputs": [
    {
     "name": "stdout",
     "output_type": "stream",
     "text": [
      "1\n",
      "2\n",
      "4\n",
      "5\n",
      "6\n",
      "7\n"
     ]
    }
   ],
   "source": [
    "i = 0\n",
    "while i<=6:\n",
    "    i+=1\n",
    "    if i ==3:\n",
    "        continue\n",
    "    print(i)\n"
   ]
  },
  {
   "cell_type": "markdown",
   "id": "89c20d9d",
   "metadata": {},
   "source": [
    "### Nested while loop\n"
   ]
  },
  {
   "cell_type": "code",
   "execution_count": 53,
   "id": "15ed2fd1",
   "metadata": {},
   "outputs": [
    {
     "name": "stdout",
     "output_type": "stream",
     "text": [
      "outer loop 1\n",
      "inner loop 1\n",
      "inner loop 2\n",
      "inner loop 3\n",
      "inner loop 4\n",
      "outer loop 2\n",
      "inner loop 1\n",
      "inner loop 2\n",
      "inner loop 3\n",
      "inner loop 4\n",
      "outer loop 3\n",
      "inner loop 1\n",
      "inner loop 2\n",
      "inner loop 3\n",
      "inner loop 4\n"
     ]
    }
   ],
   "source": [
    "\n",
    "i =1\n",
    "while i<=3:\n",
    "    print(\"outer loop\",i)\n",
    "    i+=1\n",
    "    \n",
    "    j =1\n",
    "    while j<=4:\n",
    "        print(\"inner loop\",j)\n",
    "        j+=1"
   ]
  },
  {
   "cell_type": "code",
   "execution_count": 54,
   "id": "0d1f1291",
   "metadata": {},
   "outputs": [
    {
     "name": "stdout",
     "output_type": "stream",
     "text": [
      "2\n",
      "4\n",
      "6\n",
      "8\n",
      "10\n",
      "12\n",
      "14\n",
      "16\n",
      "18\n",
      "20\n",
      "22\n",
      "24\n",
      "\n",
      "\n",
      "3\n",
      "6\n",
      "9\n",
      "12\n",
      "15\n",
      "18\n",
      "21\n",
      "24\n",
      "27\n",
      "30\n",
      "33\n",
      "36\n",
      "\n",
      "\n",
      "4\n",
      "8\n",
      "12\n",
      "16\n",
      "20\n",
      "24\n",
      "28\n",
      "32\n",
      "36\n",
      "40\n",
      "44\n",
      "48\n",
      "\n",
      "\n"
     ]
    }
   ],
   "source": [
    "i=1\n",
    "while i<=3:\n",
    "    i+=1\n",
    "\n",
    "    j=1\n",
    "    while j<=12:\n",
    "        print (i*j)\n",
    "        j +=1\n",
    "    print(\"\\n\")"
   ]
  },
  {
   "cell_type": "code",
   "execution_count": 55,
   "id": "4810e239",
   "metadata": {},
   "outputs": [
    {
     "name": "stdout",
     "output_type": "stream",
     "text": [
      "2 * 1 = 2\n",
      "2 * 2 = 4\n",
      "2 * 3 = 6\n",
      "2 * 4 = 8\n",
      "2 * 5 = 10\n",
      "\n",
      "\n",
      "3 * 1 = 3\n",
      "3 * 2 = 6\n",
      "3 * 3 = 9\n",
      "3 * 4 = 12\n",
      "3 * 5 = 15\n",
      "\n",
      "\n",
      "4 * 1 = 4\n",
      "4 * 2 = 8\n",
      "4 * 3 = 12\n",
      "4 * 4 = 16\n",
      "4 * 5 = 20\n",
      "\n",
      "\n"
     ]
    }
   ],
   "source": [
    "i=1\n",
    "while i<=3:\n",
    "    i+=1\n",
    "\n",
    "    j=1\n",
    "    while j<=5:\n",
    "        print (i,\"*\",j,'=',i*j)\n",
    "        j +=1\n",
    "    print(\"\\n\")"
   ]
  },
  {
   "cell_type": "markdown",
   "id": "710cee41",
   "metadata": {},
   "source": [
    "### For loop\n"
   ]
  },
  {
   "cell_type": "code",
   "execution_count": 56,
   "id": "af568402",
   "metadata": {},
   "outputs": [
    {
     "name": "stdout",
     "output_type": "stream",
     "text": [
      "2\n",
      "3\n",
      "4\n",
      "5\n"
     ]
    }
   ],
   "source": [
    "\n",
    "a =range(2,6,1)\n",
    "for i in a:\n",
    "    print(i)"
   ]
  },
  {
   "cell_type": "code",
   "execution_count": 57,
   "id": "4cb01449",
   "metadata": {},
   "outputs": [
    {
     "name": "stdout",
     "output_type": "stream",
     "text": [
      "0 - y\n",
      "1 - a\n",
      "2 - s\n",
      "3 - h\n",
      "4 - r\n",
      "5 - a\n",
      "6 - t\n",
      "7 - h\n",
      "8 - o\n",
      "9 - r\n",
      "10 - e\n"
     ]
    }
   ],
   "source": [
    "st = \"yashrathore\"\n",
    "n =len(st)\n",
    "for i in range(n):\n",
    "    print(i,\"-\",st[i])"
   ]
  },
  {
   "cell_type": "code",
   "execution_count": 58,
   "id": "146824e5",
   "metadata": {},
   "outputs": [
    {
     "name": "stdout",
     "output_type": "stream",
     "text": [
      "i like pop\n",
      "i like rock\n",
      "i like fly\n"
     ]
    }
   ],
   "source": [
    "var = ['pop','rock','fly']\n",
    "for i in range(len(var)):\n",
    "    print('i like',var[i])"
   ]
  },
  {
   "cell_type": "code",
   "execution_count": 59,
   "id": "2c3afd42",
   "metadata": {},
   "outputs": [
    {
     "name": "stdout",
     "output_type": "stream",
     "text": [
      "enter the name: veer\n",
      "80\n"
     ]
    }
   ],
   "source": [
    "student_name = input(\"enter the name: \")\n",
    "marks = {'jay':60,'veer':80,'sham':50}\n",
    "\n",
    "for student in marks:\n",
    "    if student == student_name:\n",
    "        print(marks[student])\n",
    "        break\n",
    "else:\n",
    "    print(\"No entry with that name found\")"
   ]
  },
  {
   "cell_type": "markdown",
   "id": "306ca607",
   "metadata": {},
   "source": [
    "# String"
   ]
  },
  {
   "cell_type": "code",
   "execution_count": 60,
   "id": "375a2d5b",
   "metadata": {},
   "outputs": [
    {
     "name": "stdout",
     "output_type": "stream",
     "text": [
      "0 - y\n",
      "1 - a\n",
      "2 - s\n",
      "3 - h\n",
      "4 - r\n",
      "5 - a\n",
      "6 - t\n",
      "7 - h\n",
      "8 - o\n",
      "9 - r\n",
      "10 - e\n"
     ]
    }
   ],
   "source": [
    "str_name = 'yashrathore'\n",
    "n = len(str_name)\n",
    "for i in range(n):\n",
    "    print(i,\"-\",str_name[i])"
   ]
  },
  {
   "cell_type": "code",
   "execution_count": 61,
   "id": "cd4169f0",
   "metadata": {},
   "outputs": [],
   "source": [
    "str1 = \"my data science life\"\n",
    "str2 = \"is best forever\""
   ]
  },
  {
   "cell_type": "code",
   "execution_count": 62,
   "id": "50c601a7",
   "metadata": {},
   "outputs": [
    {
     "data": {
      "text/plain": [
       "'my data science life is best forever'"
      ]
     },
     "execution_count": 62,
     "metadata": {},
     "output_type": "execute_result"
    }
   ],
   "source": [
    "str1+\" \"+str2"
   ]
  },
  {
   "cell_type": "code",
   "execution_count": 63,
   "id": "be9990c0",
   "metadata": {},
   "outputs": [
    {
     "name": "stdout",
     "output_type": "stream",
     "text": [
      "enter your name : ram\n",
      "ram\n"
     ]
    }
   ],
   "source": [
    "name = input(\"enter your name : \")\n",
    "print(name)"
   ]
  },
  {
   "cell_type": "markdown",
   "id": "8167cde4",
   "metadata": {},
   "source": [
    "## string formating\n"
   ]
  },
  {
   "cell_type": "code",
   "execution_count": 64,
   "id": "7ef926d4",
   "metadata": {},
   "outputs": [
    {
     "name": "stdout",
     "output_type": "stream",
     "text": [
      "what is your first name : prans\n",
      "what is your last name : raghuwanshi\n",
      "my first_name is prans and last_name is raghuwanshi\n"
     ]
    }
   ],
   "source": [
    "\n",
    "\n",
    "first_name = input(\"what is your first name : \")\n",
    "last_name = input(\"what is your last name : \")\n",
    "print(\"my first_name is {first} and last_name is {last}\".format(last =last_name,first=first_name))"
   ]
  },
  {
   "cell_type": "code",
   "execution_count": 65,
   "id": "cf5bd32f",
   "metadata": {},
   "outputs": [
    {
     "data": {
      "text/plain": [
       "9.0"
      ]
     },
     "execution_count": 65,
     "metadata": {},
     "output_type": "execute_result"
    }
   ],
   "source": [
    "4 +float(5)"
   ]
  },
  {
   "cell_type": "code",
   "execution_count": 66,
   "id": "03da6d39",
   "metadata": {},
   "outputs": [
    {
     "data": {
      "text/plain": [
       "'day4'"
      ]
     },
     "execution_count": 66,
     "metadata": {},
     "output_type": "execute_result"
    }
   ],
   "source": [
    "'day'+str(4)"
   ]
  },
  {
   "cell_type": "code",
   "execution_count": 67,
   "id": "1f7716a8",
   "metadata": {},
   "outputs": [
    {
     "data": {
      "text/plain": [
       "' \\nthis is my \\nfirst programming\\nlanguage'"
      ]
     },
     "execution_count": 67,
     "metadata": {},
     "output_type": "execute_result"
    }
   ],
   "source": [
    "str3 = ''' \n",
    "this is my \n",
    "first programming\n",
    "language'''\n",
    "\n",
    "str3"
   ]
  },
  {
   "cell_type": "code",
   "execution_count": 68,
   "id": "0f8a4e1e",
   "metadata": {},
   "outputs": [
    {
     "name": "stdout",
     "output_type": "stream",
     "text": [
      "2027707310128\n",
      "2027707310128\n"
     ]
    }
   ],
   "source": [
    "str1= \"yash\"\n",
    "str2= \"yash\"\n",
    "print(id(str1))\n",
    "print(id(str2))"
   ]
  },
  {
   "cell_type": "code",
   "execution_count": 69,
   "id": "8dcefaf0",
   "metadata": {},
   "outputs": [
    {
     "name": "stdout",
     "output_type": "stream",
     "text": [
      "yashyashyashyashyash\n"
     ]
    }
   ],
   "source": [
    "string = 'yash rathore'\n",
    "print(string[0:4] * 5)"
   ]
  },
  {
   "cell_type": "code",
   "execution_count": 70,
   "id": "af8ba45f",
   "metadata": {},
   "outputs": [
    {
     "data": {
      "text/plain": [
       "'yash rathore'"
      ]
     },
     "execution_count": 70,
     "metadata": {},
     "output_type": "execute_result"
    }
   ],
   "source": [
    "str4 = 'yash rathore'\n",
    "str4.lower()\n"
   ]
  },
  {
   "cell_type": "code",
   "execution_count": 71,
   "id": "5aa559cf",
   "metadata": {},
   "outputs": [
    {
     "data": {
      "text/plain": [
       "'YASH RATHORE'"
      ]
     },
     "execution_count": 71,
     "metadata": {},
     "output_type": "execute_result"
    }
   ],
   "source": [
    "str4 = 'yash rathore'\n",
    "str4.upper()\n"
   ]
  },
  {
   "cell_type": "code",
   "execution_count": 72,
   "id": "433f6075",
   "metadata": {},
   "outputs": [
    {
     "data": {
      "text/plain": [
       "'YASH RATHORE'"
      ]
     },
     "execution_count": 72,
     "metadata": {},
     "output_type": "execute_result"
    }
   ],
   "source": [
    "str4 = 'yash rathore'\n",
    "str4.swapcase()\n"
   ]
  },
  {
   "cell_type": "code",
   "execution_count": 73,
   "id": "b14f1d6f",
   "metadata": {},
   "outputs": [
    {
     "data": {
      "text/plain": [
       "'Yash Rathore'"
      ]
     },
     "execution_count": 73,
     "metadata": {},
     "output_type": "execute_result"
    }
   ],
   "source": [
    "str4 = 'yash rathore'\n",
    "str4.title()\n"
   ]
  },
  {
   "cell_type": "code",
   "execution_count": 74,
   "id": "c3c2bb08",
   "metadata": {},
   "outputs": [
    {
     "data": {
      "text/plain": [
       "False"
      ]
     },
     "execution_count": 74,
     "metadata": {},
     "output_type": "execute_result"
    }
   ],
   "source": [
    "str4 = 'yashrathore'\n",
    "str4.isupper()\n"
   ]
  },
  {
   "cell_type": "code",
   "execution_count": 75,
   "id": "c72711b9",
   "metadata": {},
   "outputs": [
    {
     "data": {
      "text/plain": [
       "True"
      ]
     },
     "execution_count": 75,
     "metadata": {},
     "output_type": "execute_result"
    }
   ],
   "source": [
    "str4 = 'yashrathore'\n",
    "str4.islower()\n"
   ]
  },
  {
   "cell_type": "code",
   "execution_count": 76,
   "id": "afc464da",
   "metadata": {},
   "outputs": [
    {
     "data": {
      "text/plain": [
       "2"
      ]
     },
     "execution_count": 76,
     "metadata": {},
     "output_type": "execute_result"
    }
   ],
   "source": [
    "str4.count('a')"
   ]
  },
  {
   "cell_type": "code",
   "execution_count": 77,
   "id": "fd544c02",
   "metadata": {},
   "outputs": [
    {
     "data": {
      "text/plain": [
       "8"
      ]
     },
     "execution_count": 77,
     "metadata": {},
     "output_type": "execute_result"
    }
   ],
   "source": [
    "str4.find('o')"
   ]
  },
  {
   "cell_type": "markdown",
   "id": "d14089a3",
   "metadata": {},
   "source": [
    "## Replace and Split"
   ]
  },
  {
   "cell_type": "code",
   "execution_count": 78,
   "id": "e9e3028e",
   "metadata": {},
   "outputs": [
    {
     "data": {
      "text/plain": [
       "'Harshrathore'"
      ]
     },
     "execution_count": 78,
     "metadata": {},
     "output_type": "execute_result"
    }
   ],
   "source": [
    "name = 'yashrathore'\n",
    "old = 'yash'\n",
    "new = 'Harsh'\n",
    "name.replace(old,new)"
   ]
  },
  {
   "cell_type": "code",
   "execution_count": 79,
   "id": "0469a9d6",
   "metadata": {},
   "outputs": [
    {
     "name": "stdout",
     "output_type": "stream",
     "text": [
      "harshrathore\n"
     ]
    }
   ],
   "source": [
    "name = 'yashrathore'\n",
    "print(name.replace('yash','harsh'))"
   ]
  },
  {
   "cell_type": "code",
   "execution_count": 80,
   "id": "2c77e1c2",
   "metadata": {},
   "outputs": [
    {
     "data": {
      "text/plain": [
       "['y', 'shr', 'thore']"
      ]
     },
     "execution_count": 80,
     "metadata": {},
     "output_type": "execute_result"
    }
   ],
   "source": [
    "name = 'yashrathore'\n",
    "name.split('a')"
   ]
  },
  {
   "cell_type": "code",
   "execution_count": 81,
   "id": "4f0fc91e",
   "metadata": {},
   "outputs": [
    {
     "data": {
      "text/plain": [
       "['yash', 'rathore']"
      ]
     },
     "execution_count": 81,
     "metadata": {},
     "output_type": "execute_result"
    }
   ],
   "source": [
    "name = 'yash rathore'\n",
    "name.split(' ')\n",
    " "
   ]
  },
  {
   "cell_type": "code",
   "execution_count": 82,
   "id": "f7716957",
   "metadata": {},
   "outputs": [
    {
     "name": "stdout",
     "output_type": "stream",
     "text": [
      "Hello!_yash_how_are_you\n"
     ]
    }
   ],
   "source": [
    "name = 'Hello!','yash','how','are','you'\n",
    "print('_'.join(name))"
   ]
  },
  {
   "cell_type": "markdown",
   "id": "4a0bef70",
   "metadata": {},
   "source": [
    "# List"
   ]
  },
  {
   "cell_type": "code",
   "execution_count": 83,
   "id": "0a0b82dd",
   "metadata": {},
   "outputs": [
    {
     "data": {
      "text/plain": [
       "[10, 20, 30, 'yash', 'aman', 10.5, 20.5]"
      ]
     },
     "execution_count": 83,
     "metadata": {},
     "output_type": "execute_result"
    }
   ],
   "source": [
    "lst1 = [10,20,30,'yash','aman',10.5,20.5]\n",
    "lst1"
   ]
  },
  {
   "cell_type": "code",
   "execution_count": 84,
   "id": "96ee1470",
   "metadata": {},
   "outputs": [
    {
     "name": "stdout",
     "output_type": "stream",
     "text": [
      "10\n",
      "20\n",
      "30\n",
      "yash\n",
      "aman\n",
      "10.5\n",
      "20.5\n"
     ]
    }
   ],
   "source": [
    "lst1 = [10,20,30,'yash','aman',10.5,20.5]\n",
    "for i in lst1:\n",
    "    print(i)"
   ]
  },
  {
   "cell_type": "code",
   "execution_count": 85,
   "id": "566a7e02",
   "metadata": {},
   "outputs": [
    {
     "name": "stdout",
     "output_type": "stream",
     "text": [
      "0 - 10\n",
      "1 - 20\n",
      "2 - 30\n",
      "3 - yash\n",
      "4 - aman\n",
      "5 - 10.5\n",
      "6 - 20.5\n"
     ]
    }
   ],
   "source": [
    "lst1 = [10,20,30,'yash','aman',10.5,20.5]\n",
    "n =len(lst1)\n",
    "for i in range(n):\n",
    "    print(i,\"-\",lst1[i])"
   ]
  },
  {
   "cell_type": "code",
   "execution_count": 86,
   "id": "1a5011a5",
   "metadata": {},
   "outputs": [
    {
     "name": "stdout",
     "output_type": "stream",
     "text": [
      "before condition [1, 2, 3, 4, 5, 6, 7, 8]\n",
      "after condition [(2, 1)]\n",
      "after condition [(2, 1), (4, 4)]\n",
      "after condition [(2, 1), (4, 4), (6, 9)]\n",
      "after condition [(2, 1), (4, 4), (6, 9), (8, 16)]\n",
      "after condition [(2, 1), (4, 4), (6, 9), (8, 16)]\n",
      "after condition [(2, 1), (4, 4), (6, 9), (8, 16)]\n",
      "after condition [(2, 1), (4, 4), (6, 9), (8, 16)]\n",
      "after condition [(2, 1), (4, 4), (6, 9), (8, 16)]\n"
     ]
    }
   ],
   "source": [
    "l1 = [1,2,3,4,5,6,7,8]\n",
    "print(\"before condition\",l1)\n",
    "l2=[]\n",
    "for i in l1:\n",
    "    if i<5:\n",
    "        l2.append((i+i,i**2))\n",
    "    print('after condition',l2)"
   ]
  },
  {
   "cell_type": "code",
   "execution_count": 87,
   "id": "8bb3d398",
   "metadata": {},
   "outputs": [
    {
     "name": "stdout",
     "output_type": "stream",
     "text": [
      "0 - 10\n",
      "1 - 20\n",
      "2 - 30\n",
      "3 - yash\n",
      "4 - aman\n",
      "5 - 10.5\n",
      "6 - 20.5\n"
     ]
    }
   ],
   "source": [
    "lst1 = [10,20,30,'yash','aman',10.5,20.5]\n",
    "n = len(lst1)\n",
    "i=0\n",
    "while i<n:\n",
    "    print(i,\"-\",lst1[i])\n",
    "    i+=1"
   ]
  },
  {
   "cell_type": "markdown",
   "id": "013a6fc0",
   "metadata": {},
   "source": [
    "### append method\n"
   ]
  },
  {
   "cell_type": "code",
   "execution_count": 88,
   "id": "78833e89",
   "metadata": {},
   "outputs": [
    {
     "name": "stdout",
     "output_type": "stream",
     "text": [
      "0 - [10, 20, 30, 'yash', 'aman', 10.5, 20.5, 44]\n",
      "1 - [10, 20, 30, 'yash', 'aman', 10.5, 20.5, 44]\n",
      "2 - [10, 20, 30, 'yash', 'aman', 10.5, 20.5, 44]\n",
      "3 - [10, 20, 30, 'yash', 'aman', 10.5, 20.5, 44]\n",
      "4 - [10, 20, 30, 'yash', 'aman', 10.5, 20.5, 44]\n",
      "5 - [10, 20, 30, 'yash', 'aman', 10.5, 20.5, 44]\n",
      "6 - [10, 20, 30, 'yash', 'aman', 10.5, 20.5, 44]\n"
     ]
    }
   ],
   "source": [
    "lst1 = [10,20,30,'yash','aman',10.5,20.5]\n",
    "n = len(lst1)\n",
    "lst1.append(44)\n",
    "for i in range(n):\n",
    "    print(i,\"-\",lst1)"
   ]
  },
  {
   "cell_type": "code",
   "execution_count": 89,
   "id": "7c95c29d",
   "metadata": {},
   "outputs": [
    {
     "name": "stdout",
     "output_type": "stream",
     "text": [
      "[]\n",
      "enter your values:5\n",
      "enter number:10\n",
      "enter number:20\n",
      "enter number:30\n",
      "enter number:40\n",
      "enter number:50\n",
      "[10, 20, 30, 40, 50]\n"
     ]
    }
   ],
   "source": [
    "lst2 = []\n",
    "print(lst2)\n",
    "n = int(input(\"enter your values:\"))\n",
    "for i in range(n):\n",
    "    lst2.append(int(input(\"enter number:\")))\n",
    "print(lst2)"
   ]
  },
  {
   "cell_type": "code",
   "execution_count": 90,
   "id": "df058fce",
   "metadata": {},
   "outputs": [
    {
     "name": "stdout",
     "output_type": "stream",
     "text": [
      "[]\n",
      "enter your values:5\n",
      "enter number:10\n",
      "enter number:20\n",
      "enter number:30\n",
      "enter number:40\n",
      "enter number:50\n",
      "list:\n",
      "10\n",
      "20\n",
      "30\n",
      "40\n",
      "50\n"
     ]
    }
   ],
   "source": [
    "lst2 = []\n",
    "print(lst2)\n",
    "n = int(input(\"enter your values:\"))\n",
    "for i in range(n):\n",
    "    lst2.append(int(input(\"enter number:\")))\n",
    "\n",
    "print('list:')\n",
    "for i in lst2:\n",
    "    print(i)"
   ]
  },
  {
   "cell_type": "markdown",
   "id": "72e58927",
   "metadata": {},
   "source": [
    "### Insert method"
   ]
  },
  {
   "cell_type": "code",
   "execution_count": 91,
   "id": "57846578",
   "metadata": {},
   "outputs": [
    {
     "name": "stdout",
     "output_type": "stream",
     "text": [
      "10\n",
      "yash\n",
      "20\n",
      "30\n",
      "40\n"
     ]
    }
   ],
   "source": [
    "a = [10,20,30,40]\n",
    "a.insert(1,'yash')\n",
    "for i in a:\n",
    "    print(i)"
   ]
  },
  {
   "cell_type": "code",
   "execution_count": 92,
   "id": "9945793c",
   "metadata": {},
   "outputs": [
    {
     "name": "stdout",
     "output_type": "stream",
     "text": [
      "[10, 'yash', 20, 30, 40]\n"
     ]
    }
   ],
   "source": [
    "a = [10,20,30,40]\n",
    "a.insert(1,'yash')\n",
    "print(a)"
   ]
  },
  {
   "cell_type": "markdown",
   "id": "07078c45",
   "metadata": {},
   "source": [
    "### POP method"
   ]
  },
  {
   "cell_type": "code",
   "execution_count": 93,
   "id": "75c3b477",
   "metadata": {},
   "outputs": [
    {
     "data": {
      "text/plain": [
       "40"
      ]
     },
     "execution_count": 93,
     "metadata": {},
     "output_type": "execute_result"
    }
   ],
   "source": [
    "a = [10,20,30,40]\n",
    "a.pop()"
   ]
  },
  {
   "cell_type": "code",
   "execution_count": 94,
   "id": "5ebe381e",
   "metadata": {},
   "outputs": [
    {
     "data": {
      "text/plain": [
       "20"
      ]
     },
     "execution_count": 94,
     "metadata": {},
     "output_type": "execute_result"
    }
   ],
   "source": [
    "a = [10,20,30,40]\n",
    "a.pop(1)"
   ]
  },
  {
   "cell_type": "markdown",
   "id": "255dd2cc",
   "metadata": {},
   "source": [
    "### Index method"
   ]
  },
  {
   "cell_type": "code",
   "execution_count": 95,
   "id": "a0ed9ff1",
   "metadata": {},
   "outputs": [
    {
     "data": {
      "text/plain": [
       "2"
      ]
     },
     "execution_count": 95,
     "metadata": {},
     "output_type": "execute_result"
    }
   ],
   "source": [
    "a = [10,20,30,40]\n",
    "a.index(30)"
   ]
  },
  {
   "cell_type": "markdown",
   "id": "706af985",
   "metadata": {},
   "source": [
    "### Reverse method"
   ]
  },
  {
   "cell_type": "code",
   "execution_count": 96,
   "id": "642b8be4",
   "metadata": {},
   "outputs": [
    {
     "name": "stdout",
     "output_type": "stream",
     "text": [
      "[40, 30, 20, 10]\n"
     ]
    }
   ],
   "source": [
    "a = [10,20,30,40]\n",
    "a.reverse()\n",
    "print(a)"
   ]
  },
  {
   "cell_type": "markdown",
   "id": "ec2e329b",
   "metadata": {},
   "source": [
    "### extend method"
   ]
  },
  {
   "cell_type": "code",
   "execution_count": 97,
   "id": "4f6306bd",
   "metadata": {},
   "outputs": [
    {
     "name": "stdout",
     "output_type": "stream",
     "text": [
      "[10, 20, 30, 40, 40, 50, 60]\n"
     ]
    }
   ],
   "source": [
    "a = [10,20,30,40]\n",
    "b = [40,50,60]\n",
    "a.extend(b)\n",
    "print(a)"
   ]
  },
  {
   "cell_type": "markdown",
   "id": "233c26cd",
   "metadata": {},
   "source": [
    "### Count method"
   ]
  },
  {
   "cell_type": "code",
   "execution_count": 98,
   "id": "34830894",
   "metadata": {},
   "outputs": [
    {
     "data": {
      "text/plain": [
       "3"
      ]
     },
     "execution_count": 98,
     "metadata": {},
     "output_type": "execute_result"
    }
   ],
   "source": [
    "a = [10,20,30,40,10,50,10]\n",
    "a.count(10)"
   ]
  },
  {
   "cell_type": "markdown",
   "id": "b147289c",
   "metadata": {},
   "source": [
    "### Clear method"
   ]
  },
  {
   "cell_type": "code",
   "execution_count": 99,
   "id": "905dd5a8",
   "metadata": {},
   "outputs": [
    {
     "name": "stdout",
     "output_type": "stream",
     "text": [
      "[]\n"
     ]
    }
   ],
   "source": [
    "a = [10,20,30,40]\n",
    "a.clear()\n",
    "print(a)"
   ]
  },
  {
   "cell_type": "markdown",
   "id": "e11cd231",
   "metadata": {},
   "source": [
    "### Slicing method"
   ]
  },
  {
   "cell_type": "code",
   "execution_count": 100,
   "id": "b33c1e1d",
   "metadata": {},
   "outputs": [
    {
     "data": {
      "text/plain": [
       "[10, 20, 'jai', 'shambhu', 30, 40]"
      ]
     },
     "execution_count": 100,
     "metadata": {},
     "output_type": "execute_result"
    }
   ],
   "source": [
    "f =[10,20,'jai','shambhu',30,40]\n",
    "f[:]"
   ]
  },
  {
   "cell_type": "code",
   "execution_count": 101,
   "id": "2a793d50",
   "metadata": {},
   "outputs": [
    {
     "data": {
      "text/plain": [
       "[10, 'jai']"
      ]
     },
     "execution_count": 101,
     "metadata": {},
     "output_type": "execute_result"
    }
   ],
   "source": [
    "f =[10,20,'jai','shambhu',30,40]\n",
    "a = f[:4:2]\n",
    "a"
   ]
  },
  {
   "cell_type": "code",
   "execution_count": 102,
   "id": "57d87aa3",
   "metadata": {},
   "outputs": [
    {
     "name": "stdout",
     "output_type": "stream",
     "text": [
      "jai\n",
      "shambhu\n",
      "30\n"
     ]
    }
   ],
   "source": [
    "f =[10,20,'jai','shambhu',30,40,50]\n",
    "a =f[2:5]\n",
    "\n",
    "for i in a:\n",
    "    print(i)"
   ]
  },
  {
   "cell_type": "code",
   "execution_count": 103,
   "id": "3715d802",
   "metadata": {},
   "outputs": [
    {
     "data": {
      "text/plain": [
       "[10]"
      ]
     },
     "execution_count": 103,
     "metadata": {},
     "output_type": "execute_result"
    }
   ],
   "source": [
    "f =[10,20,'jai','shambhu',30,40]\n",
    "f[0:-5]"
   ]
  },
  {
   "cell_type": "code",
   "execution_count": 104,
   "id": "4dd66844",
   "metadata": {},
   "outputs": [
    {
     "data": {
      "text/plain": [
       "['jai', 'shambhu', 30]"
      ]
     },
     "execution_count": 104,
     "metadata": {},
     "output_type": "execute_result"
    }
   ],
   "source": [
    "f =[10,20,'jai','shambhu',30,40]\n",
    "f[-4:-1]"
   ]
  },
  {
   "cell_type": "markdown",
   "id": "e42154d5",
   "metadata": {},
   "source": [
    "### Nested List"
   ]
  },
  {
   "cell_type": "code",
   "execution_count": 105,
   "id": "96d27c2f",
   "metadata": {},
   "outputs": [
    {
     "name": "stdout",
     "output_type": "stream",
     "text": [
      "20\n",
      "[50, 60, 70, 80]\n",
      "60\n",
      "[20, 30, 40, [50, 60, 70, 80]]\n"
     ]
    }
   ],
   "source": [
    "f =[10,20,30,40,[50,60,70,80]]\n",
    "print(f[1])\n",
    "print(f[4])\n",
    "print(f[4][1])\n",
    "print(f[1:5])"
   ]
  },
  {
   "cell_type": "code",
   "execution_count": 106,
   "id": "25e4ef1d",
   "metadata": {},
   "outputs": [
    {
     "data": {
      "text/plain": [
       "[10, 20, 30, 40, [50, 60, 70, 90]]"
      ]
     },
     "execution_count": 106,
     "metadata": {},
     "output_type": "execute_result"
    }
   ],
   "source": [
    "f =[10,20,30,40,[50,60,70,80]]\n",
    "f[4][3]=90\n",
    "f"
   ]
  },
  {
   "cell_type": "code",
   "execution_count": 107,
   "id": "6e7513b9",
   "metadata": {},
   "outputs": [
    {
     "name": "stdout",
     "output_type": "stream",
     "text": [
      "[10, 20, 30, 40]\n",
      "[50, 60, 70, 80]\n"
     ]
    }
   ],
   "source": [
    "f =[[10,20,30,40],[50,60,70,80]]\n",
    "print(f[0])\n",
    "print(f[1])"
   ]
  },
  {
   "cell_type": "code",
   "execution_count": 108,
   "id": "8a2d91b0",
   "metadata": {},
   "outputs": [
    {
     "name": "stdout",
     "output_type": "stream",
     "text": [
      "4 0 50\n",
      "4 1 60\n",
      "4 2 70\n",
      "4 3 80\n",
      "4 [50, 60, 70, 80]\n"
     ]
    }
   ],
   "source": [
    "f =[10,20,30,40,[50,60,70,80]]\n",
    "n=len(f)\n",
    "for i in range(n):\n",
    "    if type(f[i]) is list:\n",
    "        if len(f[i])>1:\n",
    "            k=len(f[i])\n",
    "        for j in range(k):\n",
    "            print(i,j,f[i][j])\n",
    "        else:\n",
    "            print(i,f[i])"
   ]
  },
  {
   "cell_type": "code",
   "execution_count": 109,
   "id": "4fc583d2",
   "metadata": {},
   "outputs": [
    {
     "name": "stdout",
     "output_type": "stream",
     "text": [
      "10\n",
      "20\n",
      "30\n",
      "40\n",
      "\n",
      "50\n",
      "60\n",
      "70\n",
      "80\n",
      "\n"
     ]
    }
   ],
   "source": [
    "f =[[10,20,30,40],[50,60,70,80]]\n",
    "\n",
    "for i in f:\n",
    "    for j in i:\n",
    "        print(j)\n",
    "    print()"
   ]
  },
  {
   "cell_type": "code",
   "execution_count": 110,
   "id": "df82ebf9",
   "metadata": {},
   "outputs": [
    {
     "name": "stdout",
     "output_type": "stream",
     "text": [
      "0 0 10\n",
      "0 1 20\n",
      "0 2 30\n",
      "0 3 40\n",
      "\n",
      "1 0 50\n",
      "1 1 60\n",
      "1 2 70\n",
      "1 3 80\n",
      "\n"
     ]
    }
   ],
   "source": [
    "f =[[10,20,30,40],[50,60,70,80]]\n",
    "n =len(f)\n",
    "for i in range(n):\n",
    "    \n",
    "    for j in range(len(f[i])):\n",
    "        print(i,j,f[i][j])\n",
    "    print()"
   ]
  },
  {
   "cell_type": "code",
   "execution_count": 111,
   "id": "a0c70c2d",
   "metadata": {},
   "outputs": [
    {
     "name": "stdout",
     "output_type": "stream",
     "text": [
      "0 0 10\n",
      "0 1 20\n",
      "0 2 30\n",
      "0 3 40\n",
      "1 0 50\n",
      "1 1 60\n",
      "1 2 70\n",
      "1 3 80\n"
     ]
    }
   ],
   "source": [
    "f =[[10,20,30,40],[50,60,70,80]]\n",
    "n =len(f)\n",
    "i =0\n",
    "while i<n:\n",
    "    j=0\n",
    "    while j<len(f[i]):\n",
    "        print(i,j,f[i][j])\n",
    "        j+=1\n",
    "    i+=1"
   ]
  },
  {
   "cell_type": "markdown",
   "id": "ffe23866",
   "metadata": {},
   "source": [
    "### passing a list to function\n"
   ]
  },
  {
   "cell_type": "code",
   "execution_count": 112,
   "id": "20036fb5",
   "metadata": {},
   "outputs": [],
   "source": [
    "def show(l):\n",
    "    print(l)\n",
    "    print(type(l))\n",
    "    for i in l:\n",
    "        print(i)\n",
    "lst= [10,20,30,40,\"yash\"]"
   ]
  },
  {
   "cell_type": "code",
   "execution_count": 113,
   "id": "74e92698",
   "metadata": {},
   "outputs": [
    {
     "name": "stdout",
     "output_type": "stream",
     "text": [
      "[10, 20, 30, 40, 'yash']\n",
      "<class 'list'>\n",
      "10\n",
      "20\n",
      "30\n",
      "40\n",
      "yash\n"
     ]
    }
   ],
   "source": [
    "show(lst)"
   ]
  },
  {
   "cell_type": "code",
   "execution_count": 114,
   "id": "19dcffb4",
   "metadata": {},
   "outputs": [
    {
     "name": "stdout",
     "output_type": "stream",
     "text": [
      "[10, 20, 30, 'veer']\n",
      "<class 'list'>\n",
      "10\n",
      "20\n",
      "30\n",
      "veer\n",
      "[10, 20, 30, 'veer']\n",
      "<class 'list'>\n"
     ]
    }
   ],
   "source": [
    "def show(l):\n",
    "    print(l)\n",
    "    print(type(l))\n",
    "    for i in l:\n",
    "        print(i)\n",
    "    return l\n",
    "\n",
    "lst = [10,20,30,'veer']\n",
    "new_lst =show(lst)\n",
    "print(new_lst)\n",
    "print(type(new_lst))"
   ]
  },
  {
   "cell_type": "code",
   "execution_count": 115,
   "id": "9e0042db",
   "metadata": {},
   "outputs": [
    {
     "name": "stdout",
     "output_type": "stream",
     "text": [
      "[0, 1, 2, 3, 4, 5]\n"
     ]
    }
   ],
   "source": [
    "a = list(range(0,6))\n",
    "print(a)"
   ]
  },
  {
   "cell_type": "markdown",
   "id": "daddb155",
   "metadata": {},
   "source": [
    "# Tuple"
   ]
  },
  {
   "cell_type": "code",
   "execution_count": 116,
   "id": "5e9decfe",
   "metadata": {},
   "outputs": [
    {
     "data": {
      "text/plain": [
       "tuple"
      ]
     },
     "execution_count": 116,
     "metadata": {},
     "output_type": "execute_result"
    }
   ],
   "source": [
    "t =()\n",
    "type(t)"
   ]
  },
  {
   "cell_type": "code",
   "execution_count": 117,
   "id": "f881a115",
   "metadata": {},
   "outputs": [
    {
     "name": "stdout",
     "output_type": "stream",
     "text": [
      "(10, 20, 30, 40, 50)\n"
     ]
    },
    {
     "data": {
      "text/plain": [
       "tuple"
      ]
     },
     "execution_count": 117,
     "metadata": {},
     "output_type": "execute_result"
    }
   ],
   "source": [
    "T =(10,20,30,40,50)\n",
    "print(T)\n",
    "type(T)"
   ]
  },
  {
   "cell_type": "code",
   "execution_count": 118,
   "id": "839e8d76",
   "metadata": {},
   "outputs": [
    {
     "name": "stdout",
     "output_type": "stream",
     "text": [
      "0 - 10\n",
      "1 - 20\n",
      "2 - 30\n",
      "3 - 40\n",
      "4 - 50\n"
     ]
    }
   ],
   "source": [
    "T =(10,20,30,40,50)\n",
    "n =len(T)\n",
    "\n",
    "for i in range(n):\n",
    "    print(i,\"-\",T[i])"
   ]
  },
  {
   "cell_type": "code",
   "execution_count": 119,
   "id": "49160fd8",
   "metadata": {},
   "outputs": [
    {
     "name": "stdout",
     "output_type": "stream",
     "text": [
      "0 - 10\n",
      "1 - 20\n",
      "2 - 30\n",
      "3 - 40\n",
      "4 - 50\n"
     ]
    }
   ],
   "source": [
    "T =(10,20,30,40,50)\n",
    "n =len(T)\n",
    "i=0\n",
    "\n",
    "while i<n:\n",
    "    print(i,\"-\",T[i])\n",
    "    i +=1"
   ]
  },
  {
   "cell_type": "code",
   "execution_count": 120,
   "id": "f0137813",
   "metadata": {},
   "outputs": [
    {
     "name": "stdout",
     "output_type": "stream",
     "text": [
      "enter number of elements:6\n",
      "enter elements:4\n",
      "enter elements:8\n",
      "enter elements:6\n",
      "enter elements:2\n",
      "enter elements:5\n",
      "enter elements:9\n",
      "<class 'list'>\n",
      "<class 'tuple'>\n",
      "tuple:\n",
      "4\n",
      "8\n",
      "6\n",
      "2\n",
      "5\n",
      "9\n"
     ]
    }
   ],
   "source": [
    "tup = []\n",
    "n = int(input(\"enter number of elements:\"))\n",
    "\n",
    "for i in range(n):\n",
    "    tup.append(int(input(\"enter elements:\")))\n",
    "    \n",
    "    \n",
    "print(type(tup))\n",
    "b = tuple(tup)\n",
    "print(type(b))\n",
    "\n",
    "print(\"tuple:\")\n",
    "for element in tup:\n",
    "    print(element)"
   ]
  },
  {
   "cell_type": "markdown",
   "id": "4ead07f8",
   "metadata": {},
   "source": [
    "# Set"
   ]
  },
  {
   "cell_type": "code",
   "execution_count": 121,
   "id": "abf05323",
   "metadata": {},
   "outputs": [
    {
     "name": "stdout",
     "output_type": "stream",
     "text": [
      "set()\n"
     ]
    },
    {
     "data": {
      "text/plain": [
       "set"
      ]
     },
     "execution_count": 121,
     "metadata": {},
     "output_type": "execute_result"
    }
   ],
   "source": [
    "S = set()\n",
    "print(S)\n",
    "type(S)"
   ]
  },
  {
   "cell_type": "code",
   "execution_count": 122,
   "id": "c8437c9e",
   "metadata": {},
   "outputs": [
    {
     "name": "stdout",
     "output_type": "stream",
     "text": [
      "{'yash', 10, 20, 'rathore'}\n"
     ]
    }
   ],
   "source": [
    "S ={10,20,\"yash\"}\n",
    "S.add('rathore')\n",
    "print(S)"
   ]
  },
  {
   "cell_type": "code",
   "execution_count": 123,
   "id": "d9987f6a",
   "metadata": {},
   "outputs": [
    {
     "name": "stdout",
     "output_type": "stream",
     "text": [
      "{'yash', 10, 20}\n",
      "<class 'set'>\n"
     ]
    }
   ],
   "source": [
    "S ={10,20,\"yash\"}\n",
    "print(S)\n",
    "print(type(S))"
   ]
  },
  {
   "cell_type": "code",
   "execution_count": 124,
   "id": "c7e626a1",
   "metadata": {},
   "outputs": [
    {
     "name": "stdout",
     "output_type": "stream",
     "text": [
      "{40, 10, 'yash', 20, 30, 'raj'}\n"
     ]
    }
   ],
   "source": [
    "S ={10,20,\"yash\"}\n",
    "S.update((30,40,\"raj\"))\n",
    "print(S)"
   ]
  },
  {
   "cell_type": "code",
   "execution_count": 125,
   "id": "83b5b414",
   "metadata": {},
   "outputs": [
    {
     "name": "stdout",
     "output_type": "stream",
     "text": [
      "enter number of elements:4\n",
      "enter element:5\n",
      "enter element:6\n",
      "enter element:7\n",
      "enter element:8\n",
      "5\n",
      "6\n",
      "8\n",
      "7\n"
     ]
    }
   ],
   "source": [
    "s = set()\n",
    "n = int(input(\"enter number of elements:\"))\n",
    "\n",
    "for i in range(n):\n",
    "    a = input(\"enter element:\")\n",
    "    s.add(a)\n",
    "    \n",
    "for i in s:\n",
    "    print(i)"
   ]
  },
  {
   "cell_type": "code",
   "execution_count": 126,
   "id": "2e4d32f9",
   "metadata": {},
   "outputs": [
    {
     "name": "stdout",
     "output_type": "stream",
     "text": [
      "{'yash', 10, 20, 50}\n",
      "2027707783872\n",
      "\n",
      "after copy {'yash', 10, 20, 50}\n",
      "2027707783872\n"
     ]
    }
   ],
   "source": [
    "S ={10,20,\"yash\",50}\n",
    "print(S)\n",
    "print(id(S))\n",
    "print()\n",
    "\n",
    "new =S.copy()\n",
    "print(\"after copy\",new)\n",
    "print(id(S))"
   ]
  },
  {
   "cell_type": "markdown",
   "id": "0ee81c3c",
   "metadata": {},
   "source": [
    "### Dictionary"
   ]
  },
  {
   "cell_type": "code",
   "execution_count": 127,
   "id": "8abb2e4b",
   "metadata": {},
   "outputs": [
    {
     "name": "stdout",
     "output_type": "stream",
     "text": [
      "{10: 'yash', 20: 'pranshul', 30: 'radhika'}\n",
      "pranshul\n",
      "radhika\n"
     ]
    }
   ],
   "source": [
    "dic = {10:\"yash\",20:\"pranshul\",30:\"radhika\"}\n",
    "print(dic)\n",
    "print(dic[20])\n",
    "print(dic[30])"
   ]
  },
  {
   "cell_type": "markdown",
   "id": "76e7c5d0",
   "metadata": {},
   "source": [
    "### Modify"
   ]
  },
  {
   "cell_type": "code",
   "execution_count": 128,
   "id": "02b85495",
   "metadata": {},
   "outputs": [
    {
     "name": "stdout",
     "output_type": "stream",
     "text": [
      "before modification:\n",
      "{10: 'yash', 20: 'pranshul', 30: 'radhika'}\n",
      "2027707847488\n",
      "\n",
      "after modification:\n",
      "{10: 'pinky', 20: 'pranshul', 30: 'radhika'}\n",
      "2027707847488\n"
     ]
    }
   ],
   "source": [
    "my_dic = {10:\"yash\",20:\"pranshul\",30:\"radhika\"}\n",
    "print(\"before modification:\")\n",
    "print(my_dic)\n",
    "print(id(my_dic))\n",
    "print()\n",
    "\n",
    "my_dic[10]=\"pinky\"\n",
    "print(\"after modification:\")\n",
    "print(my_dic)\n",
    "print(id(my_dic))"
   ]
  },
  {
   "cell_type": "markdown",
   "id": "d7c22e85",
   "metadata": {},
   "source": [
    "### Addition"
   ]
  },
  {
   "cell_type": "code",
   "execution_count": 129,
   "id": "3e143cbb",
   "metadata": {},
   "outputs": [
    {
     "name": "stdout",
     "output_type": "stream",
     "text": [
      "before adding:\n",
      "{10: 'pinky', 20: 'pranshul', 30: 'radhika'}\n",
      "\n",
      "after adding:\n",
      "{10: 'pinky', 20: 'pranshul', 30: 'radhika', 40: 'yash'}\n"
     ]
    }
   ],
   "source": [
    "my_dic1 = {10: 'pinky', 20: 'pranshul', 30: 'radhika'}\n",
    "print(\"before adding:\")\n",
    "print(my_dic1)\n",
    "print()\n",
    "\n",
    "my_dic1[40]=\"yash\"\n",
    "print(\"after adding:\")\n",
    "print(my_dic1)"
   ]
  },
  {
   "cell_type": "markdown",
   "id": "1197103f",
   "metadata": {},
   "source": [
    "### Delete"
   ]
  },
  {
   "cell_type": "code",
   "execution_count": 130,
   "id": "83e6baad",
   "metadata": {},
   "outputs": [
    {
     "name": "stdout",
     "output_type": "stream",
     "text": [
      "before deleting:\n",
      "{10: 'pinky', 20: 'pranshul', 30: 'radhika', 40: 'yash'}\n",
      "\n",
      "after deleting:\n",
      "{10: 'pinky', 20: 'pranshul', 40: 'yash'}\n",
      "\n"
     ]
    }
   ],
   "source": [
    "my_dic2 = {10: 'pinky', 20: 'pranshul', 30: 'radhika', 40: 'yash'}\n",
    "print(\"before deleting:\")\n",
    "print(my_dic2)\n",
    "print()\n",
    "\n",
    "del my_dic2[30]\n",
    "print(\"after deleting:\")\n",
    "print(my_dic2)\n",
    "print()"
   ]
  },
  {
   "cell_type": "markdown",
   "id": "34744b57",
   "metadata": {},
   "source": [
    "### Testing key"
   ]
  },
  {
   "cell_type": "code",
   "execution_count": 131,
   "id": "8b985714",
   "metadata": {},
   "outputs": [
    {
     "name": "stdout",
     "output_type": "stream",
     "text": [
      "True\n"
     ]
    }
   ],
   "source": [
    "my_dic2 = {10: 'pinky', 20: 'pranshul', 30: 'radhika', 40: 'yash'}\n",
    "print(20 in my_dic2)"
   ]
  },
  {
   "cell_type": "code",
   "execution_count": 132,
   "id": "4b1d6a9f",
   "metadata": {},
   "outputs": [
    {
     "name": "stdout",
     "output_type": "stream",
     "text": [
      "False\n"
     ]
    }
   ],
   "source": [
    "my_dic2 = {10: 'pinky', 20: 'pranshul', 30: 'radhika', 40: 'yash'}\n",
    "print(30 not in my_dic2)"
   ]
  },
  {
   "cell_type": "markdown",
   "id": "5dc9bdd5",
   "metadata": {},
   "source": [
    "### Clear"
   ]
  },
  {
   "cell_type": "code",
   "execution_count": 133,
   "id": "4083af00",
   "metadata": {},
   "outputs": [
    {
     "name": "stdout",
     "output_type": "stream",
     "text": [
      "before clear:\n",
      "{10: 'pinky', 20: 'pranshul', 30: 'radhika', 40: 'yash'}\n",
      "\n",
      "After clear:\n",
      "{10: 'pinky', 20: 'pranshul', 30: 'radhika'}\n",
      "\n"
     ]
    }
   ],
   "source": [
    "my_dic2 = {10: 'pinky', 20: 'pranshul', 30: 'radhika', 40: 'yash'}\n",
    "print(\"before clear:\")\n",
    "print(my_dic2)\n",
    "print()\n",
    "\n",
    "my_dic2.clear()\n",
    "print(\"After clear:\")\n",
    "print(my_dic)\n",
    "print()"
   ]
  },
  {
   "cell_type": "markdown",
   "id": "1a5ec4de",
   "metadata": {},
   "source": [
    "### Copy"
   ]
  },
  {
   "cell_type": "code",
   "execution_count": 134,
   "id": "4d91ba98",
   "metadata": {},
   "outputs": [
    {
     "name": "stdout",
     "output_type": "stream",
     "text": [
      "original dic:\n",
      "{10: 'pinky', 20: 'pranshul', 30: 'radhika', 40: 'yash'}\n",
      "2027707847616\n",
      "\n",
      "copy dic:\n",
      "{10: 'pinky', 20: 'pranshul', 30: 'radhika', 40: 'yash'}\n",
      "2027707758144\n",
      "\n"
     ]
    }
   ],
   "source": [
    "my_dic2 = {10: 'pinky', 20: 'pranshul', 30: 'radhika', 40: 'yash'}\n",
    "print(\"original dic:\")\n",
    "print(my_dic2)\n",
    "print(id(my_dic2))\n",
    "print()\n",
    "\n",
    "new = my_dic2.copy()\n",
    "print(\"copy dic:\")\n",
    "print(new)\n",
    "print(id(new))\n",
    "print()"
   ]
  },
  {
   "cell_type": "markdown",
   "id": "156eeec4",
   "metadata": {},
   "source": [
    "### item"
   ]
  },
  {
   "cell_type": "code",
   "execution_count": 135,
   "id": "2534d11e",
   "metadata": {},
   "outputs": [
    {
     "name": "stdout",
     "output_type": "stream",
     "text": [
      "original dic:\n",
      "{10: 'pinky', 20: 'pranshul', 30: 'radhika', 40: 'yash'}\n",
      "\n",
      "dict_items([(10, 'pinky'), (20, 'pranshul'), (30, 'radhika'), (40, 'yash')])\n",
      "<class 'dict_items'>\n",
      "10\n",
      "pinky\n",
      "20\n",
      "pranshul\n",
      "30\n",
      "radhika\n",
      "40\n",
      "yash\n"
     ]
    }
   ],
   "source": [
    "my_dic2 = {10: 'pinky', 20: 'pranshul', 30: 'radhika', 40: 'yash'}\n",
    "print(\"original dic:\")\n",
    "print(my_dic2)\n",
    "print()\n",
    "\n",
    "dic = my_dic2.items()\n",
    "print(dic)\n",
    "print(type(dic))\n",
    "\n",
    "for i in dic:\n",
    "    for j in i:\n",
    "        print(j)"
   ]
  },
  {
   "cell_type": "markdown",
   "id": "69bf3d9a",
   "metadata": {},
   "source": [
    "### keys"
   ]
  },
  {
   "cell_type": "code",
   "execution_count": 136,
   "id": "145245a8",
   "metadata": {},
   "outputs": [
    {
     "name": "stdout",
     "output_type": "stream",
     "text": [
      "original dic:\n",
      "{10: 'pinky', 20: 'pranshul', 30: 'radhika', 40: 'yash'}\n",
      "2027707909440\n",
      "\n",
      "dict_keys([10, 20, 30, 40])\n",
      "<class 'dict_keys'>\n"
     ]
    }
   ],
   "source": [
    "my_dic2 = {10: 'pinky', 20: 'pranshul', 30: 'radhika', 40: 'yash'}\n",
    "print(\"original dic:\")\n",
    "print(my_dic2)\n",
    "print(id(my_dic2))\n",
    "print()\n",
    "\n",
    "all_keys = my_dic2.keys()\n",
    "print(all_keys)\n",
    "print(type(all_keys))"
   ]
  },
  {
   "cell_type": "markdown",
   "id": "9aaa0558",
   "metadata": {},
   "source": [
    "### Values"
   ]
  },
  {
   "cell_type": "code",
   "execution_count": 137,
   "id": "ea3418f7",
   "metadata": {},
   "outputs": [
    {
     "name": "stdout",
     "output_type": "stream",
     "text": [
      "original dic:\n",
      "{10: 'pinky', 20: 'pranshul', 30: 'radhika', 40: 'yash'}\n",
      "\n",
      "dict_values(['pinky', 'pranshul', 'radhika', 'yash'])\n",
      "<class 'dict_values'>\n"
     ]
    }
   ],
   "source": [
    "my_dic2 = {10: 'pinky', 20: 'pranshul', 30: 'radhika', 40: 'yash'}\n",
    "print(\"original dic:\")\n",
    "print(my_dic2)\n",
    "print()\n",
    "\n",
    "all_keys =my_dic2.values()\n",
    "print(all_keys)\n",
    "print(type(all_keys))"
   ]
  },
  {
   "cell_type": "markdown",
   "id": "7cc5b309",
   "metadata": {},
   "source": [
    "### Update"
   ]
  },
  {
   "cell_type": "code",
   "execution_count": 138,
   "id": "de1e1370",
   "metadata": {},
   "outputs": [
    {
     "name": "stdout",
     "output_type": "stream",
     "text": [
      "original dic:\n",
      "{10: 'pinky', 20: 'pranshul', 30: 'radhika', 40: 'yash'}\n",
      "\n",
      "after update:\n",
      "{10: 'pinky', 20: 'pranshul', 30: 'radhika', 40: 'yash', 50: 'sumit'}\n"
     ]
    }
   ],
   "source": [
    "my_dic2 = {10: 'pinky', 20: 'pranshul', 30: 'radhika', 40: 'yash'}\n",
    "print(\"original dic:\")\n",
    "print(my_dic2)\n",
    "print()\n",
    "\n",
    "my_dic2.update({50:\"sumit\"})\n",
    "print(\"after update:\")\n",
    "print(my_dic2)"
   ]
  },
  {
   "cell_type": "markdown",
   "id": "53eb4606",
   "metadata": {},
   "source": [
    "### Pop"
   ]
  },
  {
   "cell_type": "code",
   "execution_count": 139,
   "id": "1a25acb9",
   "metadata": {},
   "outputs": [
    {
     "name": "stdout",
     "output_type": "stream",
     "text": [
      "original dic:\n",
      "{10: 'pinky', 20: 'pranshul', 30: 'radhika', 40: 'yash'}\n",
      "\n",
      "after pop:\n",
      "{20: 'pranshul', 30: 'radhika', 40: 'yash'}\n"
     ]
    }
   ],
   "source": [
    "my_dic2 = {10: 'pinky', 20: 'pranshul', 30: 'radhika', 40: 'yash'}\n",
    "print(\"original dic:\")\n",
    "print(my_dic2)\n",
    "print()\n",
    "\n",
    "my_dic2.pop(10)\n",
    "print(\"after pop:\")\n",
    "print(my_dic2)"
   ]
  },
  {
   "cell_type": "markdown",
   "id": "59d69ae2",
   "metadata": {},
   "source": [
    "### for loop using dict"
   ]
  },
  {
   "cell_type": "code",
   "execution_count": 140,
   "id": "9bede80f",
   "metadata": {},
   "outputs": [
    {
     "name": "stdout",
     "output_type": "stream",
     "text": [
      "10\n",
      "20\n",
      "30\n",
      "40\n",
      "10 - pinky\n",
      "20 - pranshul\n",
      "30 - radhika\n",
      "40 - yash\n"
     ]
    }
   ],
   "source": [
    "my_dic2 = {10: 'pinky', 20: 'pranshul', 30: 'radhika', 40: 'yash'}\n",
    "\n",
    "for i in my_dic2:\n",
    "    print(i)\n",
    "    \n",
    "for i in my_dic2:\n",
    "    print(i,\"-\",my_dic2[i])"
   ]
  },
  {
   "cell_type": "markdown",
   "id": "d1389ff6",
   "metadata": {},
   "source": [
    "### input by user dictionary"
   ]
  },
  {
   "cell_type": "code",
   "execution_count": 141,
   "id": "7b8fe7e1",
   "metadata": {},
   "outputs": [
    {
     "name": "stdout",
     "output_type": "stream",
     "text": [
      "enter number of element:4\n",
      "enter keys:yash\n",
      "enter values:40\n",
      "enter keys:yogesh\n",
      "enter values:60\n",
      "enter keys:ajay\n",
      "enter values:30\n",
      "enter keys:sharad\n",
      "enter values:80\n",
      "{'yash': '40', 'yogesh': '60', 'ajay': '30', 'sharad': '80'}\n"
     ]
    }
   ],
   "source": [
    "emp_dic = {}\n",
    "n = int(input(\"enter number of element:\"))\n",
    "\n",
    "for i in range(n):\n",
    "    k=input(\"enter keys:\")\n",
    "    v=input(\"enter values:\")\n",
    "    emp_dic.update({k:v})\n",
    "    \n",
    "print(emp_dic)"
   ]
  },
  {
   "cell_type": "markdown",
   "id": "1ab22c0e",
   "metadata": {},
   "source": [
    "### Nested dictionary\n"
   ]
  },
  {
   "cell_type": "code",
   "execution_count": 142,
   "id": "cff30380",
   "metadata": {},
   "outputs": [
    {
     "name": "stdout",
     "output_type": "stream",
     "text": [
      "{'course': 'python', 'fees': 1000, 'd': {'course': 'java', 'fees': 2000}}\n",
      "python\n",
      "1000\n",
      "\n",
      "{'course': 'java', 'fees': 2000}\n",
      "java\n",
      "2000\n"
     ]
    }
   ],
   "source": [
    "dic = {\"course\":'python','fees':1000,'d':{\"course\":'java','fees':2000}}\n",
    "print(dic)\n",
    "print(dic['course'])\n",
    "print(dic['fees'])\n",
    "print()\n",
    "\n",
    "print(dic['d'])\n",
    "print(dic['d']['course'])\n",
    "print(dic['d']['fees'])"
   ]
  },
  {
   "cell_type": "markdown",
   "id": "635fcd22",
   "metadata": {},
   "source": [
    "### Modify"
   ]
  },
  {
   "cell_type": "code",
   "execution_count": 143,
   "id": "4937e878",
   "metadata": {},
   "outputs": [
    {
     "name": "stdout",
     "output_type": "stream",
     "text": [
      "{'course': 'python', 'fees': 1000, 'd': {'course': 'java', 'fees': 2000}}\n",
      "\n",
      "{'course': 'Machine learning', 'fees': 1000, 'd': {'course': 'java', 'fees': 2000}}\n",
      "\n",
      "{'course': 'Machine learning', 'fees': 1000, 'd': {'course': 'java', 'fees': 5000}}\n",
      "\n",
      "{'course': 'Machine learning', 'fees': 1000, 'd': {'course': 'java', 'fees': 5000}, 'duration': '6 month'}\n",
      "\n",
      "{'course': 'Machine learning', 'fees': 1000, 'd': {'course': 'java', 'fees': 5000, 'time': ' 3 hrs'}, 'duration': '6 month'}\n",
      "\n",
      "{'course': 'Machine learning', 'fees': 1000, 'd': {'course': 'java', 'fees': 5000, 'time': ' 3 hrs'}, 'duration': '6 month', 'c': {'course': 'big data', 'fees': 8000}}\n",
      "\n"
     ]
    }
   ],
   "source": [
    "dic = {\"course\":'python','fees':1000,'d':{\"course\":'java','fees':2000}}\n",
    "print(dic)\n",
    "print()\n",
    "\n",
    "dic['course'] = \"Machine learning\"\n",
    "print(dic)\n",
    "print()\n",
    "\n",
    "dic['d']['fees'] = 5000\n",
    "print(dic)\n",
    "print()\n",
    "\n",
    "dic['duration'] = \"6 month\"\n",
    "print(dic)\n",
    "print()\n",
    "\n",
    "dic['d']['time'] = \" 3 hrs\"\n",
    "print(dic)\n",
    "print()\n",
    "\n",
    "dic['c'] = {\"course\":'big data','fees':8000}\n",
    "print(dic)\n",
    "print()"
   ]
  },
  {
   "cell_type": "markdown",
   "id": "7d082f1f",
   "metadata": {},
   "source": [
    "### Nested dict using for loop"
   ]
  },
  {
   "cell_type": "code",
   "execution_count": 144,
   "id": "dece04e3",
   "metadata": {},
   "outputs": [
    {
     "name": "stdout",
     "output_type": "stream",
     "text": [
      "course\n",
      "fees\n",
      "d\n",
      "\n",
      "course - python\n",
      "fees - 1000\n",
      "course - java\n",
      "fees - 2000\n"
     ]
    }
   ],
   "source": [
    "dic = {\"course\":'python','fees':1000,'d':{\"course\":'java','fees':2000}}\n",
    "\n",
    "for i in dic:\n",
    "    print(i)\n",
    "print()\n",
    "\n",
    "for i in dic:\n",
    "    if type(dic[i]) is dict:\n",
    "        for k in dic[i]:\n",
    "            print(k,\"-\",dic[i][k])\n",
    "    else:\n",
    "        print(i,\"-\",dic[i])"
   ]
  },
  {
   "cell_type": "markdown",
   "id": "3d3c0d80",
   "metadata": {},
   "source": [
    "### List Comprehension"
   ]
  },
  {
   "cell_type": "code",
   "execution_count": 145,
   "id": "ce1599e0",
   "metadata": {},
   "outputs": [
    {
     "name": "stdout",
     "output_type": "stream",
     "text": [
      "without comprehension:\n",
      "[1, 2, 3, 4, 5, 6, 7, 8, 9, 10, 11]\n",
      "\n",
      "with comprehension:\n",
      "[2, 3, 4, 5, 6, 7, 8, 9, 10, 11, 12, 13]\n"
     ]
    }
   ],
   "source": [
    "lst1 = [0,1,2,3,4,5,6,7,8,9,10]\n",
    "new_lst = []\n",
    "print(\"without comprehension:\")\n",
    "for i in lst1:\n",
    "    new_lst.append(i+1)\n",
    "print(new_lst)\n",
    "print()\n",
    "\n",
    "lst2 = [1,2,3,4,5,6,7,8,9,10,11,12]\n",
    "print(\"with comprehension:\")\n",
    "new_lst2 = [i+1 for i in lst2]\n",
    "print(new_lst2)"
   ]
  },
  {
   "cell_type": "code",
   "execution_count": 146,
   "id": "5aa04435",
   "metadata": {},
   "outputs": [
    {
     "name": "stdout",
     "output_type": "stream",
     "text": [
      "[0, 1, 2, 3, 4, 5, 6, 7, 8, 9]\n"
     ]
    }
   ],
   "source": [
    "new_lst3 = [i+0 for i in range(10)]\n",
    "print(new_lst3)"
   ]
  },
  {
   "cell_type": "code",
   "execution_count": 147,
   "id": "6e1dfc8e",
   "metadata": {},
   "outputs": [
    {
     "name": "stdout",
     "output_type": "stream",
     "text": [
      "[0, 2, 4, 6, 8, 10, 12, 14, 16, 18]\n",
      "\n",
      "[0, 2, 4, 6, 8, 10, 12, 14, 16, 18]\n"
     ]
    }
   ],
   "source": [
    "lst = []\n",
    "for i in range(20):\n",
    "    if(i%2==0):\n",
    "        lst.append(i)\n",
    "        \n",
    "print(lst)\n",
    "print()\n",
    "\n",
    "lst2 = [i for i in range(20) if i%2==0] \n",
    "print(lst2)"
   ]
  },
  {
   "cell_type": "markdown",
   "id": "4ebc4271",
   "metadata": {},
   "source": [
    "### With nested list comprehension"
   ]
  },
  {
   "cell_type": "code",
   "execution_count": 148,
   "id": "273d5aa3",
   "metadata": {},
   "outputs": [
    {
     "name": "stdout",
     "output_type": "stream",
     "text": [
      "[0, 'invalid', 2, 'invalid', 4, 'invalid', 6, 'invalid', 8, 'invalid']\n",
      "\n",
      "[0, 'invalid', 2, 'invalid', 4, 'invalid', 6, 'invalid', 8, 'invalid']\n"
     ]
    }
   ],
   "source": [
    "lst = []\n",
    "for i in range(10):\n",
    "    if (i%2==0):\n",
    "        lst.append(i)\n",
    "    else:\n",
    "        lst.append(\"invalid\")\n",
    "print(lst)\n",
    "print()\n",
    "\n",
    "lst2 = [i if i%2==0 else \"invalid\" for i in range(10)]\n",
    "print(lst2)"
   ]
  },
  {
   "cell_type": "markdown",
   "id": "bed1f011",
   "metadata": {},
   "source": [
    "### dictionary comprehension"
   ]
  },
  {
   "cell_type": "code",
   "execution_count": 149,
   "id": "4636b032",
   "metadata": {},
   "outputs": [
    {
     "data": {
      "text/plain": [
       "{0: 0, 1: 1, 2: 4, 3: 9, 4: 16, 5: 25, 6: 36, 7: 49, 8: 64, 9: 81}"
      ]
     },
     "execution_count": 149,
     "metadata": {},
     "output_type": "execute_result"
    }
   ],
   "source": [
    "{x:x**2 for x in range(10)}"
   ]
  },
  {
   "cell_type": "code",
   "execution_count": 150,
   "id": "d8ef58ae",
   "metadata": {},
   "outputs": [
    {
     "name": "stdout",
     "output_type": "stream",
     "text": [
      "['data', 'science', 'machine', 'learning']\n"
     ]
    },
    {
     "data": {
      "text/plain": [
       "{'data': 4, 'science': 7, 'machine': 7, 'learning': 8}"
      ]
     },
     "execution_count": 150,
     "metadata": {},
     "output_type": "execute_result"
    }
   ],
   "source": [
    "words = ['data', 'science', 'machine','learning']\n",
    "print(words)\n",
    "\n",
    "{i :len(i) for i in words}"
   ]
  },
  {
   "cell_type": "code",
   "execution_count": 151,
   "id": "0c2d8202",
   "metadata": {},
   "outputs": [
    {
     "name": "stdout",
     "output_type": "stream",
     "text": [
      "{'data': 4, 'science': 8, 'machine': 6, 'learning': 10}\n"
     ]
    }
   ],
   "source": [
    "words = ['data', 'science', 'machine','learning']\n",
    "value = [4,8,6,10]\n",
    "\n",
    "dic1 = {i:j for i, j in zip(words,value)}\n",
    "print(dic1)"
   ]
  },
  {
   "cell_type": "markdown",
   "id": "1fca38dc",
   "metadata": {},
   "source": [
    "\n",
    "### Array"
   ]
  },
  {
   "cell_type": "code",
   "execution_count": 152,
   "id": "def5fd71",
   "metadata": {},
   "outputs": [
    {
     "name": "stdout",
     "output_type": "stream",
     "text": [
      "array('i')\n"
     ]
    }
   ],
   "source": [
    "from array import*\n",
    "stu_roll = array('i',[])\n",
    "print(stu_roll)"
   ]
  },
  {
   "cell_type": "code",
   "execution_count": 153,
   "id": "da4e8848",
   "metadata": {},
   "outputs": [
    {
     "name": "stdout",
     "output_type": "stream",
     "text": [
      "10\n",
      "20\n",
      "30\n",
      "40\n"
     ]
    }
   ],
   "source": [
    "from array import*\n",
    "stu_roll = array('i',[10,20,30,40])\n",
    "for i in stu_roll:\n",
    "    print(i)"
   ]
  },
  {
   "cell_type": "code",
   "execution_count": 154,
   "id": "171d24a0",
   "metadata": {},
   "outputs": [
    {
     "name": "stdout",
     "output_type": "stream",
     "text": [
      "0 - 10\n",
      "1 - 20\n",
      "2 - 30\n",
      "3 - 40\n"
     ]
    }
   ],
   "source": [
    "stu_roll = array('i',[10,20,30,40])\n",
    "n = len(stu_roll)\n",
    "for i in range(n):\n",
    "    print(i,\"-\",stu_roll[i])"
   ]
  },
  {
   "cell_type": "code",
   "execution_count": 155,
   "id": "977e8f23",
   "metadata": {},
   "outputs": [
    {
     "name": "stdout",
     "output_type": "stream",
     "text": [
      "0 - 10\n",
      "1 - 20\n",
      "2 - 30\n",
      "3 - 40\n"
     ]
    }
   ],
   "source": [
    "stu_roll = array('i',[10,20,30,40])\n",
    "n = len(stu_roll)\n",
    "i=0\n",
    "while i<n:\n",
    "    print(i,\"-\",stu_roll[i])\n",
    "    i =i+1"
   ]
  },
  {
   "cell_type": "markdown",
   "id": "23fd8dae",
   "metadata": {},
   "source": [
    "### Append"
   ]
  },
  {
   "cell_type": "code",
   "execution_count": 156,
   "id": "eecdc0da",
   "metadata": {},
   "outputs": [
    {
     "name": "stdout",
     "output_type": "stream",
     "text": [
      "10\n",
      "20\n",
      "30\n",
      "40\n",
      "60\n"
     ]
    }
   ],
   "source": [
    "from array import*\n",
    "stu_roll = array('i',[10,20,30,40])\n",
    "stu_roll.append(60)\n",
    "n = len(stu_roll)\n",
    "\n",
    "i =0\n",
    "while i<n:\n",
    "    print(stu_roll[i])\n",
    "    i+=1"
   ]
  },
  {
   "cell_type": "code",
   "execution_count": 157,
   "id": "431ebd97",
   "metadata": {},
   "outputs": [
    {
     "name": "stdout",
     "output_type": "stream",
     "text": [
      "enter number of element4\n",
      "enter the element:12\n",
      "array('i', [12])\n",
      "enter the element:15\n",
      "array('i', [12, 15])\n",
      "enter the element:16\n",
      "array('i', [12, 15, 16])\n",
      "enter the element:18\n",
      "array('i', [12, 15, 16, 18])\n",
      "12\n",
      "15\n",
      "16\n",
      "18\n"
     ]
    }
   ],
   "source": [
    "stu_roll = array('i',[])\n",
    "n = int(input(\"enter number of element\"))\n",
    "\n",
    "for i in range(n):\n",
    "    stu_roll.append(int(input(\"enter the element:\")))\n",
    "    print(stu_roll)\n",
    "    \n",
    "for i in range(len(stu_roll)):\n",
    "    print(stu_roll[i])"
   ]
  },
  {
   "cell_type": "code",
   "execution_count": 158,
   "id": "e878a5d4",
   "metadata": {},
   "outputs": [
    {
     "name": "stdout",
     "output_type": "stream",
     "text": [
      "enter the element:3\n",
      "enter number:5\n",
      "array('i', [5])\n",
      "enter number:4\n",
      "array('i', [5, 4])\n",
      "enter number:6\n",
      "array('i', [5, 4, 6])\n",
      "5\n",
      "4\n",
      "6\n"
     ]
    }
   ],
   "source": [
    "stu_roll = array('i',[])\n",
    "n = int(input(\"enter the element:\"))\n",
    "\n",
    "i=0\n",
    "j=0\n",
    "\n",
    "while i<n:\n",
    "    stu_roll.append(int(input(\"enter number:\")))\n",
    "    print(stu_roll)\n",
    "    i+=1\n",
    "    \n",
    "while j<len(stu_roll):\n",
    "    print(stu_roll[j])\n",
    "    j+=1"
   ]
  },
  {
   "cell_type": "markdown",
   "id": "adf5de4e",
   "metadata": {},
   "source": [
    "### Insert"
   ]
  },
  {
   "cell_type": "code",
   "execution_count": 159,
   "id": "3226f77f",
   "metadata": {},
   "outputs": [
    {
     "name": "stdout",
     "output_type": "stream",
     "text": [
      "10\n",
      "20\n",
      "30\n",
      "40\n",
      "after insertion:\n",
      "100\n",
      "200\n",
      "10\n",
      "20\n",
      "30\n",
      "40\n"
     ]
    }
   ],
   "source": [
    "stu_roll = array('i',[10,20,30,40])\n",
    "n = len(stu_roll)\n",
    "i=0\n",
    "while i<n:\n",
    "    print(stu_roll[i])\n",
    "    i+=1\n",
    "    \n",
    "print(\"after insertion:\")\n",
    "stu_roll.insert(0,100)\n",
    "stu_roll.insert(1,200)\n",
    "n = len(stu_roll)\n",
    "i=0\n",
    "while i<n:\n",
    "    print(stu_roll[i])\n",
    "    i+=1"
   ]
  },
  {
   "cell_type": "markdown",
   "id": "4fc1319b",
   "metadata": {},
   "source": [
    "### POP"
   ]
  },
  {
   "cell_type": "code",
   "execution_count": 160,
   "id": "190e71f5",
   "metadata": {},
   "outputs": [
    {
     "name": "stdout",
     "output_type": "stream",
     "text": [
      "10\n",
      "20\n",
      "30\n",
      "40\n",
      "after pop:\n",
      "remove element 20\n",
      "10\n",
      "remove element 20\n",
      "30\n",
      "remove element 20\n",
      "40\n"
     ]
    }
   ],
   "source": [
    "stu_roll = array('i',[10,20,30,40])\n",
    "n = len(stu_roll)\n",
    "i=0\n",
    "while i<n:\n",
    "    print(stu_roll[i])\n",
    "    i+=1\n",
    "    \n",
    "print(\"after pop:\")\n",
    "r = stu_roll.pop(1)\n",
    "n = len(stu_roll)\n",
    "i=0\n",
    "while i<n:\n",
    "    print(\"remove element\",r)\n",
    "    print(stu_roll[i])\n",
    "    i+=1"
   ]
  },
  {
   "cell_type": "markdown",
   "id": "1eac5f32",
   "metadata": {},
   "source": [
    "### index"
   ]
  },
  {
   "cell_type": "code",
   "execution_count": 161,
   "id": "4f50ba5d",
   "metadata": {},
   "outputs": [
    {
     "name": "stdout",
     "output_type": "stream",
     "text": [
      "1\n"
     ]
    }
   ],
   "source": [
    "stu_roll = array('i',[10,20,30,40])\n",
    "print(stu_roll.index(20))"
   ]
  },
  {
   "cell_type": "markdown",
   "id": "ce09bf6b",
   "metadata": {},
   "source": [
    "### Reverse"
   ]
  },
  {
   "cell_type": "code",
   "execution_count": 162,
   "id": "edf777ea",
   "metadata": {},
   "outputs": [
    {
     "name": "stdout",
     "output_type": "stream",
     "text": [
      "array('i', [40, 30, 20, 10])\n"
     ]
    }
   ],
   "source": [
    "stu_roll = array('i',[10,20,30,40])\n",
    "stu_roll.reverse()\n",
    "print(stu_roll)"
   ]
  },
  {
   "cell_type": "markdown",
   "id": "ed45f498",
   "metadata": {},
   "source": [
    "### Extend"
   ]
  },
  {
   "cell_type": "code",
   "execution_count": 163,
   "id": "949db9c6",
   "metadata": {},
   "outputs": [
    {
     "name": "stdout",
     "output_type": "stream",
     "text": [
      "array('i', [10, 20, 30, 40, 50, 60, 70, 80])\n"
     ]
    }
   ],
   "source": [
    "stu_roll = array('i',[10,20,30,40])\n",
    "arr = array('i',[50,60,70,80])\n",
    "stu_roll.extend(arr)\n",
    "print(stu_roll)"
   ]
  },
  {
   "cell_type": "markdown",
   "id": "fe70ebd2",
   "metadata": {},
   "source": [
    "### Slicing"
   ]
  },
  {
   "cell_type": "code",
   "execution_count": 164,
   "id": "1783e4fe",
   "metadata": {},
   "outputs": [
    {
     "name": "stdout",
     "output_type": "stream",
     "text": [
      "0 - 10\n",
      "1 - 20\n",
      "2 - 30\n",
      "3 - 40\n",
      "******\n"
     ]
    },
    {
     "data": {
      "text/plain": [
       "array('i', [10, 20, 30])"
      ]
     },
     "execution_count": 164,
     "metadata": {},
     "output_type": "execute_result"
    }
   ],
   "source": [
    "stu_roll = array('i',[10,20,30,40])\n",
    "n = len(stu_roll)\n",
    "for i in range(n):\n",
    "    print(i,\"-\",stu_roll[i])\n",
    "    \n",
    "print('******')\n",
    "stu_roll[0:3]"
   ]
  },
  {
   "cell_type": "markdown",
   "id": "26ea6f60",
   "metadata": {},
   "source": [
    "### Lambda function"
   ]
  },
  {
   "cell_type": "code",
   "execution_count": 165,
   "id": "bd47c204",
   "metadata": {},
   "outputs": [
    {
     "name": "stdout",
     "output_type": "stream",
     "text": [
      "5\n"
     ]
    }
   ],
   "source": [
    "show = lambda x :print(x)\n",
    "show(5)"
   ]
  },
  {
   "cell_type": "code",
   "execution_count": 166,
   "id": "dd5dc817",
   "metadata": {},
   "outputs": [
    {
     "name": "stdout",
     "output_type": "stream",
     "text": [
      "7\n"
     ]
    }
   ],
   "source": [
    "add = lambda x,y: x+y\n",
    "print(add(5,2))"
   ]
  },
  {
   "cell_type": "code",
   "execution_count": 167,
   "id": "2d9848b8",
   "metadata": {},
   "outputs": [
    {
     "name": "stdout",
     "output_type": "stream",
     "text": [
      "3\n"
     ]
    }
   ],
   "source": [
    "sub = lambda x,y: x-y\n",
    "print(sub(5,2))"
   ]
  },
  {
   "cell_type": "code",
   "execution_count": 168,
   "id": "2a554af3",
   "metadata": {},
   "outputs": [
    {
     "name": "stdout",
     "output_type": "stream",
     "text": [
      "(7, 3)\n"
     ]
    }
   ],
   "source": [
    "add_sub  = lambda x,y: (x+y, x-y)\n",
    "print(add_sub(5,2))"
   ]
  },
  {
   "cell_type": "code",
   "execution_count": 169,
   "id": "1b755f48",
   "metadata": {},
   "outputs": [
    {
     "name": "stdout",
     "output_type": "stream",
     "text": [
      "[20, 40, 60, 'yashyash', 'amanaman', 21.0, 41.0]\n"
     ]
    }
   ],
   "source": [
    "lst1 = [10,20,30,'yash','aman',10.5,20.5]\n",
    "new_lst = list(map(lambda x:x*2, lst1))\n",
    "print(new_lst)"
   ]
  },
  {
   "cell_type": "markdown",
   "id": "c1d1c12b",
   "metadata": {},
   "source": [
    "# Higher order fuction\n",
    "### Map fuction"
   ]
  },
  {
   "cell_type": "code",
   "execution_count": 170,
   "id": "e1b461e6",
   "metadata": {},
   "outputs": [
    {
     "name": "stdout",
     "output_type": "stream",
     "text": [
      "[12, 22, 32, 42]\n",
      "<class 'list'>\n",
      "12\n",
      "22\n",
      "32\n",
      "42\n"
     ]
    }
   ],
   "source": [
    "a = [10,20,30,40]\n",
    "\n",
    "def inc(n):\n",
    "    return n+2\n",
    "\n",
    "result = list(map(inc,a))\n",
    "print(result)\n",
    "print(type(result))\n",
    "\n",
    "for i in result:\n",
    "    print(i)"
   ]
  },
  {
   "cell_type": "code",
   "execution_count": 171,
   "id": "cf1d6cb6",
   "metadata": {},
   "outputs": [
    {
     "name": "stdout",
     "output_type": "stream",
     "text": [
      "[12, 22, 32, 42]\n",
      "<class 'list'>\n",
      "12\n",
      "22\n",
      "32\n",
      "42\n"
     ]
    }
   ],
   "source": [
    "a = [10,20,30,40]\n",
    "\n",
    "\n",
    "result = list(map(lambda n : n+2,a))\n",
    "print(result)\n",
    "print(type(result))\n",
    "\n",
    "for i in result:\n",
    "    print(i)"
   ]
  },
  {
   "cell_type": "code",
   "execution_count": 172,
   "id": "f02e662d",
   "metadata": {},
   "outputs": [
    {
     "name": "stdout",
     "output_type": "stream",
     "text": [
      "[60, 80, 100, 120]\n",
      "<class 'list'>\n",
      "60\n",
      "80\n",
      "100\n",
      "120\n"
     ]
    }
   ],
   "source": [
    "a = [10,20,30,40]\n",
    "b = [50,60,70,80]\n",
    "result = list(map(lambda n,m: n+m, a,b))\n",
    "print(result)\n",
    "print(type(result))\n",
    "\n",
    "for i in result:\n",
    "    print(i)"
   ]
  },
  {
   "cell_type": "code",
   "execution_count": 173,
   "id": "4511fe02",
   "metadata": {},
   "outputs": [
    {
     "name": "stdout",
     "output_type": "stream",
     "text": [
      "[1, 4, 9, 16, 25, 36]\n"
     ]
    }
   ],
   "source": [
    "def square(x):\n",
    "    return x*x\n",
    "\n",
    "a = list(map(square, [1,2,3,4,5,6]))\n",
    "print(a)"
   ]
  },
  {
   "cell_type": "markdown",
   "id": "e117d8f8",
   "metadata": {},
   "source": [
    "### Filter function"
   ]
  },
  {
   "cell_type": "code",
   "execution_count": 174,
   "id": "3fc04412",
   "metadata": {},
   "outputs": [
    {
     "name": "stdout",
     "output_type": "stream",
     "text": [
      "[30, 40, 50, 60]\n",
      "<class 'list'>\n",
      "30\n",
      "40\n",
      "50\n",
      "60\n"
     ]
    }
   ],
   "source": [
    "a = [10,20,30,40,50,60]\n",
    "\n",
    "def high_marks(n):\n",
    "    if n>=30:\n",
    "        return True\n",
    "\n",
    "result = list(filter(high_marks,a))\n",
    "print(result)\n",
    "print(type(result))\n",
    "\n",
    "for i in result:\n",
    "    print(i)"
   ]
  },
  {
   "cell_type": "code",
   "execution_count": 175,
   "id": "11e8403f",
   "metadata": {},
   "outputs": [
    {
     "name": "stdout",
     "output_type": "stream",
     "text": [
      "[30, 40, 50, 60]\n",
      "<class 'list'>\n",
      "30\n",
      "40\n",
      "50\n",
      "60\n"
     ]
    }
   ],
   "source": [
    "a = [10,20,30,40,50,60]\n",
    "\n",
    "\n",
    "result = list(filter(lambda n: (n>=30), a))\n",
    "print(result)\n",
    "print(type(result))\n",
    "\n",
    "for i in result:\n",
    "    print(i)"
   ]
  },
  {
   "cell_type": "code",
   "execution_count": 176,
   "id": "e1204b16",
   "metadata": {},
   "outputs": [
    {
     "name": "stdout",
     "output_type": "stream",
     "text": [
      "[5, 7, 9, 13, 15]\n",
      "5\n",
      "7\n",
      "9\n",
      "13\n",
      "15\n"
     ]
    }
   ],
   "source": [
    "a = [5,6,2,7,9,8,12,13,15]\n",
    "\n",
    "def odd_check(num):\n",
    "    if num%2!=0:\n",
    "        return True\n",
    "    \n",
    "result = list(filter(odd_check,a))\n",
    "print(result)\n",
    "\n",
    "\n",
    "for i in result:\n",
    "    print(i)"
   ]
  },
  {
   "cell_type": "code",
   "execution_count": 177,
   "id": "64376ff3",
   "metadata": {},
   "outputs": [
    {
     "name": "stdout",
     "output_type": "stream",
     "text": [
      "[5, 7, 9, 13, 15]\n",
      "5\n",
      "7\n",
      "9\n",
      "13\n",
      "15\n"
     ]
    }
   ],
   "source": [
    "a = [5,6,2,7,9,8,12,13,15]\n",
    "    \n",
    "result = list(filter(lambda n: n%2!=0, a))\n",
    "print(result)\n",
    "\n",
    "\n",
    "for i in result:\n",
    "    print(i)"
   ]
  },
  {
   "cell_type": "code",
   "execution_count": 178,
   "id": "2d8d0a9e",
   "metadata": {},
   "outputs": [
    {
     "data": {
      "text/plain": [
       "[2, 4, 6]"
      ]
     },
     "execution_count": 178,
     "metadata": {},
     "output_type": "execute_result"
    }
   ],
   "source": [
    "def even_odd(num):\n",
    "    if num%2==0:\n",
    "            return True\n",
    "        \n",
    "lst1 = [1,2,3,4,5,6]\n",
    "list(filter(even_odd, lst1))"
   ]
  },
  {
   "cell_type": "markdown",
   "id": "7049487f",
   "metadata": {},
   "source": [
    "### Reduce"
   ]
  },
  {
   "cell_type": "code",
   "execution_count": 179,
   "id": "ad7f40eb",
   "metadata": {},
   "outputs": [
    {
     "name": "stdout",
     "output_type": "stream",
     "text": [
      "77\n"
     ]
    }
   ],
   "source": [
    "from functools import reduce\n",
    "\n",
    "a = [5,6,2,7,9,8,12,13,15]\n",
    "\n",
    "result = reduce(lambda n,m: n+m, a)\n",
    "print(result)"
   ]
  },
  {
   "cell_type": "markdown",
   "id": "80c8117c",
   "metadata": {},
   "source": [
    "# Generator"
   ]
  },
  {
   "cell_type": "code",
   "execution_count": 180,
   "id": "3a700e92",
   "metadata": {},
   "outputs": [
    {
     "name": "stdout",
     "output_type": "stream",
     "text": [
      "<generator object var at 0x000001D81CD28350>\n",
      "[10, 20]\n",
      "<class 'list'>\n"
     ]
    }
   ],
   "source": [
    "def var(a,b):\n",
    "    yield a\n",
    "    yield b\n",
    "    \n",
    "result = var(10,20)\n",
    "print(result)\n",
    "\n",
    "lst = list(result)\n",
    "print(lst)\n",
    "print(type(lst))\n",
    "\n"
   ]
  },
  {
   "cell_type": "code",
   "execution_count": 181,
   "id": "5189c9d1",
   "metadata": {},
   "outputs": [
    {
     "name": "stdout",
     "output_type": "stream",
     "text": [
      "<generator object var at 0x000001D81CD28890>\n",
      "<class 'generator'>\n",
      "10\n",
      "20\n"
     ]
    }
   ],
   "source": [
    "def var(a,b):\n",
    "    yield a\n",
    "    yield b\n",
    "    \n",
    "result = var(10,20)\n",
    "print(result)\n",
    "print(type(result))\n",
    "\n",
    "print(next(result))\n",
    "print(next(result))"
   ]
  },
  {
   "cell_type": "code",
   "execution_count": 182,
   "id": "bf8765af",
   "metadata": {},
   "outputs": [
    {
     "name": "stdout",
     "output_type": "stream",
     "text": [
      "<generator object show at 0x000001D81CD28970>\n",
      "1\n",
      "2\n",
      "3\n",
      "4\n",
      "5\n",
      "6\n"
     ]
    }
   ],
   "source": [
    "def show(a,b):\n",
    "    while a<=b:\n",
    "        yield a\n",
    "        a+=1\n",
    "    \n",
    "result = show(1,6)\n",
    "print(result)\n",
    "\n",
    "print(next(result))\n",
    "print(next(result))\n",
    "print(next(result))\n",
    "print(next(result))\n",
    "print(next(result))\n",
    "print(next(result))\n"
   ]
  },
  {
   "cell_type": "markdown",
   "id": "bb050f00",
   "metadata": {},
   "source": [
    "# Function"
   ]
  },
  {
   "cell_type": "code",
   "execution_count": 183,
   "id": "7c0bd8d0",
   "metadata": {},
   "outputs": [],
   "source": [
    "def add():\n",
    "    x = 10\n",
    "    y = 20\n",
    "    c = x+y\n",
    "    print(c)"
   ]
  },
  {
   "cell_type": "code",
   "execution_count": 184,
   "id": "386da50a",
   "metadata": {},
   "outputs": [
    {
     "name": "stdout",
     "output_type": "stream",
     "text": [
      "30\n"
     ]
    }
   ],
   "source": [
    "add()"
   ]
  },
  {
   "cell_type": "code",
   "execution_count": 185,
   "id": "613c4220",
   "metadata": {},
   "outputs": [],
   "source": [
    "def add():\n",
    "    x = 10\n",
    "    y = 20\n",
    "    c = x+y\n",
    "    return c"
   ]
  },
  {
   "cell_type": "code",
   "execution_count": 186,
   "id": "c50c54ec",
   "metadata": {},
   "outputs": [
    {
     "data": {
      "text/plain": [
       "30"
      ]
     },
     "execution_count": 186,
     "metadata": {},
     "output_type": "execute_result"
    }
   ],
   "source": [
    "add()"
   ]
  },
  {
   "cell_type": "code",
   "execution_count": 187,
   "id": "e2b4c250",
   "metadata": {},
   "outputs": [],
   "source": [
    "def add(y):\n",
    "    x = 10\n",
    "    c = x+y\n",
    "    print(c)"
   ]
  },
  {
   "cell_type": "code",
   "execution_count": 188,
   "id": "58884d45",
   "metadata": {},
   "outputs": [
    {
     "name": "stdout",
     "output_type": "stream",
     "text": [
      "30\n"
     ]
    }
   ],
   "source": [
    "add(20)"
   ]
  },
  {
   "cell_type": "code",
   "execution_count": 189,
   "id": "9c942fdb",
   "metadata": {},
   "outputs": [],
   "source": [
    "def add(y):\n",
    "    x = 10\n",
    "    c = x+y\n",
    "    return c"
   ]
  },
  {
   "cell_type": "code",
   "execution_count": 190,
   "id": "22f2c84b",
   "metadata": {},
   "outputs": [
    {
     "name": "stdout",
     "output_type": "stream",
     "text": [
      "30\n"
     ]
    }
   ],
   "source": [
    "value =add(20)\n",
    "print(value)"
   ]
  },
  {
   "cell_type": "code",
   "execution_count": 191,
   "id": "a05e72c3",
   "metadata": {},
   "outputs": [],
   "source": [
    "def upcoming():\n",
    "    print(\"welcome to python world!\")"
   ]
  },
  {
   "cell_type": "code",
   "execution_count": 192,
   "id": "c90ff8a6",
   "metadata": {},
   "outputs": [
    {
     "name": "stdout",
     "output_type": "stream",
     "text": [
      "welcome to python world!\n",
      "welcome to python world!\n"
     ]
    }
   ],
   "source": [
    "upcoming()\n",
    "upcoming()"
   ]
  },
  {
   "cell_type": "code",
   "execution_count": 193,
   "id": "63cd94ac",
   "metadata": {},
   "outputs": [],
   "source": [
    "# sum of all even and odd numbers\n",
    "def even_odd(lst):\n",
    "    even_is = 0\n",
    "    odd_is = 0\n",
    "    \n",
    "    for i in lst:\n",
    "        if i%2==0:\n",
    "            even_is = even_is+i\n",
    "        else:\n",
    "            odd_is = odd_is+i\n",
    "            return even_is, odd_is"
   ]
  },
  {
   "cell_type": "code",
   "execution_count": 194,
   "id": "5a1993f1",
   "metadata": {},
   "outputs": [
    {
     "name": "stdout",
     "output_type": "stream",
     "text": [
      "6\n",
      "5\n"
     ]
    }
   ],
   "source": [
    "even_is,odd_is =even_odd([2,4,5,6,8,7,6,3,2,8])\n",
    "print(even_is)\n",
    "print(odd_is)"
   ]
  },
  {
   "cell_type": "markdown",
   "id": "bedec5bc",
   "metadata": {},
   "source": [
    "### Class and object\n"
   ]
  },
  {
   "cell_type": "code",
   "execution_count": 195,
   "id": "2038f7d1",
   "metadata": {},
   "outputs": [
    {
     "name": "stdout",
     "output_type": "stream",
     "text": [
      "i am a method\n"
     ]
    }
   ],
   "source": [
    "class Myclass(object):\n",
    "    def show(self):\n",
    "        print(\"i am a method\")\n",
    "x = Myclass()\n",
    "x.show()"
   ]
  },
  {
   "cell_type": "code",
   "execution_count": 196,
   "id": "cb9bc8e8",
   "metadata": {},
   "outputs": [
    {
     "name": "stdout",
     "output_type": "stream",
     "text": [
      "i am a method\n"
     ]
    }
   ],
   "source": [
    "class Myclass:\n",
    "    def show(self):\n",
    "        print(\"i am a method\")\n",
    "        \n",
    "x =Myclass()\n",
    "x.show()"
   ]
  },
  {
   "cell_type": "code",
   "execution_count": 197,
   "id": "858bb5ce",
   "metadata": {},
   "outputs": [
    {
     "name": "stdout",
     "output_type": "stream",
     "text": [
      "Model: Realme x\n"
     ]
    }
   ],
   "source": [
    "class Mobile:\n",
    "    def __init__(self):\n",
    "        self.model = 'Realme x'               #instance variable\n",
    "        \n",
    "    def show_model(self):\n",
    "        print(\"Model:\",self.model)            #accessing instance variable\n",
    "        \n",
    "realme = Mobile()\n",
    "realme.show_model()"
   ]
  },
  {
   "cell_type": "code",
   "execution_count": 198,
   "id": "b7da650e",
   "metadata": {},
   "outputs": [
    {
     "name": "stdout",
     "output_type": "stream",
     "text": [
      "Realme Pro\n",
      "Model: Realme Pro\n"
     ]
    }
   ],
   "source": [
    "class Mobile:\n",
    "    def __init__(self):\n",
    "        self.model = \"Realme x\"\n",
    "        \n",
    "    def show_model(self):\n",
    "        print(\"Model:\",self.model)\n",
    "        \n",
    "realme = Mobile()\n",
    "realme.model = \"Realme Pro\"\n",
    "\n",
    "print(realme.model)\n",
    "realme.show_model()"
   ]
  },
  {
   "cell_type": "markdown",
   "id": "e0afab66",
   "metadata": {},
   "source": [
    "### Constructor"
   ]
  },
  {
   "cell_type": "code",
   "execution_count": 199,
   "id": "486a98e4",
   "metadata": {},
   "outputs": [
    {
     "name": "stdout",
     "output_type": "stream",
     "text": [
      "Model: realme x Price 10000\n",
      "2027708236368\n",
      "\n",
      "Model: redmi x Price 12000\n",
      "2027708227888\n",
      "\n",
      "Model: Nokia 1200 Price 25000\n",
      "2027708236464\n",
      "\n"
     ]
    }
   ],
   "source": [
    "class Mobile:\n",
    "    def __init__(self,m):\n",
    "        self.model = m\n",
    "        \n",
    "    def show_model(self,p):\n",
    "        self.price = p\n",
    "        print(\"Model:\",self.model,\"Price\",self.price)\n",
    "        \n",
    "realme = Mobile(\"realme x\")\n",
    "realme.show_model(10000)\n",
    "print(id(realme))\n",
    "print()\n",
    "\n",
    "redmi = Mobile(\"redmi x\")\n",
    "redmi.show_model(12000)\n",
    "print(id(redmi))\n",
    "print()\n",
    "\n",
    "Nokia = Mobile(\"Nokia 1200\")\n",
    "Nokia.show_model(25000)\n",
    "print(id(Nokia))\n",
    "print()"
   ]
  },
  {
   "cell_type": "code",
   "execution_count": 200,
   "id": "1ba0651c",
   "metadata": {},
   "outputs": [
    {
     "name": "stdout",
     "output_type": "stream",
     "text": [
      "Model: realme x\n",
      "Price: 1000\n",
      "volume: 80\n"
     ]
    }
   ],
   "source": [
    "class Mobile:\n",
    "    def __init__(self,m,v=80):\n",
    "        self.model = m\n",
    "        self.volume = v\n",
    "        \n",
    "    def show_model(self,p):\n",
    "        self.price = p\n",
    "        print(\"Model:\", self.model)\n",
    "        print(\"Price:\", self.price)\n",
    "        print(\"volume:\", self.volume)\n",
    "        \n",
    "# passing Argument to constructor\n",
    "realme = Mobile('realme x')\n",
    "\n",
    "# Accessing method from outside class\n",
    "realme.show_model(1000)"
   ]
  },
  {
   "cell_type": "markdown",
   "id": "17088580",
   "metadata": {},
   "source": [
    "# Pickling and unpickling"
   ]
  },
  {
   "cell_type": "code",
   "execution_count": 201,
   "id": "b716bddf",
   "metadata": {},
   "outputs": [
    {
     "name": "stdout",
     "output_type": "stream",
     "text": [
      "pickling done!\n",
      "Unpickling done!\n",
      "name: Rahul Roll: 101 Address: Rachi\n"
     ]
    }
   ],
   "source": [
    "import pickle\n",
    "class Student:\n",
    "    def __init__(self, name, roll, address):\n",
    "        self.name = name\n",
    "        self.roll = roll\n",
    "        self.address = address\n",
    "        \n",
    "    def disp(self):\n",
    "        print(f'name: {self.name} Roll: {self.roll} Address: {self.address}')\n",
    "        \n",
    "        \n",
    "with open('student.dat', mode='wb') as f:\n",
    "    stu1 = Student('Rahul', 101, 'Rachi')\n",
    "    \n",
    "    pickle.dump(stu1, f)\n",
    "    print('pickling done!')\n",
    "    \n",
    "with open('student.dat', mode= 'rb') as f:\n",
    "    obj =  pickle.load(f)\n",
    "    print('Unpickling done!')\n",
    "    obj.disp()"
   ]
  },
  {
   "cell_type": "code",
   "execution_count": 202,
   "id": "56648d5f",
   "metadata": {},
   "outputs": [
    {
     "name": "stdout",
     "output_type": "stream",
     "text": [
      "pickling done!\n",
      "Unpickling done!\n",
      "name: Raj Roll: 102 Address: bihar\n",
      "name: Raj Roll: 102 Address: bihar\n"
     ]
    }
   ],
   "source": [
    "import pickle\n",
    "class Student:\n",
    "    def __init__(self, name, roll, address):\n",
    "        self.name = name\n",
    "        self.roll = roll\n",
    "        self.address = address\n",
    "        \n",
    "    def disp(self):\n",
    "        print(f'name: {self.name} Roll: {self.roll} Address: {self.address}')\n",
    "        \n",
    "        \n",
    "with open('student.dat', mode='wb') as f:\n",
    "    stu1 = Student('Rahul', 101, 'Rachi')\n",
    "    stu2 = Student('Raj', 102, 'bihar')\n",
    "    pickle.dump(stu1, f)\n",
    "    pickle.dump(stu2, f)\n",
    "    print('pickling done!')\n",
    "    \n",
    "with open('student.dat', mode= 'rb') as f:\n",
    "    obj =  pickle.load(f)\n",
    "    obj = pickle.load(f)\n",
    "    print('Unpickling done!')\n",
    "    obj.disp()\n",
    "    obj.disp()"
   ]
  },
  {
   "cell_type": "code",
   "execution_count": 204,
   "id": "b8b7dc3b",
   "metadata": {},
   "outputs": [
    {
     "name": "stdout",
     "output_type": "stream",
     "text": [
      "Enter Number of students:3\n",
      "Enter Student Name:yash\n",
      "Enter Roll:40\n",
      "Enter Address:indore\n",
      "Enter Student Name:yogesh\n",
      "Enter Roll:41\n",
      "Enter Address:jabalpur\n",
      "Enter Student Name:aman\n",
      "Enter Roll:25\n",
      "Enter Address:bhimkund\n",
      "Pickling done!\n",
      "name: yash Roll: 40 Address: indore\n",
      "name: yogesh Roll: 41 Address: jabalpur\n",
      "name: aman Roll: 25 Address: bhimkund\n",
      "Done\n"
     ]
    }
   ],
   "source": [
    "import pickle\n",
    "class Student:\n",
    "    def __init__(self, name, roll, address):\n",
    "        self.name = name\n",
    "        self.roll = roll\n",
    "        self.address = address\n",
    "        \n",
    "    def disp(self):\n",
    "        print(f'name: {self.name} Roll: {self.roll} Address: {self.address}')\n",
    "        \n",
    "n = int(input(\"Enter Number of students:\"))\n",
    "with open('student.dat', mode= 'wb') as f:\n",
    "    for i in range(n):\n",
    "        name = input('Enter Student Name:')\n",
    "        roll = int(input('Enter Roll:'))\n",
    "        address = input('Enter Address:')\n",
    "        stu1 = Student(name, roll, address)\n",
    "        pickle.dump(stu1, f)\n",
    "        \n",
    "print('Pickling done!')\n",
    "\n",
    "with open('student.dat', mode= 'rb') as f:\n",
    "    while True:\n",
    "        try:\n",
    "            obj =  pickle.load(f)\n",
    "            obj.disp()\n",
    "        except EOFError:\n",
    "            print('Done')\n",
    "            break"
   ]
  },
  {
   "cell_type": "markdown",
   "id": "79686437",
   "metadata": {},
   "source": [
    "### Abstract Method"
   ]
  },
  {
   "cell_type": "code",
   "execution_count": 205,
   "id": "9789787a",
   "metadata": {},
   "outputs": [
    {
     "name": "stdout",
     "output_type": "stream",
     "text": [
      "Child Class\n",
      "Defining Abstract Method\n",
      "concrete Method\n"
     ]
    }
   ],
   "source": [
    "from abc import ABC, abstractmethod\n",
    "\n",
    "class Father(ABC):\n",
    "    @abstractmethod\n",
    "    def disp(self):\n",
    "        pass\n",
    "        \n",
    "    \n",
    "    def show(self):\n",
    "        print('concrete Method')\n",
    "        \n",
    "class Child(Father):\n",
    "    def disp(self):\n",
    "        print(\"Child Class\")\n",
    "        print(\"Defining Abstract Method\")\n",
    "        \n",
    "c = Child()\n",
    "c.disp()\n",
    "c.show()"
   ]
  },
  {
   "cell_type": "code",
   "execution_count": 206,
   "id": "7b3d4e21",
   "metadata": {},
   "outputs": [
    {
     "name": "stdout",
     "output_type": "stream",
     "text": [
      "Gun = AK47\n",
      "Army Area = land\n",
      "\n",
      "Gun = AK47\n",
      "Airforce Area = sky\n",
      "\n",
      "Gun = AK47\n",
      "Navy Area = sea\n",
      "\n"
     ]
    }
   ],
   "source": [
    "from abc import ABC, abstractmethod\n",
    "class DefenceForce(ABC):\n",
    "    @abstractmethod\n",
    "    def area(self):\n",
    "        pass\n",
    "        \n",
    "    def gun(self):\n",
    "        print(\"Gun = AK47\")\n",
    "        \n",
    "class Army(DefenceForce):\n",
    "    def area(self):\n",
    "        print(\"Army Area = land\")\n",
    "        \n",
    "class AirForce(DefenceForce):\n",
    "    def area(self):\n",
    "        print(\"Airforce Area = sky\")\n",
    "        \n",
    "class Navy(DefenceForce):\n",
    "    def area(self):\n",
    "        print(\"Navy Area = sea\")\n",
    "        \n",
    "a = Army()\n",
    "af = AirForce()\n",
    "Nv = Navy()\n",
    "\n",
    "a.gun()\n",
    "a.area()\n",
    "print()\n",
    "\n",
    "af.gun()\n",
    "af.area()\n",
    "print()\n",
    "\n",
    "Nv.gun()\n",
    "Nv.area()\n",
    "print()"
   ]
  },
  {
   "cell_type": "markdown",
   "id": "6e874575",
   "metadata": {},
   "source": [
    "# Encapsulation\n",
    "### public protected private\n",
    "#### __ private attribute  double underscore is private attribute\n",
    "#### _protected attribute single underscore is protected attribute"
   ]
  },
  {
   "cell_type": "code",
   "execution_count": 207,
   "id": "cef3f61f",
   "metadata": {},
   "outputs": [
    {
     "name": "stdout",
     "output_type": "stream",
     "text": [
      "yash\n",
      "ml analyse\n"
     ]
    }
   ],
   "source": [
    "class Employee:\n",
    "    def __init__(self, name, project):\n",
    "        self.name = name\n",
    "        self.project = project\n",
    "        \n",
    "    def disp(self):\n",
    "        print(self.name)\n",
    "        print(self.project)\n",
    "        \n",
    "emp = Employee(\"yash\", 'ml analyse')\n",
    "emp.disp()\n"
   ]
  },
  {
   "cell_type": "code",
   "execution_count": 208,
   "id": "9468962f",
   "metadata": {},
   "outputs": [
    {
     "ename": "AttributeError",
     "evalue": "'Employee' object has no attribute '__name'",
     "output_type": "error",
     "traceback": [
      "\u001b[1;31m---------------------------------------------------------------------------\u001b[0m",
      "\u001b[1;31mAttributeError\u001b[0m                            Traceback (most recent call last)",
      "\u001b[1;32m~\\AppData\\Local\\Temp/ipykernel_9072/677353337.py\u001b[0m in \u001b[0;36m<module>\u001b[1;34m\u001b[0m\n\u001b[0;32m      7\u001b[0m \u001b[1;33m\u001b[0m\u001b[0m\n\u001b[0;32m      8\u001b[0m \u001b[0memp\u001b[0m \u001b[1;33m=\u001b[0m \u001b[0mEmployee\u001b[0m\u001b[1;33m(\u001b[0m\u001b[1;34m\"yash\"\u001b[0m\u001b[1;33m,\u001b[0m \u001b[1;34m'ml analyse'\u001b[0m\u001b[1;33m)\u001b[0m\u001b[1;33m\u001b[0m\u001b[1;33m\u001b[0m\u001b[0m\n\u001b[1;32m----> 9\u001b[1;33m \u001b[0mprint\u001b[0m\u001b[1;33m(\u001b[0m\u001b[0memp\u001b[0m\u001b[1;33m.\u001b[0m\u001b[0m__name\u001b[0m\u001b[1;33m)\u001b[0m\u001b[1;33m\u001b[0m\u001b[1;33m\u001b[0m\u001b[0m\n\u001b[0m\u001b[0;32m     10\u001b[0m \u001b[1;31m#\"we can't direct access private variable\"\u001b[0m\u001b[1;33m\u001b[0m\u001b[1;33m\u001b[0m\u001b[0m\n",
      "\u001b[1;31mAttributeError\u001b[0m: 'Employee' object has no attribute '__name'"
     ]
    }
   ],
   "source": [
    "# Private variable\n",
    "class Employee:\n",
    "    def __init__(self, name, project):\n",
    "        self.__name = name\n",
    "        self.__project = project\n",
    "        \n",
    "        \n",
    "emp = Employee(\"yash\", 'ml analyse')\n",
    "print(emp.__name)\n",
    "#\"we can't direct access private variable\""
   ]
  },
  {
   "cell_type": "code",
   "execution_count": 209,
   "id": "4f458848",
   "metadata": {},
   "outputs": [
    {
     "name": "stdout",
     "output_type": "stream",
     "text": [
      "yash\n",
      "ml analyse\n"
     ]
    }
   ],
   "source": [
    "# Private variable\n",
    "class Employee:\n",
    "    def __init__(self, name, project):\n",
    "        self.__name = name\n",
    "        self.__project = project\n",
    "        \n",
    "    def disp(self):\n",
    "        print(self.__name)\n",
    "        print(self.__project)\n",
    "        \n",
    "emp = Employee(\"yash\", 'ml analyse')\n",
    "emp.disp()"
   ]
  },
  {
   "cell_type": "code",
   "execution_count": 210,
   "id": "e9f2677e",
   "metadata": {},
   "outputs": [
    {
     "name": "stdout",
     "output_type": "stream",
     "text": [
      "yash\n",
      "ml analyse\n"
     ]
    }
   ],
   "source": [
    "#Protected variable\n",
    "class Employee:\n",
    "    def __init__(self, name, project):\n",
    "        self.name = name\n",
    "        self._project = project\n",
    "        \n",
    "    def disp(self):\n",
    "        print(self.name)\n",
    "        print(self._project)\n",
    "        \n",
    "emp = Employee(\"yash\", 'ml analyse')\n",
    "emp.disp()"
   ]
  },
  {
   "cell_type": "code",
   "execution_count": 211,
   "id": "523bdc20",
   "metadata": {},
   "outputs": [
    {
     "name": "stdout",
     "output_type": "stream",
     "text": [
      "ml analyse\n"
     ]
    }
   ],
   "source": [
    "class Employee:\n",
    "    def __init__(self, name, project):\n",
    "        self.name = name\n",
    "        self._project = project\n",
    "        \n",
    "        \n",
    "emp = Employee(\"yash\", 'ml analyse')\n",
    "print(emp._project)"
   ]
  },
  {
   "cell_type": "markdown",
   "id": "9760fa97",
   "metadata": {},
   "source": [
    "### Exception Handling"
   ]
  },
  {
   "cell_type": "code",
   "execution_count": 212,
   "id": "fbad9c70",
   "metadata": {},
   "outputs": [
    {
     "name": "stdout",
     "output_type": "stream",
     "text": [
      "2.0\n",
      "Rest of the code\n"
     ]
    }
   ],
   "source": [
    "a = 10\n",
    "b = 5\n",
    "c = a/b\n",
    "print(c)\n",
    "print('Rest of the code')"
   ]
  },
  {
   "cell_type": "code",
   "execution_count": 213,
   "id": "b8511e7e",
   "metadata": {},
   "outputs": [
    {
     "ename": "ZeroDivisionError",
     "evalue": "division by zero",
     "output_type": "error",
     "traceback": [
      "\u001b[1;31m---------------------------------------------------------------------------\u001b[0m",
      "\u001b[1;31mZeroDivisionError\u001b[0m                         Traceback (most recent call last)",
      "\u001b[1;32m~\\AppData\\Local\\Temp/ipykernel_9072/2546305592.py\u001b[0m in \u001b[0;36m<module>\u001b[1;34m\u001b[0m\n\u001b[0;32m      1\u001b[0m \u001b[0ma\u001b[0m \u001b[1;33m=\u001b[0m \u001b[1;36m10\u001b[0m\u001b[1;33m\u001b[0m\u001b[1;33m\u001b[0m\u001b[0m\n\u001b[0;32m      2\u001b[0m \u001b[0mb\u001b[0m \u001b[1;33m=\u001b[0m \u001b[1;36m0\u001b[0m\u001b[1;33m\u001b[0m\u001b[1;33m\u001b[0m\u001b[0m\n\u001b[1;32m----> 3\u001b[1;33m \u001b[0mc\u001b[0m \u001b[1;33m=\u001b[0m \u001b[0ma\u001b[0m\u001b[1;33m/\u001b[0m\u001b[0mb\u001b[0m\u001b[1;33m\u001b[0m\u001b[1;33m\u001b[0m\u001b[0m\n\u001b[0m\u001b[0;32m      4\u001b[0m \u001b[0mprint\u001b[0m\u001b[1;33m(\u001b[0m\u001b[0mc\u001b[0m\u001b[1;33m)\u001b[0m\u001b[1;33m\u001b[0m\u001b[1;33m\u001b[0m\u001b[0m\n\u001b[0;32m      5\u001b[0m \u001b[0mprint\u001b[0m\u001b[1;33m(\u001b[0m\u001b[1;34m'Rest of the code'\u001b[0m\u001b[1;33m)\u001b[0m\u001b[1;33m\u001b[0m\u001b[1;33m\u001b[0m\u001b[0m\n",
      "\u001b[1;31mZeroDivisionError\u001b[0m: division by zero"
     ]
    }
   ],
   "source": [
    "a = 10\n",
    "b = 0\n",
    "c = a/b\n",
    "print(c)\n",
    "print('Rest of the code')"
   ]
  },
  {
   "cell_type": "code",
   "execution_count": 214,
   "id": "847dd3c8",
   "metadata": {},
   "outputs": [
    {
     "name": "stdout",
     "output_type": "stream",
     "text": [
      "2.0\n",
      "Rest of the code\n"
     ]
    }
   ],
   "source": [
    "a = 10\n",
    "b = 5\n",
    "try:\n",
    "    c = a/b\n",
    "    print(c)\n",
    "\n",
    "\n",
    "except ZeroDivisionError:\n",
    "    print('Division by zero not allowed')\n",
    "    \n",
    "print('Rest of the code')"
   ]
  },
  {
   "cell_type": "code",
   "execution_count": 215,
   "id": "e64cfef4",
   "metadata": {},
   "outputs": [
    {
     "name": "stdout",
     "output_type": "stream",
     "text": [
      "Division by zero not allowed\n",
      "Rest of the code\n"
     ]
    }
   ],
   "source": [
    "a = 10\n",
    "b = 0\n",
    "try:\n",
    "    c = a/b\n",
    "    print(c)\n",
    "\n",
    "\n",
    "except ZeroDivisionError:\n",
    "    print('Division by zero not allowed')\n",
    "    \n",
    "print('Rest of the code')"
   ]
  },
  {
   "cell_type": "code",
   "execution_count": 216,
   "id": "b6bd8c4d",
   "metadata": {},
   "outputs": [
    {
     "name": "stdout",
     "output_type": "stream",
     "text": [
      "2.0\n",
      "Inside else\n",
      "Inside finally\n",
      "Rest of the code\n"
     ]
    }
   ],
   "source": [
    "a = 10\n",
    "b = 5\n",
    "try:\n",
    "    c = a/b\n",
    "    print(c)\n",
    "\n",
    "\n",
    "except ZeroDivisionError:\n",
    "    print('Division by zero not allowed')\n",
    "\n",
    "\n",
    "else:\n",
    "    print('Inside else')\n",
    "    \n",
    "finally:\n",
    "    print('Inside finally')\n",
    "    \n",
    "print('Rest of the code')"
   ]
  },
  {
   "cell_type": "code",
   "execution_count": 217,
   "id": "4da6b7b7",
   "metadata": {},
   "outputs": [
    {
     "name": "stdout",
     "output_type": "stream",
     "text": [
      "Division by zero not allowed\n",
      "Inside finally\n",
      "Rest of the code\n"
     ]
    }
   ],
   "source": [
    "a = 10\n",
    "b = 0\n",
    "try:\n",
    "    c = a/b\n",
    "    print(c)\n",
    "\n",
    "\n",
    "except ZeroDivisionError:\n",
    "    print('Division by zero not allowed')\n",
    "\n",
    "    \n",
    "\n",
    "else:\n",
    "    print('Inside else')\n",
    "    \n",
    "finally:\n",
    "    print('Inside finally')\n",
    "\n",
    "print('Rest of the code')\n"
   ]
  },
  {
   "cell_type": "code",
   "execution_count": 218,
   "id": "03d41f52",
   "metadata": {},
   "outputs": [],
   "source": []
  },
  {
   "cell_type": "code",
   "execution_count": null,
   "id": "4550ecf5",
   "metadata": {},
   "outputs": [],
   "source": []
  }
 ],
 "metadata": {
  "kernelspec": {
   "display_name": "Python 3 (ipykernel)",
   "language": "python",
   "name": "python3"
  },
  "language_info": {
   "codemirror_mode": {
    "name": "ipython",
    "version": 3
   },
   "file_extension": ".py",
   "mimetype": "text/x-python",
   "name": "python",
   "nbconvert_exporter": "python",
   "pygments_lexer": "ipython3",
   "version": "3.9.7"
  }
 },
 "nbformat": 4,
 "nbformat_minor": 5
}
