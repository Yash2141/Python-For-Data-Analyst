{
 "cells": [
  {
   "cell_type": "markdown",
   "id": "30722ef6",
   "metadata": {},
   "source": [
    "Our Mind is Not a Storage Device it is a Thinking Device\n"
   ]
  },
  {
   "cell_type": "code",
   "execution_count": 1,
   "id": "f5a235c8",
   "metadata": {
    "tags": []
   },
   "outputs": [
    {
     "name": "stdout",
     "output_type": "stream",
     "text": [
      "welcome to python world\n"
     ]
    }
   ],
   "source": [
    "#ESCAPE SEQUENCE\n",
    "print(\"welcome to python world\")"
   ]
  },
  {
   "cell_type": "code",
   "execution_count": 2,
   "id": "1b0df989",
   "metadata": {
    "tags": []
   },
   "outputs": [
    {
     "name": "stdout",
     "output_type": "stream",
     "text": [
      "welcome to \n",
      "python world\n"
     ]
    }
   ],
   "source": [
    "print(\"welcome to \\npython world\")"
   ]
  },
  {
   "cell_type": "code",
   "execution_count": 3,
   "id": "48fa49cc",
   "metadata": {
    "tags": []
   },
   "outputs": [
    {
     "name": "stdout",
     "output_type": "stream",
     "text": [
      "welcome to \"python world\"\n"
     ]
    }
   ],
   "source": [
    "print(\"welcome to \\\"python world\\\"\")"
   ]
  },
  {
   "cell_type": "code",
   "execution_count": 4,
   "id": "2f3248aa",
   "metadata": {
    "tags": []
   },
   "outputs": [
    {
     "name": "stdout",
     "output_type": "stream",
     "text": [
      "welcome to \t python world\n"
     ]
    }
   ],
   "source": [
    "print(\"welcome to \\t python world\")"
   ]
  },
  {
   "cell_type": "code",
   "execution_count": 5,
   "id": "b369e817",
   "metadata": {
    "tags": []
   },
   "outputs": [
    {
     "name": "stdout",
     "output_type": "stream",
     "text": [
      "hello\n",
      "Indore\n"
     ]
    }
   ],
   "source": [
    "print(\"hello\")\n",
    "print(\"Indore\")"
   ]
  },
  {
   "cell_type": "code",
   "execution_count": 6,
   "id": "637f7290",
   "metadata": {
    "tags": []
   },
   "outputs": [
    {
     "name": "stdout",
     "output_type": "stream",
     "text": [
      "hello\n",
      "Indore\n"
     ]
    }
   ],
   "source": [
    "print(\"hello\\nIndore\")"
   ]
  },
  {
   "cell_type": "code",
   "execution_count": 7,
   "id": "ea93dd1c",
   "metadata": {
    "tags": []
   },
   "outputs": [
    {
     "name": "stdout",
     "output_type": "stream",
     "text": [
      "hello\tIndore\n"
     ]
    }
   ],
   "source": [
    "print(\"hello\\tIndore\")"
   ]
  },
  {
   "cell_type": "code",
   "execution_count": 8,
   "id": "0933e5fa",
   "metadata": {
    "tags": []
   },
   "outputs": [
    {
     "name": "stdout",
     "output_type": "stream",
     "text": [
      "*\n",
      "**\n",
      "***\n"
     ]
    }
   ],
   "source": [
    "print(\"*\\n**\\n***\")"
   ]
  },
  {
   "cell_type": "code",
   "execution_count": 9,
   "id": "9785ba8c",
   "metadata": {
    "tags": []
   },
   "outputs": [
    {
     "name": "stdout",
     "output_type": "stream",
     "text": [
      "*\n",
      "*\t*\n",
      "  *\n"
     ]
    }
   ],
   "source": [
    "print(\"*\\n*\\t*\\n  *\")"
   ]
  },
  {
   "cell_type": "markdown",
   "id": "15719857",
   "metadata": {},
   "source": [
    "## variable :-\n",
    "A variable in Python is a name used to refer to a value stored in memory. It acts as a container for storing data values, allowing you to easily label and access specific pieces of data. You can think of a variable as a reference to a memory location where a particular value is kept.\n",
    "\n"
   ]
  },
  {
   "cell_type": "markdown",
   "id": "5aca9631",
   "metadata": {},
   "source": [
    "### Key Points about Variables in Python:-\n",
    "Naming a Variable:\n",
    "\n",
    "* Variable names can consist of letters (both uppercase and lowercase), digits, and underscores.\n",
    "\n",
    "* They must start with a letter or an underscore (_), not a digit.\n",
    "\n",
    "* Variable names are case-sensitive (myVar and myvar are different variables).\n",
    "\n",
    "* Avoid using reserved keywords (like if, else, while, etc.) as variable names."
   ]
  },
  {
   "cell_type": "code",
   "execution_count": 10,
   "id": "868f49e0",
   "metadata": {
    "tags": []
   },
   "outputs": [],
   "source": [
    "student = 'aman'"
   ]
  },
  {
   "cell_type": "code",
   "execution_count": 11,
   "id": "eafb0cfb",
   "metadata": {
    "tags": []
   },
   "outputs": [
    {
     "data": {
      "text/plain": [
       "'aman'"
      ]
     },
     "execution_count": 11,
     "metadata": {},
     "output_type": "execute_result"
    }
   ],
   "source": [
    "student"
   ]
  },
  {
   "cell_type": "markdown",
   "id": "86da63a0",
   "metadata": {},
   "source": [
    "## Data type :-\n",
    "every variable is associated with data-type .\n",
    "\n",
    "a data type is a classification that specifies what kind of value a variable can hold. Each data type determines what operations can be performed on the data. "
   ]
  },
  {
   "cell_type": "code",
   "execution_count": 12,
   "id": "a9a365cf",
   "metadata": {
    "tags": []
   },
   "outputs": [
    {
     "data": {
      "text/plain": [
       "str"
      ]
     },
     "execution_count": 12,
     "metadata": {},
     "output_type": "execute_result"
    }
   ],
   "source": [
    "type(student)"
   ]
  },
  {
   "cell_type": "code",
   "execution_count": 13,
   "id": "a866efee",
   "metadata": {
    "tags": []
   },
   "outputs": [],
   "source": [
    "a1 = 6.5"
   ]
  },
  {
   "cell_type": "code",
   "execution_count": 14,
   "id": "46126cc4",
   "metadata": {
    "tags": []
   },
   "outputs": [
    {
     "data": {
      "text/plain": [
       "float"
      ]
     },
     "execution_count": 14,
     "metadata": {},
     "output_type": "execute_result"
    }
   ],
   "source": [
    "type(a1)"
   ]
  },
  {
   "cell_type": "markdown",
   "id": "c8055820",
   "metadata": {},
   "source": [
    "## Operators:-\n",
    "operators are special symbols used to perform operations on variables and values\n",
    "different types of operators in Python:\n",
    "\n",
    "#### Arithmetic operators +,-,*,/\n",
    "These operators are used to perform mathematical operations.\n",
    "\n"
   ]
  },
  {
   "cell_type": "code",
   "execution_count": 15,
   "id": "192043b7",
   "metadata": {
    "tags": []
   },
   "outputs": [],
   "source": [
    "a = 10\n",
    "b = 5"
   ]
  },
  {
   "cell_type": "code",
   "execution_count": 16,
   "id": "4b634ccf",
   "metadata": {
    "tags": []
   },
   "outputs": [
    {
     "name": "stdout",
     "output_type": "stream",
     "text": [
      "10 5\n"
     ]
    }
   ],
   "source": [
    "print(a,b)"
   ]
  },
  {
   "cell_type": "code",
   "execution_count": 17,
   "id": "57ee0bba",
   "metadata": {
    "tags": []
   },
   "outputs": [
    {
     "data": {
      "text/plain": [
       "15"
      ]
     },
     "execution_count": 17,
     "metadata": {},
     "output_type": "execute_result"
    }
   ],
   "source": [
    "a+b"
   ]
  },
  {
   "cell_type": "code",
   "execution_count": 18,
   "id": "7db81962",
   "metadata": {
    "tags": []
   },
   "outputs": [
    {
     "data": {
      "text/plain": [
       "50"
      ]
     },
     "execution_count": 18,
     "metadata": {},
     "output_type": "execute_result"
    }
   ],
   "source": [
    "a*b"
   ]
  },
  {
   "cell_type": "markdown",
   "id": "dfb026cf",
   "metadata": {},
   "source": [
    "### Relational(Comparison) operator <,>,==,!=\n",
    "These operators are used to compare two values.\n",
    "\n"
   ]
  },
  {
   "cell_type": "code",
   "execution_count": 19,
   "id": "0052368a",
   "metadata": {
    "tags": []
   },
   "outputs": [
    {
     "data": {
      "text/plain": [
       "True"
      ]
     },
     "execution_count": 19,
     "metadata": {},
     "output_type": "execute_result"
    }
   ],
   "source": [
    "a>b"
   ]
  },
  {
   "cell_type": "code",
   "execution_count": 20,
   "id": "f9bd2e90",
   "metadata": {
    "tags": []
   },
   "outputs": [
    {
     "data": {
      "text/plain": [
       "False"
      ]
     },
     "execution_count": 20,
     "metadata": {},
     "output_type": "execute_result"
    }
   ],
   "source": [
    "a==b"
   ]
  },
  {
   "cell_type": "markdown",
   "id": "bd3eda78",
   "metadata": {},
   "source": [
    "### Assignment operator   =,-=,+=,/=,%=,**=\n",
    "These operators are used to assign values to variables.\n",
    "\n"
   ]
  },
  {
   "cell_type": "code",
   "execution_count": 21,
   "id": "90afdda7",
   "metadata": {
    "tags": []
   },
   "outputs": [
    {
     "name": "stdout",
     "output_type": "stream",
     "text": [
      "30\n"
     ]
    }
   ],
   "source": [
    "a =a+20\n",
    "print(a)"
   ]
  },
  {
   "cell_type": "code",
   "execution_count": 22,
   "id": "7bf606ac",
   "metadata": {
    "tags": []
   },
   "outputs": [
    {
     "name": "stdout",
     "output_type": "stream",
     "text": [
      "15\n"
     ]
    }
   ],
   "source": [
    "a = 10                #a = a+5\n",
    "\n",
    "a +=5\n",
    "print(a)"
   ]
  },
  {
   "cell_type": "markdown",
   "id": "0210ce90",
   "metadata": {},
   "source": [
    "### Logical operator  \n",
    "not - Returns True if the statement is false,\n",
    "\n",
    "and - Returns True if both statements are true,\n",
    "\t\n",
    "or  - Returns True if the statement is false,\t\n",
    "\n",
    "These operators are used to combine conditional statements.\n",
    "\n"
   ]
  },
  {
   "cell_type": "code",
   "execution_count": 23,
   "id": "32cf0233",
   "metadata": {
    "tags": []
   },
   "outputs": [
    {
     "name": "stdout",
     "output_type": "stream",
     "text": [
      "False\n"
     ]
    }
   ],
   "source": [
    "a = 10\n",
    "print(not(a>5))"
   ]
  },
  {
   "cell_type": "code",
   "execution_count": 24,
   "id": "75a961fc",
   "metadata": {
    "tags": []
   },
   "outputs": [
    {
     "data": {
      "text/plain": [
       "'\\n&   Bitwise and\\n|   Bitwise or\\n^   Bitwise xor\\n<<  Bitwise left shift\\n>>  Bitwise right shift\\n'"
      ]
     },
     "execution_count": 24,
     "metadata": {},
     "output_type": "execute_result"
    }
   ],
   "source": [
    "# Bitwise Operator\n",
    "\n",
    "'''\n",
    "&   Bitwise and\n",
    "|   Bitwise or\n",
    "^   Bitwise xor\n",
    "<<  Bitwise left shift\n",
    ">>  Bitwise right shift\n",
    "'''"
   ]
  },
  {
   "cell_type": "markdown",
   "id": "10064671",
   "metadata": {},
   "source": [
    "### Member ship operator\n",
    "These operators are used to test if a value is a member of a sequence (like a list, tuple, or string).\n",
    "\n",
    "in - Returns True if the value is found in the sequence\t\n",
    "\n",
    "not in - Returns True if the value is not found in the sequence\t"
   ]
  },
  {
   "cell_type": "code",
   "execution_count": 25,
   "id": "703577a3",
   "metadata": {
    "tags": []
   },
   "outputs": [
    {
     "name": "stdout",
     "output_type": "stream",
     "text": [
      "True\n"
     ]
    }
   ],
   "source": [
    "v1=\"better as you are\"\n",
    "print(\"as\" in v1)"
   ]
  },
  {
   "cell_type": "code",
   "execution_count": 26,
   "id": "cd13901d",
   "metadata": {
    "tags": []
   },
   "outputs": [
    {
     "name": "stdout",
     "output_type": "stream",
     "text": [
      "False\n"
     ]
    }
   ],
   "source": [
    "v1=\"better as you are\"\n",
    "print(\"as\" not in v1)"
   ]
  },
  {
   "cell_type": "markdown",
   "id": "e4038c76",
   "metadata": {},
   "source": [
    "### Identity operator\n",
    "These operators are used to compare the memory locations of two objects.\n",
    "\n",
    "is - Returns True if both variables point to the same object\n",
    "\n",
    "not is - Returns True if both variables do not point to the same object\t"
   ]
  },
  {
   "cell_type": "code",
   "execution_count": 27,
   "id": "a76a194f",
   "metadata": {
    "tags": []
   },
   "outputs": [
    {
     "data": {
      "text/plain": [
       "True"
      ]
     },
     "execution_count": 27,
     "metadata": {},
     "output_type": "execute_result"
    }
   ],
   "source": [
    "a=b=10\n",
    "a is b"
   ]
  },
  {
   "cell_type": "code",
   "execution_count": 28,
   "id": "e227812c",
   "metadata": {
    "tags": []
   },
   "outputs": [
    {
     "name": "stdout",
     "output_type": "stream",
     "text": [
      "False\n"
     ]
    }
   ],
   "source": [
    "a =10\n",
    "b ='10'\n",
    "print(a is b)"
   ]
  },
  {
   "cell_type": "code",
   "execution_count": 29,
   "id": "ce15f250",
   "metadata": {
    "tags": []
   },
   "outputs": [
    {
     "name": "stdout",
     "output_type": "stream",
     "text": [
      "True\n"
     ]
    }
   ],
   "source": [
    "print(a is not b)"
   ]
  },
  {
   "cell_type": "markdown",
   "id": "2282b70f",
   "metadata": {},
   "source": [
    "### User input\n",
    "you can take user input using the **input()** function. This function allows you to prompt the user for input, and it returns the input as a string. "
   ]
  },
  {
   "cell_type": "code",
   "execution_count": 30,
   "id": "c10233db",
   "metadata": {
    "tags": []
   },
   "outputs": [
    {
     "name": "stdin",
     "output_type": "stream",
     "text": [
      " yash\n"
     ]
    },
    {
     "name": "stdout",
     "output_type": "stream",
     "text": [
      "you have entered:  yash\n"
     ]
    }
   ],
   "source": [
    "\n",
    "a= input()\n",
    "print(\"you have entered: \",a)"
   ]
  },
  {
   "cell_type": "code",
   "execution_count": 31,
   "id": "f3c99ddb",
   "metadata": {
    "tags": []
   },
   "outputs": [
    {
     "name": "stdin",
     "output_type": "stream",
     "text": [
      "enter first name: yash\n",
      "enter last name: rathore\n"
     ]
    },
    {
     "name": "stdout",
     "output_type": "stream",
     "text": [
      "yashrathore\n"
     ]
    }
   ],
   "source": [
    "a =input(\"enter first name:\")\n",
    "b =input(\"enter last name:\")\n",
    "c = a+b\n",
    "print(c)"
   ]
  },
  {
   "cell_type": "code",
   "execution_count": 32,
   "id": "49bcc48b",
   "metadata": {
    "tags": []
   },
   "outputs": [
    {
     "name": "stdin",
     "output_type": "stream",
     "text": [
      "enter first number: 1\n",
      "enter second number: 2\n"
     ]
    },
    {
     "name": "stdout",
     "output_type": "stream",
     "text": [
      "3\n"
     ]
    }
   ],
   "source": [
    "a =int(input(\"enter first number:\"))\n",
    "b =int(input(\"enter second number:\"))\n",
    "c = a+b\n",
    "print(c)"
   ]
  },
  {
   "cell_type": "markdown",
   "id": "09d4ef09",
   "metadata": {},
   "source": [
    "## if Statement\n",
    "\n",
    "the if statement is used for conditional execution. It allows you to execute certain blocks of code based on whether a condition evaluates to True or False"
   ]
  },
  {
   "cell_type": "code",
   "execution_count": 33,
   "id": "029f2fdc",
   "metadata": {
    "tags": []
   },
   "outputs": [
    {
     "name": "stdout",
     "output_type": "stream",
     "text": [
      "Greater\n"
     ]
    }
   ],
   "source": [
    "# if statement\n",
    "\n",
    "if 5>2:\n",
    "    print(\"Greater\")"
   ]
  },
  {
   "cell_type": "code",
   "execution_count": 34,
   "id": "561d616e",
   "metadata": {
    "tags": []
   },
   "outputs": [
    {
     "name": "stdout",
     "output_type": "stream",
     "text": [
      "condition false\n"
     ]
    }
   ],
   "source": [
    "if 5<2:\n",
    "    print(\"lesser\")\n",
    "    print(\"5 is greater than 2 \")\n",
    "\n",
    "print(\"condition false\")"
   ]
  },
  {
   "cell_type": "code",
   "execution_count": 35,
   "id": "d9314dd8",
   "metadata": {
    "tags": []
   },
   "outputs": [
    {
     "name": "stdin",
     "output_type": "stream",
     "text": [
      "enter number greater than 2: 5\n"
     ]
    },
    {
     "name": "stdout",
     "output_type": "stream",
     "text": [
      "you have entered: 5\n"
     ]
    }
   ],
   "source": [
    "a =int(input(\"enter number greater than 2:\"))\n",
    "if (a>2):\n",
    "    print(\"you have entered:\",a)"
   ]
  },
  {
   "cell_type": "markdown",
   "id": "34e51529",
   "metadata": {},
   "source": [
    "### Nested if statement\n",
    "You can also nest if statements inside one another:\n",
    "\n",
    "\n"
   ]
  },
  {
   "cell_type": "code",
   "execution_count": 36,
   "id": "cd995e35",
   "metadata": {
    "tags": []
   },
   "outputs": [
    {
     "name": "stdout",
     "output_type": "stream",
     "text": [
      "it's greater\n",
      "greater\n"
     ]
    }
   ],
   "source": [
    "\n",
    "if 5>2:\n",
    "    print(\"it's greater\")\n",
    "    if 6>2:\n",
    "        print(\"greater\")"
   ]
  },
  {
   "cell_type": "code",
   "execution_count": 37,
   "id": "f247b2b0",
   "metadata": {
    "tags": []
   },
   "outputs": [
    {
     "name": "stdout",
     "output_type": "stream",
     "text": [
      "not right\n"
     ]
    }
   ],
   "source": [
    "if 5<2:\n",
    "    print(\"it's greater\")\n",
    "    if 6>2:\n",
    "        print(\"greater\")\n",
    "print(\"not right\")"
   ]
  },
  {
   "cell_type": "code",
   "execution_count": 38,
   "id": "b0031aab",
   "metadata": {
    "tags": []
   },
   "outputs": [
    {
     "name": "stdin",
     "output_type": "stream",
     "text": [
      "enter greater than 2: 5\n",
      "enter greater than 5 : 10\n"
     ]
    }
   ],
   "source": [
    "a = int(input(\"enter greater than 2:\"))\n",
    "b = int(input(\"enter greater than 5 :\"))\n",
    "if a>b:\n",
    "    print(\"you have entered :\",a)\n",
    "    if b>a:\n",
    "        print(\"you have entered\",b)"
   ]
  },
  {
   "cell_type": "markdown",
   "id": "e30ac7fb",
   "metadata": {},
   "source": [
    "### if else statement\n",
    "The if statement in Python allows you to execute a block of code based on whether a condition is True. If the condition is False, you can use an else statement to execute an alternative block of code."
   ]
  },
  {
   "cell_type": "code",
   "execution_count": 39,
   "id": "88d13a8e",
   "metadata": {
    "tags": []
   },
   "outputs": [
    {
     "name": "stdout",
     "output_type": "stream",
     "text": [
      "it's greater\n"
     ]
    }
   ],
   "source": [
    "if 5>2:\n",
    "    print(\"it's greater\")\n",
    "else:\n",
    "    print(\"Incorrect\")"
   ]
  },
  {
   "cell_type": "code",
   "execution_count": 40,
   "id": "9a815053",
   "metadata": {
    "tags": []
   },
   "outputs": [
    {
     "name": "stdin",
     "output_type": "stream",
     "text": [
      "Enter greater than 50: 60\n"
     ]
    },
    {
     "name": "stdout",
     "output_type": "stream",
     "text": [
      "you have entered correct 60\n"
     ]
    },
    {
     "name": "stdin",
     "output_type": "stream",
     "text": [
      "Enter greater than 5: 10\n"
     ]
    },
    {
     "name": "stdout",
     "output_type": "stream",
     "text": [
      "you have entered correct 10\n"
     ]
    },
    {
     "name": "stdin",
     "output_type": "stream",
     "text": [
      "Enter greater than 10: 20\n"
     ]
    },
    {
     "name": "stdout",
     "output_type": "stream",
     "text": [
      "you have entered correct 20\n",
      "all values are correct 10 20 60\n"
     ]
    }
   ],
   "source": [
    "c= int(input(\"Enter greater than 50:\"))\n",
    "if c>50:\n",
    "    print(\"you have entered correct\",c)\n",
    "    \n",
    "    \n",
    "    a= int(input(\"Enter greater than 5:\"))\n",
    "    if a>5:\n",
    "        print(\"you have entered correct\",a)\n",
    "    else:\n",
    "        print(\"Incorrect!\",a)\n",
    "        \n",
    "    b= int(input(\"Enter greater than 10:\"))\n",
    "    if b>10:\n",
    "        print(\"you have entered correct\",b)\n",
    "    else:\n",
    "        print(\"Incorrect!\",b)\n",
    "        \n",
    "    print(\"all values are correct\",a,b,c)\n",
    "else:\n",
    "    print(\"Incorrect\",c)\n",
    "    "
   ]
  },
  {
   "cell_type": "code",
   "execution_count": 41,
   "id": "e2a50d65",
   "metadata": {
    "tags": []
   },
   "outputs": [
    {
     "name": "stdin",
     "output_type": "stream",
     "text": [
      "enter the first number 1? 40\n",
      "enter the first number 2? 20\n"
     ]
    },
    {
     "name": "stdout",
     "output_type": "stream",
     "text": [
      "the output is 60\n",
      "your output 60\n"
     ]
    }
   ],
   "source": [
    "a= int(input(\"enter the first number 1?\"))\n",
    "b= int(input(\"enter the first number 2?\"))\n",
    "c= a*2-b\n",
    "print(\"the output is\",c)\n",
    "if c<0:\n",
    "    print(\"the number is negative\")\n",
    "else:\n",
    "    print(\"your output\",c)"
   ]
  },
  {
   "cell_type": "markdown",
   "id": "f589cce4",
   "metadata": {},
   "source": [
    "### if elif statement\n",
    "if, elif, and else statements in Python are used for decision-making. They allow you to execute different blocks of code based on certain conditions. "
   ]
  },
  {
   "cell_type": "code",
   "execution_count": 42,
   "id": "3392a526",
   "metadata": {
    "tags": []
   },
   "outputs": [
    {
     "data": {
      "text/plain": [
       "(30, 20)"
      ]
     },
     "execution_count": 42,
     "metadata": {},
     "output_type": "execute_result"
    }
   ],
   "source": [
    "\n",
    "a=30\n",
    "b=20\n",
    "a,b"
   ]
  },
  {
   "cell_type": "code",
   "execution_count": 43,
   "id": "18f1b4c8",
   "metadata": {
    "tags": []
   },
   "outputs": [
    {
     "name": "stdin",
     "output_type": "stream",
     "text": [
      "enter the number: 2\n"
     ]
    },
    {
     "name": "stdout",
     "output_type": "stream",
     "text": [
      "a is less than b: 20\n"
     ]
    }
   ],
   "source": [
    "a =int(input(\"enter the number:\"))\n",
    "if a>b:\n",
    "    print(\"a is greater than b:\",a)\n",
    "elif a==b:\n",
    "    print(\"a is equal to b:\",a,b)\n",
    "elif a<b:\n",
    "    print(\"a is less than b:\",b)"
   ]
  },
  {
   "cell_type": "code",
   "execution_count": 44,
   "id": "d26ff589",
   "metadata": {
    "tags": []
   },
   "outputs": [
    {
     "name": "stdin",
     "output_type": "stream",
     "text": [
      "Enter the day friday\n"
     ]
    },
    {
     "name": "stdout",
     "output_type": "stream",
     "text": [
      "Today is Holiday\n"
     ]
    }
   ],
   "source": [
    "day = input(\"Enter the day\")\n",
    "if(day==\"Monday\" or day ==\"monday\"):\n",
    "    print(\"Today is monday\")\n",
    "elif(day==\"Tuesday\" or day ==\"tuesday\"):\n",
    "    print(\"Today is tuesday\")\n",
    "elif(day==\"Wednesday\" or day==\"wednesday\"):\n",
    "    print(\"Today is wednesday\")\n",
    "else:\n",
    "    print(\"Today is Holiday\")"
   ]
  },
  {
   "cell_type": "code",
   "execution_count": 45,
   "id": "c41f277d",
   "metadata": {
    "tags": []
   },
   "outputs": [
    {
     "name": "stdin",
     "output_type": "stream",
     "text": [
      "enter the number 1? 5\n",
      "enter the number 2? 5\n"
     ]
    },
    {
     "name": "stdout",
     "output_type": "stream",
     "text": [
      "the output is 0\n",
      "the number is positive\n"
     ]
    }
   ],
   "source": [
    "a=int(input(\"enter the number 1?\"))\n",
    "b=int(input(\"enter the number 2?\"))\n",
    "c= a-b\n",
    "print(\"the output is\",c)\n",
    "if c<0:\n",
    "    print(\"the number is negative\")\n",
    "elif c>50:\n",
    "    print(\"the different is huge\")\n",
    "else:\n",
    "    print(\"the number is positive\")"
   ]
  },
  {
   "cell_type": "markdown",
   "id": "f2bb4b88",
   "metadata": {},
   "source": [
    "### range function\n",
    "The **range()** function in Python is used to generate a sequence of numbers. It's commonly used in loops to repeat actions a specific number of times.\n",
    "\n",
    "start: (optional) The value at which the sequence starts. The default is 0.\n",
    "\n",
    "stop: The value at which the sequence ends (not inclusive).\n",
    "\n",
    "step: (optional) The difference between each number in the sequence. The default is 1."
   ]
  },
  {
   "cell_type": "code",
   "execution_count": 46,
   "id": "4773c908",
   "metadata": {
    "tags": []
   },
   "outputs": [
    {
     "name": "stdout",
     "output_type": "stream",
     "text": [
      "5\n",
      "4\n",
      "3\n",
      "2\n",
      "1\n"
     ]
    }
   ],
   "source": [
    "a = range(5,0,-1)\n",
    "print(a[0])\n",
    "print(a[1])\n",
    "print(a[2])\n",
    "print(a[3])\n",
    "print(a[4])"
   ]
  },
  {
   "cell_type": "code",
   "execution_count": 47,
   "id": "4c835868",
   "metadata": {
    "tags": []
   },
   "outputs": [
    {
     "name": "stdout",
     "output_type": "stream",
     "text": [
      "0\n",
      "1\n",
      "2\n",
      "3\n",
      "4\n"
     ]
    }
   ],
   "source": [
    "a = range(0,6,1)\n",
    "print(a[0])\n",
    "print(a[1])\n",
    "print(a[2])\n",
    "print(a[3])\n",
    "print(a[4])"
   ]
  },
  {
   "cell_type": "markdown",
   "id": "2db01f60",
   "metadata": {},
   "source": [
    "### While Loop\n",
    "a while loop allows you to repeat a block of code as long as a condition is True.\n"
   ]
  },
  {
   "cell_type": "code",
   "execution_count": 48,
   "id": "65511994",
   "metadata": {
    "tags": []
   },
   "outputs": [
    {
     "name": "stdout",
     "output_type": "stream",
     "text": [
      "1\n",
      "2\n",
      "3\n",
      "4\n",
      "5\n"
     ]
    }
   ],
   "source": [
    "a=1\n",
    "while a<=5:\n",
    "    print(a)\n",
    "    a+=1"
   ]
  },
  {
   "cell_type": "code",
   "execution_count": 49,
   "id": "b9438342",
   "metadata": {
    "tags": []
   },
   "outputs": [
    {
     "name": "stdout",
     "output_type": "stream",
     "text": [
      "0\n",
      "1\n",
      "2\n",
      "3\n",
      "4\n",
      "5\n",
      "6\n"
     ]
    }
   ],
   "source": [
    "i = 0\n",
    "while i<=6:\n",
    "    print(i)\n",
    "    i+=1"
   ]
  },
  {
   "cell_type": "code",
   "execution_count": 50,
   "id": "f4eb9220",
   "metadata": {
    "tags": []
   },
   "outputs": [
    {
     "name": "stdout",
     "output_type": "stream",
     "text": [
      "0\n",
      "1\n",
      "2\n",
      "3\n",
      "4\n",
      "5\n",
      "6\n",
      "value is overfitted\n"
     ]
    }
   ],
   "source": [
    "i = 0\n",
    "while i<=6:\n",
    "    print(i)\n",
    "    i+=1\n",
    "else:\n",
    "    print(\"value is overfitted\")"
   ]
  },
  {
   "cell_type": "markdown",
   "id": "124c15b8",
   "metadata": {},
   "source": [
    "### Break\n",
    "the break function is used to stop a loop (like a for or while loop) before it naturally ends.\n",
    "\n",
    "When Python encounters break inside a loop, it immediately exits the loop and moves to the code after it. "
   ]
  },
  {
   "cell_type": "code",
   "execution_count": 51,
   "id": "cec53ef5",
   "metadata": {
    "tags": []
   },
   "outputs": [
    {
     "name": "stdout",
     "output_type": "stream",
     "text": [
      "0\n",
      "1\n",
      "2\n",
      "3\n",
      "4\n"
     ]
    }
   ],
   "source": [
    "i = 0\n",
    "while i<=6:\n",
    "    print(i)\n",
    "    i+=1\n",
    "    if i ==5:\n",
    "        break"
   ]
  },
  {
   "cell_type": "markdown",
   "id": "e6cb8a0b",
   "metadata": {},
   "source": [
    "### continue statement\n",
    "The continue statement in Python is used inside loops (like for or while) to skip the current iteration and move to the next one. "
   ]
  },
  {
   "cell_type": "code",
   "execution_count": 52,
   "id": "78705db6",
   "metadata": {
    "tags": []
   },
   "outputs": [
    {
     "name": "stdout",
     "output_type": "stream",
     "text": [
      "1\n",
      "2\n",
      "4\n",
      "5\n",
      "6\n",
      "7\n"
     ]
    }
   ],
   "source": [
    "i = 0\n",
    "while i<=6:\n",
    "    i+=1\n",
    "    if i ==3:\n",
    "        continue\n",
    "    print(i)\n"
   ]
  },
  {
   "cell_type": "markdown",
   "id": "89c20d9d",
   "metadata": {},
   "source": [
    "### Nested while loop\n",
    "A nested while loop in Python is a loop within another loop. The inner loop will complete all its iterations for each single iteration of the outer loop"
   ]
  },
  {
   "cell_type": "code",
   "execution_count": 53,
   "id": "15ed2fd1",
   "metadata": {
    "tags": []
   },
   "outputs": [
    {
     "name": "stdout",
     "output_type": "stream",
     "text": [
      "outer loop 1\n",
      "inner loop 1\n",
      "inner loop 2\n",
      "inner loop 3\n",
      "inner loop 4\n",
      "outer loop 2\n",
      "inner loop 1\n",
      "inner loop 2\n",
      "inner loop 3\n",
      "inner loop 4\n",
      "outer loop 3\n",
      "inner loop 1\n",
      "inner loop 2\n",
      "inner loop 3\n",
      "inner loop 4\n"
     ]
    }
   ],
   "source": [
    "\n",
    "i =1\n",
    "while i<=3:\n",
    "    print(\"outer loop\",i)\n",
    "    i+=1\n",
    "    \n",
    "    j =1\n",
    "    while j<=4:\n",
    "        print(\"inner loop\",j)\n",
    "        j+=1"
   ]
  },
  {
   "cell_type": "code",
   "execution_count": 54,
   "id": "0d1f1291",
   "metadata": {
    "tags": []
   },
   "outputs": [
    {
     "name": "stdout",
     "output_type": "stream",
     "text": [
      "2\n",
      "4\n",
      "6\n",
      "8\n",
      "10\n",
      "12\n",
      "14\n",
      "16\n",
      "18\n",
      "20\n",
      "22\n",
      "24\n",
      "\n",
      "\n",
      "3\n",
      "6\n",
      "9\n",
      "12\n",
      "15\n",
      "18\n",
      "21\n",
      "24\n",
      "27\n",
      "30\n",
      "33\n",
      "36\n",
      "\n",
      "\n",
      "4\n",
      "8\n",
      "12\n",
      "16\n",
      "20\n",
      "24\n",
      "28\n",
      "32\n",
      "36\n",
      "40\n",
      "44\n",
      "48\n",
      "\n",
      "\n"
     ]
    }
   ],
   "source": [
    "i=1\n",
    "while i<=3:\n",
    "    i+=1\n",
    "\n",
    "    j=1\n",
    "    while j<=12:\n",
    "        print (i*j)\n",
    "        j +=1\n",
    "    print(\"\\n\")"
   ]
  },
  {
   "cell_type": "code",
   "execution_count": 55,
   "id": "4810e239",
   "metadata": {
    "tags": []
   },
   "outputs": [
    {
     "name": "stdout",
     "output_type": "stream",
     "text": [
      "2 * 1 = 2\n",
      "2 * 2 = 4\n",
      "2 * 3 = 6\n",
      "2 * 4 = 8\n",
      "2 * 5 = 10\n",
      "\n",
      "\n",
      "3 * 1 = 3\n",
      "3 * 2 = 6\n",
      "3 * 3 = 9\n",
      "3 * 4 = 12\n",
      "3 * 5 = 15\n",
      "\n",
      "\n",
      "4 * 1 = 4\n",
      "4 * 2 = 8\n",
      "4 * 3 = 12\n",
      "4 * 4 = 16\n",
      "4 * 5 = 20\n",
      "\n",
      "\n"
     ]
    }
   ],
   "source": [
    "i=1\n",
    "while i<=3:\n",
    "    i+=1\n",
    "\n",
    "    j=1\n",
    "    while j<=5:\n",
    "        print (i,\"*\",j,'=',i*j)\n",
    "        j +=1\n",
    "    print(\"\\n\")"
   ]
  },
  {
   "cell_type": "markdown",
   "id": "710cee41",
   "metadata": {},
   "source": [
    "### For loop\n",
    "A for loop in Python allows you to repeat a block of code multiple times, based on a sequence or a range.\n"
   ]
  },
  {
   "cell_type": "code",
   "execution_count": 56,
   "id": "af568402",
   "metadata": {
    "tags": []
   },
   "outputs": [
    {
     "name": "stdout",
     "output_type": "stream",
     "text": [
      "2\n",
      "3\n",
      "4\n",
      "5\n"
     ]
    }
   ],
   "source": [
    "\n",
    "a =range(2,6,1)\n",
    "for i in a:\n",
    "    print(i)"
   ]
  },
  {
   "cell_type": "code",
   "execution_count": 57,
   "id": "4cb01449",
   "metadata": {
    "tags": []
   },
   "outputs": [
    {
     "name": "stdout",
     "output_type": "stream",
     "text": [
      "0 - y\n",
      "1 - a\n",
      "2 - s\n",
      "3 - h\n",
      "4 - r\n",
      "5 - a\n",
      "6 - t\n",
      "7 - h\n",
      "8 - o\n",
      "9 - r\n",
      "10 - e\n"
     ]
    }
   ],
   "source": [
    "st = \"yashrathore\"\n",
    "n =len(st)\n",
    "for i in range(n):\n",
    "    print(i,\"-\",st[i])"
   ]
  },
  {
   "cell_type": "code",
   "execution_count": 58,
   "id": "146824e5",
   "metadata": {
    "tags": []
   },
   "outputs": [
    {
     "name": "stdout",
     "output_type": "stream",
     "text": [
      "i like pop\n",
      "i like rock\n",
      "i like fly\n"
     ]
    }
   ],
   "source": [
    "var = ['pop','rock','fly']\n",
    "for i in range(len(var)):\n",
    "    print('i like',var[i])"
   ]
  },
  {
   "cell_type": "code",
   "execution_count": 59,
   "id": "2c3afd42",
   "metadata": {
    "tags": []
   },
   "outputs": [
    {
     "name": "stdin",
     "output_type": "stream",
     "text": [
      "enter the name:  veer\n"
     ]
    },
    {
     "name": "stdout",
     "output_type": "stream",
     "text": [
      "80\n"
     ]
    }
   ],
   "source": [
    "student_name = input(\"enter the name: \")\n",
    "marks = {'jay':60,'veer':80,'sham':50}\n",
    "\n",
    "for student in marks:\n",
    "    if student == student_name:\n",
    "        print(marks[student])\n",
    "        break\n",
    "else:\n",
    "    print(\"No entry with that name found\")"
   ]
  },
  {
   "cell_type": "markdown",
   "id": "306ca607",
   "metadata": {},
   "source": [
    "# String\n",
    "a string is a sequence of characters enclosed within quotes. You can use either single quotes (') or double quotes (\")"
   ]
  },
  {
   "cell_type": "code",
   "execution_count": 60,
   "id": "375a2d5b",
   "metadata": {
    "tags": []
   },
   "outputs": [
    {
     "name": "stdout",
     "output_type": "stream",
     "text": [
      "0 - y\n",
      "1 - a\n",
      "2 - s\n",
      "3 - h\n",
      "4 - r\n",
      "5 - a\n",
      "6 - t\n",
      "7 - h\n",
      "8 - o\n",
      "9 - r\n",
      "10 - e\n"
     ]
    }
   ],
   "source": [
    "str_name = 'yashrathore'\n",
    "n = len(str_name)\n",
    "for i in range(n):\n",
    "    print(i,\"-\",str_name[i])"
   ]
  },
  {
   "cell_type": "code",
   "execution_count": 61,
   "id": "cd4169f0",
   "metadata": {
    "tags": []
   },
   "outputs": [],
   "source": [
    "str1 = \"my data science life\"\n",
    "str2 = \"is best forever\""
   ]
  },
  {
   "cell_type": "code",
   "execution_count": 62,
   "id": "50c601a7",
   "metadata": {
    "tags": []
   },
   "outputs": [
    {
     "data": {
      "text/plain": [
       "'my data science life is best forever'"
      ]
     },
     "execution_count": 62,
     "metadata": {},
     "output_type": "execute_result"
    }
   ],
   "source": [
    "str1+\" \"+str2"
   ]
  },
  {
   "cell_type": "code",
   "execution_count": 63,
   "id": "be9990c0",
   "metadata": {
    "tags": []
   },
   "outputs": [
    {
     "name": "stdin",
     "output_type": "stream",
     "text": [
      "enter your name :  yash\n"
     ]
    },
    {
     "name": "stdout",
     "output_type": "stream",
     "text": [
      "yash\n"
     ]
    }
   ],
   "source": [
    "name = input(\"enter your name : \")\n",
    "print(name)"
   ]
  },
  {
   "cell_type": "markdown",
   "id": "8167cde4",
   "metadata": {},
   "source": [
    "## string formating\n"
   ]
  },
  {
   "cell_type": "code",
   "execution_count": 64,
   "id": "7ef926d4",
   "metadata": {
    "tags": []
   },
   "outputs": [
    {
     "name": "stdin",
     "output_type": "stream",
     "text": [
      "what is your first name :  yash\n",
      "what is your last name :  rathore\n"
     ]
    },
    {
     "name": "stdout",
     "output_type": "stream",
     "text": [
      "my first_name is yash and last_name is rathore\n"
     ]
    }
   ],
   "source": [
    "\n",
    "\n",
    "first_name = input(\"what is your first name : \")\n",
    "last_name = input(\"what is your last name : \")\n",
    "print(\"my first_name is {first} and last_name is {last}\".format(last =last_name,first=first_name))"
   ]
  },
  {
   "cell_type": "code",
   "execution_count": 65,
   "id": "cf5bd32f",
   "metadata": {
    "tags": []
   },
   "outputs": [
    {
     "data": {
      "text/plain": [
       "9.0"
      ]
     },
     "execution_count": 65,
     "metadata": {},
     "output_type": "execute_result"
    }
   ],
   "source": [
    "4 +float(5)"
   ]
  },
  {
   "cell_type": "code",
   "execution_count": 66,
   "id": "03da6d39",
   "metadata": {
    "tags": []
   },
   "outputs": [
    {
     "data": {
      "text/plain": [
       "'day4'"
      ]
     },
     "execution_count": 66,
     "metadata": {},
     "output_type": "execute_result"
    }
   ],
   "source": [
    "'day'+str(4)"
   ]
  },
  {
   "cell_type": "code",
   "execution_count": 67,
   "id": "1f7716a8",
   "metadata": {
    "tags": []
   },
   "outputs": [
    {
     "data": {
      "text/plain": [
       "' \\nthis is my \\nfirst programming\\nlanguage'"
      ]
     },
     "execution_count": 67,
     "metadata": {},
     "output_type": "execute_result"
    }
   ],
   "source": [
    "str3 = ''' \n",
    "this is my \n",
    "first programming\n",
    "language'''\n",
    "\n",
    "str3"
   ]
  },
  {
   "cell_type": "code",
   "execution_count": 68,
   "id": "0f8a4e1e",
   "metadata": {
    "tags": []
   },
   "outputs": [
    {
     "name": "stdout",
     "output_type": "stream",
     "text": [
      "139698117751408\n",
      "139698117751408\n"
     ]
    }
   ],
   "source": [
    "str1= \"yash\"\n",
    "str2= \"yash\"\n",
    "print(id(str1))\n",
    "print(id(str2))"
   ]
  },
  {
   "cell_type": "code",
   "execution_count": 69,
   "id": "8dcefaf0",
   "metadata": {
    "tags": []
   },
   "outputs": [
    {
     "name": "stdout",
     "output_type": "stream",
     "text": [
      "yashyashyashyashyash\n"
     ]
    }
   ],
   "source": [
    "string = 'yash rathore'\n",
    "print(string[0:4] * 5)"
   ]
  },
  {
   "cell_type": "code",
   "execution_count": 70,
   "id": "af8ba45f",
   "metadata": {
    "tags": []
   },
   "outputs": [
    {
     "data": {
      "text/plain": [
       "'yash rathore'"
      ]
     },
     "execution_count": 70,
     "metadata": {},
     "output_type": "execute_result"
    }
   ],
   "source": [
    "#Converts all characters to lowercase.\n",
    "str4 = 'yash rathore'\n",
    "str4.lower()\n"
   ]
  },
  {
   "cell_type": "code",
   "execution_count": 71,
   "id": "5aa559cf",
   "metadata": {
    "tags": []
   },
   "outputs": [
    {
     "data": {
      "text/plain": [
       "'YASH RATHORE'"
      ]
     },
     "execution_count": 71,
     "metadata": {},
     "output_type": "execute_result"
    }
   ],
   "source": [
    "#Converts all characters to uppercase.\n",
    "str4 = 'yash rathore'\n",
    "str4.upper()\n"
   ]
  },
  {
   "cell_type": "code",
   "execution_count": 72,
   "id": "433f6075",
   "metadata": {
    "tags": []
   },
   "outputs": [
    {
     "data": {
      "text/plain": [
       "'YASH RATHORE'"
      ]
     },
     "execution_count": 72,
     "metadata": {},
     "output_type": "execute_result"
    }
   ],
   "source": [
    "#This method returns a new string with all the uppercase letters converted to lowercase and all the lowercase letters converted to uppercase.\n",
    "\n",
    "str4 = 'yash rathore'\n",
    "str4.swapcase()\n"
   ]
  },
  {
   "cell_type": "code",
   "execution_count": 73,
   "id": "b14f1d6f",
   "metadata": {
    "tags": []
   },
   "outputs": [
    {
     "data": {
      "text/plain": [
       "'Yash Rathore'"
      ]
     },
     "execution_count": 73,
     "metadata": {},
     "output_type": "execute_result"
    }
   ],
   "source": [
    "# Converts the first character of each word to uppercase and the rest to lowercase.\n",
    "str4 = 'yash rathore'\n",
    "str4.title()\n"
   ]
  },
  {
   "cell_type": "code",
   "execution_count": 74,
   "id": "c3c2bb08",
   "metadata": {
    "tags": []
   },
   "outputs": [
    {
     "data": {
      "text/plain": [
       "False"
      ]
     },
     "execution_count": 74,
     "metadata": {},
     "output_type": "execute_result"
    }
   ],
   "source": [
    "#Returns True if all characters in the string are uppercase; otherwise, it returns False.\n",
    "str4 = 'yashrathore'\n",
    "str4.isupper()\n"
   ]
  },
  {
   "cell_type": "code",
   "execution_count": 75,
   "id": "c72711b9",
   "metadata": {
    "tags": []
   },
   "outputs": [
    {
     "data": {
      "text/plain": [
       "True"
      ]
     },
     "execution_count": 75,
     "metadata": {},
     "output_type": "execute_result"
    }
   ],
   "source": [
    "#Returns True if all characters in the string are lowercase; otherwise, it returns False.\n",
    "str4 = 'yashrathore'\n",
    "str4.islower()\n"
   ]
  },
  {
   "cell_type": "code",
   "execution_count": 76,
   "id": "afc464da",
   "metadata": {
    "tags": []
   },
   "outputs": [
    {
     "data": {
      "text/plain": [
       "2"
      ]
     },
     "execution_count": 76,
     "metadata": {},
     "output_type": "execute_result"
    }
   ],
   "source": [
    "# The count() method returns the number of occurrences of a substring in a string.\n",
    "str4.count('a')"
   ]
  },
  {
   "cell_type": "code",
   "execution_count": 77,
   "id": "fd544c02",
   "metadata": {
    "tags": []
   },
   "outputs": [
    {
     "data": {
      "text/plain": [
       "8"
      ]
     },
     "execution_count": 77,
     "metadata": {},
     "output_type": "execute_result"
    }
   ],
   "source": [
    "#The find() method returns the lowest index of the substring if found, otherwise it returns -1.\n",
    "str4.find('o')"
   ]
  },
  {
   "cell_type": "markdown",
   "id": "d14089a3",
   "metadata": {},
   "source": [
    "## Replace and Split\n",
    "the replace() method is used to replace a specified substring with another substring,\n",
    "\n",
    "and the split() method is used to split a string into a list based on a specified delimiter.\n"
   ]
  },
  {
   "cell_type": "code",
   "execution_count": 78,
   "id": "e9e3028e",
   "metadata": {
    "tags": []
   },
   "outputs": [
    {
     "data": {
      "text/plain": [
       "'Harshrathore'"
      ]
     },
     "execution_count": 78,
     "metadata": {},
     "output_type": "execute_result"
    }
   ],
   "source": [
    "name = 'yashrathore'\n",
    "old = 'yash'\n",
    "new = 'Harsh'\n",
    "name.replace(old,new)"
   ]
  },
  {
   "cell_type": "code",
   "execution_count": 79,
   "id": "0469a9d6",
   "metadata": {
    "tags": []
   },
   "outputs": [
    {
     "name": "stdout",
     "output_type": "stream",
     "text": [
      "harshrathore\n"
     ]
    }
   ],
   "source": [
    "name = 'yashrathore'\n",
    "print(name.replace('yash','harsh'))"
   ]
  },
  {
   "cell_type": "code",
   "execution_count": 80,
   "id": "2c77e1c2",
   "metadata": {
    "tags": []
   },
   "outputs": [
    {
     "data": {
      "text/plain": [
       "['y', 'shr', 'thore']"
      ]
     },
     "execution_count": 80,
     "metadata": {},
     "output_type": "execute_result"
    }
   ],
   "source": [
    "name = 'yashrathore'\n",
    "name.split('a')"
   ]
  },
  {
   "cell_type": "code",
   "execution_count": 81,
   "id": "4f0fc91e",
   "metadata": {
    "tags": []
   },
   "outputs": [
    {
     "data": {
      "text/plain": [
       "['yash', 'rathore']"
      ]
     },
     "execution_count": 81,
     "metadata": {},
     "output_type": "execute_result"
    }
   ],
   "source": [
    "name = 'yash rathore'\n",
    "name.split(' ')\n",
    " "
   ]
  },
  {
   "cell_type": "code",
   "execution_count": 82,
   "id": "f7716957",
   "metadata": {
    "tags": []
   },
   "outputs": [
    {
     "name": "stdout",
     "output_type": "stream",
     "text": [
      "Hello!_yash_how_are_you\n"
     ]
    }
   ],
   "source": [
    "name = 'Hello!','yash','how','are','you'\n",
    "print('_'.join(name))"
   ]
  },
  {
   "cell_type": "markdown",
   "id": "4a0bef70",
   "metadata": {},
   "source": [
    "# List\n",
    "a list is a collection of items that are ordered and changeable. Lists are created using square brackets [] and can contain items of different data types, including numbers, strings, and even other lists and it is allow duplicate values."
   ]
  },
  {
   "cell_type": "code",
   "execution_count": 83,
   "id": "0a0b82dd",
   "metadata": {
    "tags": []
   },
   "outputs": [
    {
     "data": {
      "text/plain": [
       "[10, 20, 30, 'yash', 'aman', 10.5, 20.5]"
      ]
     },
     "execution_count": 83,
     "metadata": {},
     "output_type": "execute_result"
    }
   ],
   "source": [
    "lst1 = [10,20,30,'yash','aman',10.5,20.5]\n",
    "lst1"
   ]
  },
  {
   "cell_type": "code",
   "execution_count": 84,
   "id": "96ee1470",
   "metadata": {
    "tags": []
   },
   "outputs": [
    {
     "name": "stdout",
     "output_type": "stream",
     "text": [
      "10\n",
      "20\n",
      "30\n",
      "yash\n",
      "aman\n",
      "10.5\n",
      "20.5\n"
     ]
    }
   ],
   "source": [
    "lst1 = [10,20,30,'yash','aman',10.5,20.5]\n",
    "for i in lst1:\n",
    "    print(i)"
   ]
  },
  {
   "cell_type": "code",
   "execution_count": 85,
   "id": "566a7e02",
   "metadata": {
    "tags": []
   },
   "outputs": [
    {
     "name": "stdout",
     "output_type": "stream",
     "text": [
      "0 - 10\n",
      "1 - 20\n",
      "2 - 30\n",
      "3 - yash\n",
      "4 - aman\n",
      "5 - 10.5\n",
      "6 - 20.5\n"
     ]
    }
   ],
   "source": [
    "lst1 = [10,20,30,'yash','aman',10.5,20.5]\n",
    "n =len(lst1)\n",
    "for i in range(n):\n",
    "    print(i,\"-\",lst1[i])"
   ]
  },
  {
   "cell_type": "code",
   "execution_count": 86,
   "id": "1a5011a5",
   "metadata": {
    "tags": []
   },
   "outputs": [
    {
     "name": "stdout",
     "output_type": "stream",
     "text": [
      "before condition [1, 2, 3, 4, 5, 6, 7, 8]\n",
      "after condition [(2, 1)]\n",
      "after condition [(2, 1), (4, 4)]\n",
      "after condition [(2, 1), (4, 4), (6, 9)]\n",
      "after condition [(2, 1), (4, 4), (6, 9), (8, 16)]\n",
      "after condition [(2, 1), (4, 4), (6, 9), (8, 16)]\n",
      "after condition [(2, 1), (4, 4), (6, 9), (8, 16)]\n",
      "after condition [(2, 1), (4, 4), (6, 9), (8, 16)]\n",
      "after condition [(2, 1), (4, 4), (6, 9), (8, 16)]\n"
     ]
    }
   ],
   "source": [
    "l1 = [1,2,3,4,5,6,7,8]\n",
    "print(\"before condition\",l1)\n",
    "l2=[]\n",
    "for i in l1:\n",
    "    if i<5:\n",
    "        l2.append((i+i,i**2))\n",
    "    print('after condition',l2)"
   ]
  },
  {
   "cell_type": "code",
   "execution_count": 87,
   "id": "8bb3d398",
   "metadata": {
    "tags": []
   },
   "outputs": [
    {
     "name": "stdout",
     "output_type": "stream",
     "text": [
      "0 - 10\n",
      "1 - 20\n",
      "2 - 30\n",
      "3 - yash\n",
      "4 - aman\n",
      "5 - 10.5\n",
      "6 - 20.5\n"
     ]
    }
   ],
   "source": [
    "lst1 = [10,20,30,'yash','aman',10.5,20.5]\n",
    "n = len(lst1)\n",
    "i=0\n",
    "while i<n:\n",
    "    print(i,\"-\",lst1[i])\n",
    "    i+=1"
   ]
  },
  {
   "cell_type": "markdown",
   "id": "013a6fc0",
   "metadata": {},
   "source": [
    "### append method\n",
    " the append() method is used to add an item to the end of a list.\n"
   ]
  },
  {
   "cell_type": "code",
   "execution_count": 88,
   "id": "78833e89",
   "metadata": {
    "tags": []
   },
   "outputs": [
    {
     "name": "stdout",
     "output_type": "stream",
     "text": [
      "0 - [10, 20, 30, 'yash', 'aman', 10.5, 20.5, 44]\n",
      "1 - [10, 20, 30, 'yash', 'aman', 10.5, 20.5, 44]\n",
      "2 - [10, 20, 30, 'yash', 'aman', 10.5, 20.5, 44]\n",
      "3 - [10, 20, 30, 'yash', 'aman', 10.5, 20.5, 44]\n",
      "4 - [10, 20, 30, 'yash', 'aman', 10.5, 20.5, 44]\n",
      "5 - [10, 20, 30, 'yash', 'aman', 10.5, 20.5, 44]\n",
      "6 - [10, 20, 30, 'yash', 'aman', 10.5, 20.5, 44]\n"
     ]
    }
   ],
   "source": [
    "lst1 = [10,20,30,'yash','aman',10.5,20.5]\n",
    "n = len(lst1)\n",
    "lst1.append(44)\n",
    "for i in range(n):\n",
    "    print(i,\"-\",lst1)"
   ]
  },
  {
   "cell_type": "code",
   "execution_count": 89,
   "id": "7c95c29d",
   "metadata": {
    "tags": []
   },
   "outputs": [
    {
     "name": "stdout",
     "output_type": "stream",
     "text": [
      "[]\n"
     ]
    },
    {
     "name": "stdin",
     "output_type": "stream",
     "text": [
      "enter your values: 4\n",
      "enter number: 1\n",
      "enter number: 2\n",
      "enter number: 3\n",
      "enter number: 4\n"
     ]
    },
    {
     "name": "stdout",
     "output_type": "stream",
     "text": [
      "[1, 2, 3, 4]\n"
     ]
    }
   ],
   "source": [
    "lst2 = []\n",
    "print(lst2)\n",
    "n = int(input(\"enter your values:\"))\n",
    "for i in range(n):\n",
    "    lst2.append(int(input(\"enter number:\")))\n",
    "print(lst2)"
   ]
  },
  {
   "cell_type": "code",
   "execution_count": 90,
   "id": "df058fce",
   "metadata": {
    "tags": []
   },
   "outputs": [
    {
     "name": "stdout",
     "output_type": "stream",
     "text": [
      "[]\n"
     ]
    },
    {
     "name": "stdin",
     "output_type": "stream",
     "text": [
      "enter your values: 2\n",
      "enter number: 1\n",
      "enter number: 2\n"
     ]
    },
    {
     "name": "stdout",
     "output_type": "stream",
     "text": [
      "list:\n",
      "1\n",
      "2\n"
     ]
    }
   ],
   "source": [
    "lst2 = []\n",
    "print(lst2)\n",
    "n = int(input(\"enter your values:\"))\n",
    "for i in range(n):\n",
    "    lst2.append(int(input(\"enter number:\")))\n",
    "\n",
    "print('list:')\n",
    "for i in lst2:\n",
    "    print(i)"
   ]
  },
  {
   "cell_type": "markdown",
   "id": "72e58927",
   "metadata": {},
   "source": [
    "### Insert method\n",
    " you can insert an item into a list at a specific index using the insert() method. \n",
    "\n",
    "index: The position where you want to insert the item (0-based).\n",
    "\n",
    "item: The item you want to insert."
   ]
  },
  {
   "cell_type": "code",
   "execution_count": 91,
   "id": "57846578",
   "metadata": {
    "tags": []
   },
   "outputs": [
    {
     "name": "stdout",
     "output_type": "stream",
     "text": [
      "10\n",
      "yash\n",
      "20\n",
      "30\n",
      "40\n"
     ]
    }
   ],
   "source": [
    "a = [10,20,30,40]\n",
    "a.insert(1,'yash')\n",
    "for i in a:\n",
    "    print(i)"
   ]
  },
  {
   "cell_type": "code",
   "execution_count": 92,
   "id": "9945793c",
   "metadata": {
    "tags": []
   },
   "outputs": [
    {
     "name": "stdout",
     "output_type": "stream",
     "text": [
      "[10, 'yash', 20, 30, 40]\n"
     ]
    }
   ],
   "source": [
    "a = [10,20,30,40]\n",
    "a.insert(1,'yash')\n",
    "print(a)"
   ]
  },
  {
   "cell_type": "markdown",
   "id": "07078c45",
   "metadata": {},
   "source": [
    "### POP method\n",
    "The pop() method is used to remove and return an item from a list at a specified index. If no index is specified, it removes and returns the last item.\n",
    "\n"
   ]
  },
  {
   "cell_type": "code",
   "execution_count": 93,
   "id": "75c3b477",
   "metadata": {
    "tags": []
   },
   "outputs": [
    {
     "data": {
      "text/plain": [
       "40"
      ]
     },
     "execution_count": 93,
     "metadata": {},
     "output_type": "execute_result"
    }
   ],
   "source": [
    "a = [10,20,30,40]\n",
    "a.pop()"
   ]
  },
  {
   "cell_type": "code",
   "execution_count": 94,
   "id": "5ebe381e",
   "metadata": {
    "tags": []
   },
   "outputs": [
    {
     "data": {
      "text/plain": [
       "20"
      ]
     },
     "execution_count": 94,
     "metadata": {},
     "output_type": "execute_result"
    }
   ],
   "source": [
    "a = [10,20,30,40]\n",
    "a.pop(1)"
   ]
  },
  {
   "cell_type": "markdown",
   "id": "255dd2cc",
   "metadata": {},
   "source": [
    "### Index method\n",
    "an index refers to the position of an item in a list, string, or other ordered collection."
   ]
  },
  {
   "cell_type": "code",
   "execution_count": 95,
   "id": "a0ed9ff1",
   "metadata": {
    "tags": []
   },
   "outputs": [
    {
     "data": {
      "text/plain": [
       "2"
      ]
     },
     "execution_count": 95,
     "metadata": {},
     "output_type": "execute_result"
    }
   ],
   "source": [
    "a = [10,20,30,40]\n",
    "a.index(30)"
   ]
  },
  {
   "cell_type": "markdown",
   "id": "706af985",
   "metadata": {},
   "source": [
    "### Reverse method\n",
    "you can reverse a list using the reverse() method or by slicing."
   ]
  },
  {
   "cell_type": "code",
   "execution_count": 96,
   "id": "642b8be4",
   "metadata": {
    "tags": []
   },
   "outputs": [
    {
     "name": "stdout",
     "output_type": "stream",
     "text": [
      "[40, 30, 20, 10]\n"
     ]
    }
   ],
   "source": [
    "a = [10,20,30,40]\n",
    "a.reverse()\n",
    "print(a)"
   ]
  },
  {
   "cell_type": "markdown",
   "id": "ec2e329b",
   "metadata": {},
   "source": [
    "### extend method\n",
    "the **extend()** method is used to add multiple elements to the end of a list. Unlike append(), which adds a single element, extend() takes an iterable (like another list) and adds each of its elements to the list.\n"
   ]
  },
  {
   "cell_type": "code",
   "execution_count": 97,
   "id": "4f6306bd",
   "metadata": {
    "tags": []
   },
   "outputs": [
    {
     "name": "stdout",
     "output_type": "stream",
     "text": [
      "[10, 20, 30, 40, 40, 50, 60]\n"
     ]
    }
   ],
   "source": [
    "a = [10,20,30,40]\n",
    "b = [40,50,60]\n",
    "a.extend(b)\n",
    "print(a)"
   ]
  },
  {
   "cell_type": "markdown",
   "id": "233c26cd",
   "metadata": {},
   "source": [
    "### Count method\n",
    "you can count the occurrences of an item in a list using the **count()** method. \n"
   ]
  },
  {
   "cell_type": "code",
   "execution_count": 98,
   "id": "34830894",
   "metadata": {
    "tags": []
   },
   "outputs": [
    {
     "data": {
      "text/plain": [
       "3"
      ]
     },
     "execution_count": 98,
     "metadata": {},
     "output_type": "execute_result"
    }
   ],
   "source": [
    "a = [10,20,30,40,10,50,10]\n",
    "a.count(10)"
   ]
  },
  {
   "cell_type": "markdown",
   "id": "b147289c",
   "metadata": {},
   "source": [
    "### Clear method\n",
    "the **clear()** method in Python is used to remove all items from a list. After using this method, the list will be empty."
   ]
  },
  {
   "cell_type": "code",
   "execution_count": 99,
   "id": "905dd5a8",
   "metadata": {
    "tags": []
   },
   "outputs": [
    {
     "name": "stdout",
     "output_type": "stream",
     "text": [
      "[]\n"
     ]
    }
   ],
   "source": [
    "a = [10,20,30,40]\n",
    "a.clear()\n",
    "print(a)"
   ]
  },
  {
   "cell_type": "markdown",
   "id": "e11cd231",
   "metadata": {},
   "source": [
    "### Slicing method\n",
    "Slicing in Python allows you to extract a portion of a list (or other sequence types like strings and tuples) using a specific syntax\n",
    "**list[start:stop:step]**\n",
    "\n",
    "start: The index to start slicing from (inclusive).\n",
    "\n",
    "stop: The index to stop slicing (exclusive).\n",
    "\n",
    "step: The step value, which determines the increment between each index in the slice.\n"
   ]
  },
  {
   "cell_type": "code",
   "execution_count": 100,
   "id": "b33c1e1d",
   "metadata": {
    "tags": []
   },
   "outputs": [
    {
     "data": {
      "text/plain": [
       "[10, 20, 'jai', 'shambhu', 30, 40]"
      ]
     },
     "execution_count": 100,
     "metadata": {},
     "output_type": "execute_result"
    }
   ],
   "source": [
    "f =[10,20,'jai','shambhu',30,40]\n",
    "f[:]"
   ]
  },
  {
   "cell_type": "code",
   "execution_count": 101,
   "id": "2a793d50",
   "metadata": {
    "tags": []
   },
   "outputs": [
    {
     "data": {
      "text/plain": [
       "[10, 'jai']"
      ]
     },
     "execution_count": 101,
     "metadata": {},
     "output_type": "execute_result"
    }
   ],
   "source": [
    "f =[10,20,'jai','shambhu',30,40]\n",
    "a = f[:4:2]\n",
    "a"
   ]
  },
  {
   "cell_type": "markdown",
   "id": "55c1e766",
   "metadata": {},
   "source": []
  },
  {
   "cell_type": "code",
   "execution_count": 102,
   "id": "57d87aa3",
   "metadata": {
    "tags": []
   },
   "outputs": [
    {
     "name": "stdout",
     "output_type": "stream",
     "text": [
      "jai\n",
      "shambhu\n",
      "30\n"
     ]
    }
   ],
   "source": [
    "f =[10,20,'jai','shambhu',30,40,50]\n",
    "a =f[2:5]\n",
    "\n",
    "for i in a:\n",
    "    print(i)"
   ]
  },
  {
   "cell_type": "code",
   "execution_count": 103,
   "id": "3715d802",
   "metadata": {
    "tags": []
   },
   "outputs": [
    {
     "data": {
      "text/plain": [
       "[10]"
      ]
     },
     "execution_count": 103,
     "metadata": {},
     "output_type": "execute_result"
    }
   ],
   "source": [
    "f =[10,20,'jai','shambhu',30,40]\n",
    "f[0:-5]"
   ]
  },
  {
   "cell_type": "code",
   "execution_count": 104,
   "id": "4dd66844",
   "metadata": {
    "tags": []
   },
   "outputs": [
    {
     "data": {
      "text/plain": [
       "['jai', 'shambhu', 30]"
      ]
     },
     "execution_count": 104,
     "metadata": {},
     "output_type": "execute_result"
    }
   ],
   "source": [
    "f =[10,20,'jai','shambhu',30,40]\n",
    "f[-4:-1]"
   ]
  },
  {
   "cell_type": "markdown",
   "id": "e42154d5",
   "metadata": {},
   "source": [
    "### Nested List\n",
    "A nested list in Python is simply a list that contains other lists as its elements. This can be useful for organizing data in a multi-dimensional format, such as matrices or grids.\n",
    "\n"
   ]
  },
  {
   "cell_type": "code",
   "execution_count": 105,
   "id": "96d27c2f",
   "metadata": {
    "tags": []
   },
   "outputs": [
    {
     "name": "stdout",
     "output_type": "stream",
     "text": [
      "20\n",
      "[50, 60, 70, 80]\n",
      "60\n",
      "[20, 30, 40, [50, 60, 70, 80]]\n"
     ]
    }
   ],
   "source": [
    "f =[10,20,30,40,[50,60,70,80]]\n",
    "print(f[1])\n",
    "print(f[4])\n",
    "print(f[4][1])\n",
    "print(f[1:5])"
   ]
  },
  {
   "cell_type": "code",
   "execution_count": 106,
   "id": "25e4ef1d",
   "metadata": {
    "tags": []
   },
   "outputs": [
    {
     "data": {
      "text/plain": [
       "[10, 20, 30, 40, [50, 60, 70, 90]]"
      ]
     },
     "execution_count": 106,
     "metadata": {},
     "output_type": "execute_result"
    }
   ],
   "source": [
    "f =[10,20,30,40,[50,60,70,80]]\n",
    "f[4][3]=90\n",
    "f"
   ]
  },
  {
   "cell_type": "code",
   "execution_count": 107,
   "id": "6e7513b9",
   "metadata": {
    "tags": []
   },
   "outputs": [
    {
     "name": "stdout",
     "output_type": "stream",
     "text": [
      "[10, 20, 30, 40]\n",
      "[50, 60, 70, 80]\n"
     ]
    }
   ],
   "source": [
    "f =[[10,20,30,40],[50,60,70,80]]\n",
    "print(f[0])\n",
    "print(f[1])"
   ]
  },
  {
   "cell_type": "code",
   "execution_count": 108,
   "id": "8a2d91b0",
   "metadata": {
    "tags": []
   },
   "outputs": [
    {
     "name": "stdout",
     "output_type": "stream",
     "text": [
      "4 0 50\n",
      "4 1 60\n",
      "4 2 70\n",
      "4 3 80\n",
      "4 [50, 60, 70, 80]\n"
     ]
    }
   ],
   "source": [
    "f =[10,20,30,40,[50,60,70,80]]\n",
    "n=len(f)\n",
    "for i in range(n):\n",
    "    if type(f[i]) is list:\n",
    "        if len(f[i])>1:\n",
    "            k=len(f[i])\n",
    "        for j in range(k):\n",
    "            print(i,j,f[i][j])\n",
    "        else:\n",
    "            print(i,f[i])"
   ]
  },
  {
   "cell_type": "code",
   "execution_count": 109,
   "id": "4fc583d2",
   "metadata": {
    "tags": []
   },
   "outputs": [
    {
     "name": "stdout",
     "output_type": "stream",
     "text": [
      "10\n",
      "20\n",
      "30\n",
      "40\n",
      "\n",
      "50\n",
      "60\n",
      "70\n",
      "80\n",
      "\n"
     ]
    }
   ],
   "source": [
    "f =[[10,20,30,40],[50,60,70,80]]\n",
    "\n",
    "for i in f:\n",
    "    for j in i:\n",
    "        print(j)\n",
    "    print()"
   ]
  },
  {
   "cell_type": "code",
   "execution_count": 110,
   "id": "df82ebf9",
   "metadata": {
    "tags": []
   },
   "outputs": [
    {
     "name": "stdout",
     "output_type": "stream",
     "text": [
      "0 0 10\n",
      "0 1 20\n",
      "0 2 30\n",
      "0 3 40\n",
      "\n",
      "1 0 50\n",
      "1 1 60\n",
      "1 2 70\n",
      "1 3 80\n",
      "\n"
     ]
    }
   ],
   "source": [
    "f =[[10,20,30,40],[50,60,70,80]]\n",
    "n =len(f)\n",
    "for i in range(n):\n",
    "    \n",
    "    for j in range(len(f[i])):\n",
    "        print(i,j,f[i][j])\n",
    "    print()"
   ]
  },
  {
   "cell_type": "code",
   "execution_count": 111,
   "id": "a0c70c2d",
   "metadata": {
    "tags": []
   },
   "outputs": [
    {
     "name": "stdout",
     "output_type": "stream",
     "text": [
      "0 0 10\n",
      "0 1 20\n",
      "0 2 30\n",
      "0 3 40\n",
      "1 0 50\n",
      "1 1 60\n",
      "1 2 70\n",
      "1 3 80\n"
     ]
    }
   ],
   "source": [
    "f =[[10,20,30,40],[50,60,70,80]]\n",
    "n =len(f)\n",
    "i =0\n",
    "while i<n:\n",
    "    j=0\n",
    "    while j<len(f[i]):\n",
    "        print(i,j,f[i][j])\n",
    "        j+=1\n",
    "    i+=1"
   ]
  },
  {
   "cell_type": "markdown",
   "id": "ffe23866",
   "metadata": {},
   "source": [
    "### passing a list to function\n"
   ]
  },
  {
   "cell_type": "code",
   "execution_count": 112,
   "id": "20036fb5",
   "metadata": {
    "tags": []
   },
   "outputs": [],
   "source": [
    "def show(l):\n",
    "    print(l)\n",
    "    print(type(l))\n",
    "    for i in l:\n",
    "        print(i)\n",
    "lst= [10,20,30,40,\"yash\"]"
   ]
  },
  {
   "cell_type": "code",
   "execution_count": 113,
   "id": "74e92698",
   "metadata": {
    "tags": []
   },
   "outputs": [
    {
     "name": "stdout",
     "output_type": "stream",
     "text": [
      "[10, 20, 30, 40, 'yash']\n",
      "<class 'list'>\n",
      "10\n",
      "20\n",
      "30\n",
      "40\n",
      "yash\n"
     ]
    }
   ],
   "source": [
    "show(lst)"
   ]
  },
  {
   "cell_type": "code",
   "execution_count": 114,
   "id": "19dcffb4",
   "metadata": {
    "tags": []
   },
   "outputs": [
    {
     "name": "stdout",
     "output_type": "stream",
     "text": [
      "[10, 20, 30, 'veer']\n",
      "<class 'list'>\n",
      "10\n",
      "20\n",
      "30\n",
      "veer\n",
      "[10, 20, 30, 'veer']\n",
      "<class 'list'>\n"
     ]
    }
   ],
   "source": [
    "def show(l):\n",
    "    print(l)\n",
    "    print(type(l))\n",
    "    for i in l:\n",
    "        print(i)\n",
    "    return l\n",
    "\n",
    "lst = [10,20,30,'veer']\n",
    "new_lst =show(lst)\n",
    "print(new_lst)\n",
    "print(type(new_lst))"
   ]
  },
  {
   "cell_type": "code",
   "execution_count": 115,
   "id": "9e0042db",
   "metadata": {
    "tags": []
   },
   "outputs": [
    {
     "name": "stdout",
     "output_type": "stream",
     "text": [
      "[0, 1, 2, 3, 4, 5]\n"
     ]
    }
   ],
   "source": [
    "a = list(range(0,6))\n",
    "print(a)"
   ]
  },
  {
   "cell_type": "markdown",
   "id": "daddb155",
   "metadata": {},
   "source": [
    "# Tuple\n",
    " a **tuple** is a collection of items that is ordered and immutable (meaning once it's created, you can't change it). \n",
    " \n",
    " **Ordered**: The items have a defined order, and that order will not change.\n",
    "\n",
    "**Immutable**: You cannot change, add, or remove items after the tuple is created.\n",
    "\n",
    "**Allow Duplicates**: Tuples can have items that are the same."
   ]
  },
  {
   "cell_type": "code",
   "execution_count": 116,
   "id": "5e9decfe",
   "metadata": {
    "tags": []
   },
   "outputs": [
    {
     "data": {
      "text/plain": [
       "tuple"
      ]
     },
     "execution_count": 116,
     "metadata": {},
     "output_type": "execute_result"
    }
   ],
   "source": [
    "t =()\n",
    "type(t)"
   ]
  },
  {
   "cell_type": "code",
   "execution_count": 117,
   "id": "f881a115",
   "metadata": {
    "tags": []
   },
   "outputs": [
    {
     "name": "stdout",
     "output_type": "stream",
     "text": [
      "(10, 20, 30, 40, 50)\n"
     ]
    },
    {
     "data": {
      "text/plain": [
       "tuple"
      ]
     },
     "execution_count": 117,
     "metadata": {},
     "output_type": "execute_result"
    }
   ],
   "source": [
    "T =(10,20,30,40,50)\n",
    "print(T)\n",
    "type(T)"
   ]
  },
  {
   "cell_type": "code",
   "execution_count": 118,
   "id": "839e8d76",
   "metadata": {
    "tags": []
   },
   "outputs": [
    {
     "name": "stdout",
     "output_type": "stream",
     "text": [
      "0 - 10\n",
      "1 - 20\n",
      "2 - 30\n",
      "3 - 40\n",
      "4 - 50\n"
     ]
    }
   ],
   "source": [
    "T =(10,20,30,40,50)\n",
    "n =len(T)\n",
    "\n",
    "for i in range(n):\n",
    "    print(i,\"-\",T[i])"
   ]
  },
  {
   "cell_type": "code",
   "execution_count": 119,
   "id": "49160fd8",
   "metadata": {
    "tags": []
   },
   "outputs": [
    {
     "name": "stdout",
     "output_type": "stream",
     "text": [
      "0 - 10\n",
      "1 - 20\n",
      "2 - 30\n",
      "3 - 40\n",
      "4 - 50\n"
     ]
    }
   ],
   "source": [
    "T =(10,20,30,40,50)\n",
    "n =len(T)\n",
    "i=0\n",
    "\n",
    "while i<n:\n",
    "    print(i,\"-\",T[i])\n",
    "    i +=1"
   ]
  },
  {
   "cell_type": "code",
   "execution_count": 120,
   "id": "f0137813",
   "metadata": {
    "tags": []
   },
   "outputs": [
    {
     "name": "stdin",
     "output_type": "stream",
     "text": [
      "enter number of elements: 4\n",
      "enter elements: 1\n",
      "enter elements: 2\n",
      "enter elements: 3\n",
      "enter elements: 4\n"
     ]
    },
    {
     "name": "stdout",
     "output_type": "stream",
     "text": [
      "<class 'list'>\n",
      "<class 'tuple'>\n",
      "tuple:\n",
      "1\n",
      "2\n",
      "3\n",
      "4\n"
     ]
    }
   ],
   "source": [
    "tup = []\n",
    "n = int(input(\"enter number of elements:\"))\n",
    "\n",
    "for i in range(n):\n",
    "    tup.append(int(input(\"enter elements:\")))\n",
    "    \n",
    "    \n",
    "print(type(tup))\n",
    "b = tuple(tup)\n",
    "print(type(b))\n",
    "\n",
    "print(\"tuple:\")\n",
    "for element in tup:\n",
    "    print(element)"
   ]
  },
  {
   "cell_type": "markdown",
   "id": "4ead07f8",
   "metadata": {},
   "source": [
    "# Set\n",
    "A **set** in Python is a built-in data type that allows you to store multiple unique items in an unordered collection. Sets are useful when you want to ensure that all elements are distinct and can perform operations like union, intersection, and difference.\n",
    "\n",
    "**Unordered:** The items do not have a defined order, and you cannot access items by an index.\n",
    "\n",
    "**Mutable:** You can add or remove items from a set.\n",
    "\n",
    "**Unique Elements:** A set automatically removes duplicate values."
   ]
  },
  {
   "cell_type": "code",
   "execution_count": 121,
   "id": "abf05323",
   "metadata": {
    "tags": []
   },
   "outputs": [
    {
     "name": "stdout",
     "output_type": "stream",
     "text": [
      "set()\n"
     ]
    },
    {
     "data": {
      "text/plain": [
       "set"
      ]
     },
     "execution_count": 121,
     "metadata": {},
     "output_type": "execute_result"
    }
   ],
   "source": [
    "S = set()\n",
    "print(S)\n",
    "type(S)"
   ]
  },
  {
   "cell_type": "code",
   "execution_count": 122,
   "id": "c8437c9e",
   "metadata": {
    "tags": []
   },
   "outputs": [
    {
     "name": "stdout",
     "output_type": "stream",
     "text": [
      "{'rathore', 10, 'yash', 20}\n"
     ]
    }
   ],
   "source": [
    "S ={10,20,\"yash\"}\n",
    "S.add('rathore')\n",
    "print(S)"
   ]
  },
  {
   "cell_type": "code",
   "execution_count": 123,
   "id": "d9987f6a",
   "metadata": {
    "tags": []
   },
   "outputs": [
    {
     "name": "stdout",
     "output_type": "stream",
     "text": [
      "{10, 'yash', 20}\n",
      "<class 'set'>\n"
     ]
    }
   ],
   "source": [
    "S ={10,20,\"yash\"}\n",
    "print(S)\n",
    "print(type(S))"
   ]
  },
  {
   "cell_type": "code",
   "execution_count": 124,
   "id": "c7e626a1",
   "metadata": {
    "tags": []
   },
   "outputs": [
    {
     "name": "stdout",
     "output_type": "stream",
     "text": [
      "{40, 10, 'yash', 'raj', 20, 30}\n"
     ]
    }
   ],
   "source": [
    "S ={10,20,\"yash\"}\n",
    "S.update((30,40,\"raj\"))\n",
    "print(S)"
   ]
  },
  {
   "cell_type": "code",
   "execution_count": 125,
   "id": "83b5b414",
   "metadata": {
    "tags": []
   },
   "outputs": [
    {
     "name": "stdin",
     "output_type": "stream",
     "text": [
      "enter number of elements: 5\n",
      "enter element: 6\n",
      "enter element: 5\n",
      "enter element: 4\n",
      "enter element: 3\n",
      "enter element: 2\n"
     ]
    },
    {
     "name": "stdout",
     "output_type": "stream",
     "text": [
      "3\n",
      "4\n",
      "6\n",
      "5\n",
      "2\n"
     ]
    }
   ],
   "source": [
    "s = set()\n",
    "n = int(input(\"enter number of elements:\"))\n",
    "\n",
    "for i in range(n):\n",
    "    a = input(\"enter element:\")\n",
    "    s.add(a)\n",
    "    \n",
    "for i in s:\n",
    "    print(i)"
   ]
  },
  {
   "cell_type": "code",
   "execution_count": 126,
   "id": "2e4d32f9",
   "metadata": {
    "tags": []
   },
   "outputs": [
    {
     "name": "stdout",
     "output_type": "stream",
     "text": [
      "{10, 'yash', 50, 20}\n",
      "139698135930240\n",
      "\n",
      "after copy {10, 'yash', 50, 20}\n",
      "139698135930240\n"
     ]
    }
   ],
   "source": [
    "S ={10,20,\"yash\",50}\n",
    "print(S)\n",
    "print(id(S))\n",
    "print()\n",
    "\n",
    "new =S.copy()\n",
    "print(\"after copy\",new)\n",
    "print(id(S))"
   ]
  },
  {
   "cell_type": "markdown",
   "id": "0ee81c3c",
   "metadata": {},
   "source": [
    "### Dictionary\n",
    "\n",
    "a dictionary is an unordered collection of data that stores key-value pairs. Each key is unique, and it maps to a corresponding value. Dictionaries are commonly used to store data that can be easily looked up using a key.\n",
    "\n",
    "**Key-Value Pair:** The dictionary is made up of keys and associated values, represented as key: value.\n",
    "\n",
    "**Unordered:** Dictionaries do not maintain the order of elements (although in Python 3.7 and later, they are insertion-ordered).\n",
    "\n",
    "**Mutable:** Dictionaries can be modified after creation (keys can be added, updated, or removed).\n",
    "\n",
    "**Keys must be immutable types:** This means you cannot use mutable types like lists as dictionary keys, but strings, numbers, and tuples can be used.\n"
   ]
  },
  {
   "cell_type": "code",
   "execution_count": 127,
   "id": "8abb2e4b",
   "metadata": {
    "tags": []
   },
   "outputs": [
    {
     "name": "stdout",
     "output_type": "stream",
     "text": [
      "{10: 'yash', 20: 'pranshul', 30: 'radhika'}\n",
      "pranshul\n",
      "radhika\n"
     ]
    }
   ],
   "source": [
    "dic = {10:\"yash\",20:\"pranshul\",30:\"radhika\"}\n",
    "print(dic)\n",
    "print(dic[20])\n",
    "print(dic[30])"
   ]
  },
  {
   "cell_type": "markdown",
   "id": "76e7c5d0",
   "metadata": {},
   "source": [
    "### Modify"
   ]
  },
  {
   "cell_type": "code",
   "execution_count": 128,
   "id": "02b85495",
   "metadata": {
    "tags": []
   },
   "outputs": [
    {
     "name": "stdout",
     "output_type": "stream",
     "text": [
      "before modification:\n",
      "{10: 'yash', 20: 'pranshul', 30: 'radhika'}\n",
      "139698117914944\n",
      "\n",
      "after modification:\n",
      "{10: 'pinky', 20: 'pranshul', 30: 'radhika'}\n",
      "139698117914944\n"
     ]
    }
   ],
   "source": [
    "my_dic = {10:\"yash\",20:\"pranshul\",30:\"radhika\"}\n",
    "print(\"before modification:\")\n",
    "print(my_dic)\n",
    "print(id(my_dic))\n",
    "print()\n",
    "\n",
    "my_dic[10]=\"pinky\"\n",
    "print(\"after modification:\")\n",
    "print(my_dic)\n",
    "print(id(my_dic))"
   ]
  },
  {
   "cell_type": "markdown",
   "id": "d7c22e85",
   "metadata": {},
   "source": [
    "### Addition"
   ]
  },
  {
   "cell_type": "code",
   "execution_count": 129,
   "id": "3e143cbb",
   "metadata": {
    "tags": []
   },
   "outputs": [
    {
     "name": "stdout",
     "output_type": "stream",
     "text": [
      "before adding:\n",
      "{10: 'pinky', 20: 'pranshul', 30: 'radhika'}\n",
      "\n",
      "after adding:\n",
      "{10: 'pinky', 20: 'pranshul', 30: 'radhika', 40: 'yash'}\n"
     ]
    }
   ],
   "source": [
    "my_dic1 = {10: 'pinky', 20: 'pranshul', 30: 'radhika'}\n",
    "print(\"before adding:\")\n",
    "print(my_dic1)\n",
    "print()\n",
    "\n",
    "my_dic1[40]=\"yash\"\n",
    "print(\"after adding:\")\n",
    "print(my_dic1)"
   ]
  },
  {
   "cell_type": "markdown",
   "id": "1197103f",
   "metadata": {},
   "source": [
    "### Delete"
   ]
  },
  {
   "cell_type": "code",
   "execution_count": 130,
   "id": "83e6baad",
   "metadata": {
    "tags": []
   },
   "outputs": [
    {
     "name": "stdout",
     "output_type": "stream",
     "text": [
      "before deleting:\n",
      "{10: 'pinky', 20: 'pranshul', 30: 'radhika', 40: 'yash'}\n",
      "\n",
      "after deleting:\n",
      "{10: 'pinky', 20: 'pranshul', 40: 'yash'}\n",
      "\n"
     ]
    }
   ],
   "source": [
    "my_dic2 = {10: 'pinky', 20: 'pranshul', 30: 'radhika', 40: 'yash'}\n",
    "print(\"before deleting:\")\n",
    "print(my_dic2)\n",
    "print()\n",
    "\n",
    "del my_dic2[30]\n",
    "print(\"after deleting:\")\n",
    "print(my_dic2)\n",
    "print()"
   ]
  },
  {
   "cell_type": "markdown",
   "id": "34744b57",
   "metadata": {},
   "source": [
    "### Testing key"
   ]
  },
  {
   "cell_type": "code",
   "execution_count": 131,
   "id": "8b985714",
   "metadata": {
    "tags": []
   },
   "outputs": [
    {
     "name": "stdout",
     "output_type": "stream",
     "text": [
      "True\n"
     ]
    }
   ],
   "source": [
    "my_dic2 = {10: 'pinky', 20: 'pranshul', 30: 'radhika', 40: 'yash'}\n",
    "print(20 in my_dic2)"
   ]
  },
  {
   "cell_type": "code",
   "execution_count": 132,
   "id": "4b1d6a9f",
   "metadata": {
    "tags": []
   },
   "outputs": [
    {
     "name": "stdout",
     "output_type": "stream",
     "text": [
      "False\n"
     ]
    }
   ],
   "source": [
    "my_dic2 = {10: 'pinky', 20: 'pranshul', 30: 'radhika', 40: 'yash'}\n",
    "print(30 not in my_dic2)"
   ]
  },
  {
   "cell_type": "markdown",
   "id": "5dc9bdd5",
   "metadata": {},
   "source": [
    "### Clear"
   ]
  },
  {
   "cell_type": "code",
   "execution_count": 133,
   "id": "4083af00",
   "metadata": {
    "tags": []
   },
   "outputs": [
    {
     "name": "stdout",
     "output_type": "stream",
     "text": [
      "before clear:\n",
      "{10: 'pinky', 20: 'pranshul', 30: 'radhika', 40: 'yash'}\n",
      "\n",
      "After clear:\n",
      "{10: 'pinky', 20: 'pranshul', 30: 'radhika'}\n",
      "\n"
     ]
    }
   ],
   "source": [
    "my_dic2 = {10: 'pinky', 20: 'pranshul', 30: 'radhika', 40: 'yash'}\n",
    "print(\"before clear:\")\n",
    "print(my_dic2)\n",
    "print()\n",
    "\n",
    "my_dic2.clear()\n",
    "print(\"After clear:\")\n",
    "print(my_dic)\n",
    "print()"
   ]
  },
  {
   "cell_type": "markdown",
   "id": "1a5ec4de",
   "metadata": {},
   "source": [
    "### Copy"
   ]
  },
  {
   "cell_type": "code",
   "execution_count": 134,
   "id": "4d91ba98",
   "metadata": {
    "tags": []
   },
   "outputs": [
    {
     "name": "stdout",
     "output_type": "stream",
     "text": [
      "original dic:\n",
      "{10: 'pinky', 20: 'pranshul', 30: 'radhika', 40: 'yash'}\n",
      "139698117667072\n",
      "\n",
      "copy dic:\n",
      "{10: 'pinky', 20: 'pranshul', 30: 'radhika', 40: 'yash'}\n",
      "139698117835584\n",
      "\n"
     ]
    }
   ],
   "source": [
    "my_dic2 = {10: 'pinky', 20: 'pranshul', 30: 'radhika', 40: 'yash'}\n",
    "print(\"original dic:\")\n",
    "print(my_dic2)\n",
    "print(id(my_dic2))\n",
    "print()\n",
    "\n",
    "new = my_dic2.copy()\n",
    "print(\"copy dic:\")\n",
    "print(new)\n",
    "print(id(new))\n",
    "print()"
   ]
  },
  {
   "cell_type": "markdown",
   "id": "156eeec4",
   "metadata": {},
   "source": [
    "### item"
   ]
  },
  {
   "cell_type": "code",
   "execution_count": 135,
   "id": "2534d11e",
   "metadata": {
    "tags": []
   },
   "outputs": [
    {
     "name": "stdout",
     "output_type": "stream",
     "text": [
      "original dic:\n",
      "{10: 'pinky', 20: 'pranshul', 30: 'radhika', 40: 'yash'}\n",
      "\n",
      "dict_items([(10, 'pinky'), (20, 'pranshul'), (30, 'radhika'), (40, 'yash')])\n",
      "<class 'dict_items'>\n",
      "10\n",
      "pinky\n",
      "20\n",
      "pranshul\n",
      "30\n",
      "radhika\n",
      "40\n",
      "yash\n"
     ]
    }
   ],
   "source": [
    "my_dic2 = {10: 'pinky', 20: 'pranshul', 30: 'radhika', 40: 'yash'}\n",
    "print(\"original dic:\")\n",
    "print(my_dic2)\n",
    "print()\n",
    "\n",
    "dic = my_dic2.items()\n",
    "print(dic)\n",
    "print(type(dic))\n",
    "\n",
    "for i in dic:\n",
    "    for j in i:\n",
    "        print(j)"
   ]
  },
  {
   "cell_type": "markdown",
   "id": "69bf3d9a",
   "metadata": {},
   "source": [
    "### keys"
   ]
  },
  {
   "cell_type": "code",
   "execution_count": 136,
   "id": "145245a8",
   "metadata": {
    "tags": []
   },
   "outputs": [
    {
     "name": "stdout",
     "output_type": "stream",
     "text": [
      "original dic:\n",
      "{10: 'pinky', 20: 'pranshul', 30: 'radhika', 40: 'yash'}\n",
      "139698117840128\n",
      "\n",
      "dict_keys([10, 20, 30, 40])\n",
      "<class 'dict_keys'>\n"
     ]
    }
   ],
   "source": [
    "my_dic2 = {10: 'pinky', 20: 'pranshul', 30: 'radhika', 40: 'yash'}\n",
    "print(\"original dic:\")\n",
    "print(my_dic2)\n",
    "print(id(my_dic2))\n",
    "print()\n",
    "\n",
    "all_keys = my_dic2.keys()\n",
    "print(all_keys)\n",
    "print(type(all_keys))"
   ]
  },
  {
   "cell_type": "markdown",
   "id": "9aaa0558",
   "metadata": {},
   "source": [
    "### Values"
   ]
  },
  {
   "cell_type": "code",
   "execution_count": 137,
   "id": "ea3418f7",
   "metadata": {
    "tags": []
   },
   "outputs": [
    {
     "name": "stdout",
     "output_type": "stream",
     "text": [
      "original dic:\n",
      "{10: 'pinky', 20: 'pranshul', 30: 'radhika', 40: 'yash'}\n",
      "\n",
      "dict_values(['pinky', 'pranshul', 'radhika', 'yash'])\n",
      "<class 'dict_values'>\n"
     ]
    }
   ],
   "source": [
    "my_dic2 = {10: 'pinky', 20: 'pranshul', 30: 'radhika', 40: 'yash'}\n",
    "print(\"original dic:\")\n",
    "print(my_dic2)\n",
    "print()\n",
    "\n",
    "all_keys =my_dic2.values()\n",
    "print(all_keys)\n",
    "print(type(all_keys))"
   ]
  },
  {
   "cell_type": "markdown",
   "id": "7cc5b309",
   "metadata": {},
   "source": [
    "### Update"
   ]
  },
  {
   "cell_type": "code",
   "execution_count": 138,
   "id": "de1e1370",
   "metadata": {
    "tags": []
   },
   "outputs": [
    {
     "name": "stdout",
     "output_type": "stream",
     "text": [
      "original dic:\n",
      "{10: 'pinky', 20: 'pranshul', 30: 'radhika', 40: 'yash'}\n",
      "\n",
      "after update:\n",
      "{10: 'pinky', 20: 'pranshul', 30: 'radhika', 40: 'yash', 50: 'sumit'}\n"
     ]
    }
   ],
   "source": [
    "my_dic2 = {10: 'pinky', 20: 'pranshul', 30: 'radhika', 40: 'yash'}\n",
    "print(\"original dic:\")\n",
    "print(my_dic2)\n",
    "print()\n",
    "\n",
    "my_dic2.update({50:\"sumit\"})\n",
    "print(\"after update:\")\n",
    "print(my_dic2)"
   ]
  },
  {
   "cell_type": "markdown",
   "id": "53eb4606",
   "metadata": {},
   "source": [
    "### Pop"
   ]
  },
  {
   "cell_type": "code",
   "execution_count": 139,
   "id": "1a25acb9",
   "metadata": {
    "tags": []
   },
   "outputs": [
    {
     "name": "stdout",
     "output_type": "stream",
     "text": [
      "original dic:\n",
      "{10: 'pinky', 20: 'pranshul', 30: 'radhika', 40: 'yash'}\n",
      "\n",
      "after pop:\n",
      "{20: 'pranshul', 30: 'radhika', 40: 'yash'}\n"
     ]
    }
   ],
   "source": [
    "my_dic2 = {10: 'pinky', 20: 'pranshul', 30: 'radhika', 40: 'yash'}\n",
    "print(\"original dic:\")\n",
    "print(my_dic2)\n",
    "print()\n",
    "\n",
    "my_dic2.pop(10)\n",
    "print(\"after pop:\")\n",
    "print(my_dic2)"
   ]
  },
  {
   "cell_type": "markdown",
   "id": "59d69ae2",
   "metadata": {},
   "source": [
    "### for loop using dict"
   ]
  },
  {
   "cell_type": "code",
   "execution_count": 140,
   "id": "9bede80f",
   "metadata": {
    "tags": []
   },
   "outputs": [
    {
     "name": "stdout",
     "output_type": "stream",
     "text": [
      "10\n",
      "20\n",
      "30\n",
      "40\n",
      "10 - pinky\n",
      "20 - pranshul\n",
      "30 - radhika\n",
      "40 - yash\n"
     ]
    }
   ],
   "source": [
    "my_dic2 = {10: 'pinky', 20: 'pranshul', 30: 'radhika', 40: 'yash'}\n",
    "\n",
    "for i in my_dic2:\n",
    "    print(i)\n",
    "    \n",
    "for i in my_dic2:\n",
    "    print(i,\"-\",my_dic2[i])"
   ]
  },
  {
   "cell_type": "markdown",
   "id": "d1389ff6",
   "metadata": {},
   "source": [
    "### input by user dictionary"
   ]
  },
  {
   "cell_type": "code",
   "execution_count": 141,
   "id": "7b8fe7e1",
   "metadata": {
    "tags": []
   },
   "outputs": [
    {
     "name": "stdin",
     "output_type": "stream",
     "text": [
      "enter number of element: 5\n",
      "enter keys: 1\n",
      "enter values: raj\n",
      "enter keys: 2\n",
      "enter values: jay\n",
      "enter keys: 3\n",
      "enter values: sham\n",
      "enter keys: 4\n",
      "enter values: viraj\n",
      "enter keys: 5 \n",
      "enter values: raman\n"
     ]
    },
    {
     "name": "stdout",
     "output_type": "stream",
     "text": [
      "{'1': 'raj', '2': 'jay', '3': 'sham', '4': 'viraj', '5 ': 'raman'}\n"
     ]
    }
   ],
   "source": [
    "emp_dic = {}\n",
    "n = int(input(\"enter number of element:\"))\n",
    "\n",
    "for i in range(n):\n",
    "    k=input(\"enter keys:\")\n",
    "    v=input(\"enter values:\")\n",
    "    emp_dic.update({k:v})\n",
    "    \n",
    "print(emp_dic)"
   ]
  },
  {
   "cell_type": "markdown",
   "id": "1ab22c0e",
   "metadata": {},
   "source": [
    "### Nested dictionary\n"
   ]
  },
  {
   "cell_type": "code",
   "execution_count": 142,
   "id": "cff30380",
   "metadata": {
    "tags": []
   },
   "outputs": [
    {
     "name": "stdout",
     "output_type": "stream",
     "text": [
      "{'course': 'python', 'fees': 1000, 'd': {'course': 'java', 'fees': 2000}}\n",
      "python\n",
      "1000\n",
      "\n",
      "{'course': 'java', 'fees': 2000}\n",
      "java\n",
      "2000\n"
     ]
    }
   ],
   "source": [
    "dic = {\"course\":'python','fees':1000,'d':{\"course\":'java','fees':2000}}\n",
    "print(dic)\n",
    "print(dic['course'])\n",
    "print(dic['fees'])\n",
    "print()\n",
    "\n",
    "print(dic['d'])\n",
    "print(dic['d']['course'])\n",
    "print(dic['d']['fees'])"
   ]
  },
  {
   "cell_type": "markdown",
   "id": "635fcd22",
   "metadata": {},
   "source": [
    "### Modify"
   ]
  },
  {
   "cell_type": "code",
   "execution_count": 143,
   "id": "4937e878",
   "metadata": {
    "tags": []
   },
   "outputs": [
    {
     "name": "stdout",
     "output_type": "stream",
     "text": [
      "{'course': 'python', 'fees': 1000, 'd': {'course': 'java', 'fees': 2000}}\n",
      "\n",
      "{'course': 'Machine learning', 'fees': 1000, 'd': {'course': 'java', 'fees': 2000}}\n",
      "\n",
      "{'course': 'Machine learning', 'fees': 1000, 'd': {'course': 'java', 'fees': 5000}}\n",
      "\n",
      "{'course': 'Machine learning', 'fees': 1000, 'd': {'course': 'java', 'fees': 5000}, 'duration': '6 month'}\n",
      "\n",
      "{'course': 'Machine learning', 'fees': 1000, 'd': {'course': 'java', 'fees': 5000, 'time': ' 3 hrs'}, 'duration': '6 month'}\n",
      "\n",
      "{'course': 'Machine learning', 'fees': 1000, 'd': {'course': 'java', 'fees': 5000, 'time': ' 3 hrs'}, 'duration': '6 month', 'c': {'course': 'big data', 'fees': 8000}}\n",
      "\n"
     ]
    }
   ],
   "source": [
    "dic = {\"course\":'python','fees':1000,'d':{\"course\":'java','fees':2000}}\n",
    "print(dic)\n",
    "print()\n",
    "\n",
    "dic['course'] = \"Machine learning\"\n",
    "print(dic)\n",
    "print()\n",
    "\n",
    "dic['d']['fees'] = 5000\n",
    "print(dic)\n",
    "print()\n",
    "\n",
    "dic['duration'] = \"6 month\"\n",
    "print(dic)\n",
    "print()\n",
    "\n",
    "dic['d']['time'] = \" 3 hrs\"\n",
    "print(dic)\n",
    "print()\n",
    "\n",
    "dic['c'] = {\"course\":'big data','fees':8000}\n",
    "print(dic)\n",
    "print()"
   ]
  },
  {
   "cell_type": "markdown",
   "id": "7d082f1f",
   "metadata": {},
   "source": [
    "### Nested dict using for loop"
   ]
  },
  {
   "cell_type": "code",
   "execution_count": 144,
   "id": "dece04e3",
   "metadata": {
    "tags": []
   },
   "outputs": [
    {
     "name": "stdout",
     "output_type": "stream",
     "text": [
      "course\n",
      "fees\n",
      "d\n",
      "\n",
      "course - python\n",
      "fees - 1000\n",
      "course - java\n",
      "fees - 2000\n"
     ]
    }
   ],
   "source": [
    "dic = {\"course\":'python','fees':1000,'d':{\"course\":'java','fees':2000}}\n",
    "\n",
    "for i in dic:\n",
    "    print(i)\n",
    "print()\n",
    "\n",
    "for i in dic:\n",
    "    if type(dic[i]) is dict:\n",
    "        for k in dic[i]:\n",
    "            print(k,\"-\",dic[i][k])\n",
    "    else:\n",
    "        print(i,\"-\",dic[i])"
   ]
  },
  {
   "cell_type": "markdown",
   "id": "3d3c0d80",
   "metadata": {},
   "source": [
    "### List Comprehension\n",
    "\n",
    "List comprehension in Python is a concise and efficient way to create lists. It allows you to generate a new list by applying an expression to each element in an iterable, such as a list, tuple, or range, and optionally filtering the elements based on a condition."
   ]
  },
  {
   "cell_type": "markdown",
   "id": "5facbeac-96d0-4afb-b138-cd7f0e8286e5",
   "metadata": {},
   "source": [
    "**Basic Syntax:**\n",
    "\n",
    "\n",
    "\n",
    "new_list = [expression for item in iterable if condition]\n",
    "\n",
    "**expression:** An operation or value that is added to the new list.\n",
    "\n",
    "**item:** Each element in the iterable.\n",
    "\n",
    "**iterable:** The collection (like a list, range, or string) you’re iterating through.\n",
    "\n",
    "**condition (optional):** A filter to include only items that meet a specific condition."
   ]
  },
  {
   "cell_type": "code",
   "execution_count": 145,
   "id": "ce1599e0",
   "metadata": {
    "tags": []
   },
   "outputs": [
    {
     "name": "stdout",
     "output_type": "stream",
     "text": [
      "without comprehension:\n",
      "[1, 2, 3, 4, 5, 6, 7, 8, 9, 10, 11]\n",
      "\n",
      "with comprehension:\n",
      "[2, 3, 4, 5, 6, 7, 8, 9, 10, 11, 12, 13]\n"
     ]
    }
   ],
   "source": [
    "lst1 = [0,1,2,3,4,5,6,7,8,9,10]\n",
    "new_lst = []\n",
    "print(\"without comprehension:\")\n",
    "for i in lst1:\n",
    "    new_lst.append(i+1)\n",
    "print(new_lst)\n",
    "print()\n",
    "\n",
    "lst2 = [1,2,3,4,5,6,7,8,9,10,11,12]\n",
    "print(\"with comprehension:\")\n",
    "new_lst2 = [i+1 for i in lst2]\n",
    "print(new_lst2)"
   ]
  },
  {
   "cell_type": "code",
   "execution_count": 146,
   "id": "5aa04435",
   "metadata": {
    "tags": []
   },
   "outputs": [
    {
     "name": "stdout",
     "output_type": "stream",
     "text": [
      "[0, 1, 2, 3, 4, 5, 6, 7, 8, 9]\n"
     ]
    }
   ],
   "source": [
    "new_lst3 = [i+0 for i in range(10)]\n",
    "print(new_lst3)"
   ]
  },
  {
   "cell_type": "code",
   "execution_count": 147,
   "id": "6e1dfc8e",
   "metadata": {
    "tags": []
   },
   "outputs": [
    {
     "name": "stdout",
     "output_type": "stream",
     "text": [
      "[0, 2, 4, 6, 8, 10, 12, 14, 16, 18]\n",
      "\n",
      "[0, 2, 4, 6, 8, 10, 12, 14, 16, 18]\n"
     ]
    }
   ],
   "source": [
    "lst = []\n",
    "for i in range(20):\n",
    "    if(i%2==0):\n",
    "        lst.append(i)\n",
    "        \n",
    "print(lst)\n",
    "print()\n",
    "\n",
    "lst2 = [i for i in range(20) if i%2==0] \n",
    "print(lst2)"
   ]
  },
  {
   "cell_type": "markdown",
   "id": "4ebc4271",
   "metadata": {},
   "source": [
    "### With nested list comprehension"
   ]
  },
  {
   "cell_type": "code",
   "execution_count": 148,
   "id": "273d5aa3",
   "metadata": {
    "tags": []
   },
   "outputs": [
    {
     "name": "stdout",
     "output_type": "stream",
     "text": [
      "[0, 'invalid', 2, 'invalid', 4, 'invalid', 6, 'invalid', 8, 'invalid']\n",
      "\n",
      "[0, 'invalid', 2, 'invalid', 4, 'invalid', 6, 'invalid', 8, 'invalid']\n"
     ]
    }
   ],
   "source": [
    "lst = []\n",
    "for i in range(10):\n",
    "    if (i%2==0):\n",
    "        lst.append(i)\n",
    "    else:\n",
    "        lst.append(\"invalid\")\n",
    "print(lst)\n",
    "print()\n",
    "\n",
    "lst2 = [i if i%2==0 else \"invalid\" for i in range(10)]\n",
    "print(lst2)"
   ]
  },
  {
   "cell_type": "markdown",
   "id": "bed1f011",
   "metadata": {},
   "source": [
    "### dictionary comprehension\n",
    "Dictionary comprehension in Python is a concise and readable way to create dictionaries. It allows you to construct a dictionary in a single line of code using an expression and a loop.\n",
    "\n"
   ]
  },
  {
   "cell_type": "markdown",
   "id": "ccbc8054-006e-48dd-8d26-cc41be7a3969",
   "metadata": {},
   "source": [
    "**Basic Syntax:**\n",
    "\n",
    "{key_expression: value_expression for item in iterable if condition}\n",
    "\n",
    "**key_expression:** The expression for the dictionary key.\n",
    "\n",
    "**value_expression:** The expression for the dictionary value.\n",
    "\n",
    "**iterable:** The sequence or collection to loop through.\n",
    "\n",
    "**condition (optional):** A condition to filter elements from the iterable."
   ]
  },
  {
   "cell_type": "code",
   "execution_count": 149,
   "id": "4636b032",
   "metadata": {
    "tags": []
   },
   "outputs": [
    {
     "data": {
      "text/plain": [
       "{0: 0, 1: 1, 2: 4, 3: 9, 4: 16, 5: 25, 6: 36, 7: 49, 8: 64, 9: 81}"
      ]
     },
     "execution_count": 149,
     "metadata": {},
     "output_type": "execute_result"
    }
   ],
   "source": [
    "{x:x**2 for x in range(10)}"
   ]
  },
  {
   "cell_type": "code",
   "execution_count": 150,
   "id": "d8ef58ae",
   "metadata": {
    "tags": []
   },
   "outputs": [
    {
     "name": "stdout",
     "output_type": "stream",
     "text": [
      "['data', 'science', 'machine', 'learning']\n"
     ]
    },
    {
     "data": {
      "text/plain": [
       "{'data': 4, 'science': 7, 'machine': 7, 'learning': 8}"
      ]
     },
     "execution_count": 150,
     "metadata": {},
     "output_type": "execute_result"
    }
   ],
   "source": [
    "words = ['data', 'science', 'machine','learning']\n",
    "print(words)\n",
    "\n",
    "{i :len(i) for i in words}"
   ]
  },
  {
   "cell_type": "code",
   "execution_count": 151,
   "id": "0c2d8202",
   "metadata": {
    "tags": []
   },
   "outputs": [
    {
     "name": "stdout",
     "output_type": "stream",
     "text": [
      "{'data': 4, 'science': 8, 'machine': 6, 'learning': 10}\n"
     ]
    }
   ],
   "source": [
    "words = ['data', 'science', 'machine','learning']\n",
    "value = [4,8,6,10]\n",
    "\n",
    "dic1 = {i:j for i, j in zip(words,value)}\n",
    "print(dic1)"
   ]
  },
  {
   "cell_type": "markdown",
   "id": "1fca38dc",
   "metadata": {},
   "source": [
    "### Array\n",
    "\n",
    "an array is a data structure used to store a collection of items. However, in Python, we usually work with lists instead of arrays. Lists can hold elements of different data types, but an array in Python (from the array module) is more efficient when dealing with large amounts of data of the same type (like integers or floats).\n",
    "\n",
    "**Array in Simple Terms:**\n",
    "An array is like a box that can hold multiple items (numbers, strings, etc.) in a specific order.\n",
    "All items in an array are of the same type (e.g., all integers or all floats).\n",
    "\n",
    "\n",
    "**Why is it Used?**\n",
    "Efficiency: Arrays use less memory than lists and are faster when you need to work with large amounts of data.\n",
    "\n",
    "Type Consistency: Arrays can store only one type of data (e.g., all integers), making them useful when you need to perform operations on data of the same type.\n",
    "\n",
    "When you need to store and manipulate large datasets with values of the same type (e.g., numbers).\n",
    "\n",
    "If you need better performance (memory efficiency and speed) compared to lists."
   ]
  },
  {
   "cell_type": "code",
   "execution_count": 152,
   "id": "def5fd71",
   "metadata": {
    "tags": []
   },
   "outputs": [
    {
     "name": "stdout",
     "output_type": "stream",
     "text": [
      "array('i')\n"
     ]
    }
   ],
   "source": [
    "from array import*\n",
    "stu_roll = array('i',[])\n",
    "print(stu_roll)"
   ]
  },
  {
   "cell_type": "code",
   "execution_count": 153,
   "id": "da4e8848",
   "metadata": {
    "tags": []
   },
   "outputs": [
    {
     "name": "stdout",
     "output_type": "stream",
     "text": [
      "10\n",
      "20\n",
      "30\n",
      "40\n"
     ]
    }
   ],
   "source": [
    "from array import*\n",
    "stu_roll = array('i',[10,20,30,40])\n",
    "for i in stu_roll:\n",
    "    print(i)"
   ]
  },
  {
   "cell_type": "code",
   "execution_count": 154,
   "id": "171d24a0",
   "metadata": {
    "tags": []
   },
   "outputs": [
    {
     "name": "stdout",
     "output_type": "stream",
     "text": [
      "0 - 10\n",
      "1 - 20\n",
      "2 - 30\n",
      "3 - 40\n"
     ]
    }
   ],
   "source": [
    "stu_roll = array('i',[10,20,30,40])\n",
    "n = len(stu_roll)\n",
    "for i in range(n):\n",
    "    print(i,\"-\",stu_roll[i])"
   ]
  },
  {
   "cell_type": "code",
   "execution_count": 155,
   "id": "977e8f23",
   "metadata": {
    "tags": []
   },
   "outputs": [
    {
     "name": "stdout",
     "output_type": "stream",
     "text": [
      "0 - 10\n",
      "1 - 20\n",
      "2 - 30\n",
      "3 - 40\n"
     ]
    }
   ],
   "source": [
    "stu_roll = array('i',[10,20,30,40])\n",
    "n = len(stu_roll)\n",
    "i=0\n",
    "while i<n:\n",
    "    print(i,\"-\",stu_roll[i])\n",
    "    i =i+1"
   ]
  },
  {
   "cell_type": "markdown",
   "id": "23fd8dae",
   "metadata": {},
   "source": [
    "### Append"
   ]
  },
  {
   "cell_type": "code",
   "execution_count": 156,
   "id": "eecdc0da",
   "metadata": {
    "tags": []
   },
   "outputs": [
    {
     "name": "stdout",
     "output_type": "stream",
     "text": [
      "10\n",
      "20\n",
      "30\n",
      "40\n",
      "60\n"
     ]
    }
   ],
   "source": [
    "from array import*\n",
    "stu_roll = array('i',[10,20,30,40])\n",
    "stu_roll.append(60)\n",
    "n = len(stu_roll)\n",
    "\n",
    "i =0\n",
    "while i<n:\n",
    "    print(stu_roll[i])\n",
    "    i+=1"
   ]
  },
  {
   "cell_type": "code",
   "execution_count": 157,
   "id": "431ebd97",
   "metadata": {
    "tags": []
   },
   "outputs": [
    {
     "name": "stdin",
     "output_type": "stream",
     "text": [
      "enter number of element 4\n",
      "enter the element: 1\n"
     ]
    },
    {
     "name": "stdout",
     "output_type": "stream",
     "text": [
      "array('i', [1])\n"
     ]
    },
    {
     "name": "stdin",
     "output_type": "stream",
     "text": [
      "enter the element: 2\n"
     ]
    },
    {
     "name": "stdout",
     "output_type": "stream",
     "text": [
      "array('i', [1, 2])\n"
     ]
    },
    {
     "name": "stdin",
     "output_type": "stream",
     "text": [
      "enter the element: 3\n"
     ]
    },
    {
     "name": "stdout",
     "output_type": "stream",
     "text": [
      "array('i', [1, 2, 3])\n"
     ]
    },
    {
     "name": "stdin",
     "output_type": "stream",
     "text": [
      "enter the element: 4\n"
     ]
    },
    {
     "name": "stdout",
     "output_type": "stream",
     "text": [
      "array('i', [1, 2, 3, 4])\n",
      "1\n",
      "2\n",
      "3\n",
      "4\n"
     ]
    }
   ],
   "source": [
    "stu_roll = array('i',[])\n",
    "n = int(input(\"enter number of element\"))\n",
    "\n",
    "for i in range(n):\n",
    "    stu_roll.append(int(input(\"enter the element:\")))\n",
    "    print(stu_roll)\n",
    "    \n",
    "for i in range(len(stu_roll)):\n",
    "    print(stu_roll[i])"
   ]
  },
  {
   "cell_type": "code",
   "execution_count": 158,
   "id": "e878a5d4",
   "metadata": {
    "tags": []
   },
   "outputs": [
    {
     "name": "stdin",
     "output_type": "stream",
     "text": [
      "enter the element: 5\n",
      "enter number: 1\n"
     ]
    },
    {
     "name": "stdout",
     "output_type": "stream",
     "text": [
      "array('i', [1])\n"
     ]
    },
    {
     "name": "stdin",
     "output_type": "stream",
     "text": [
      "enter number: 2\n"
     ]
    },
    {
     "name": "stdout",
     "output_type": "stream",
     "text": [
      "array('i', [1, 2])\n"
     ]
    },
    {
     "name": "stdin",
     "output_type": "stream",
     "text": [
      "enter number: 3\n"
     ]
    },
    {
     "name": "stdout",
     "output_type": "stream",
     "text": [
      "array('i', [1, 2, 3])\n"
     ]
    },
    {
     "name": "stdin",
     "output_type": "stream",
     "text": [
      "enter number: 4\n"
     ]
    },
    {
     "name": "stdout",
     "output_type": "stream",
     "text": [
      "array('i', [1, 2, 3, 4])\n"
     ]
    },
    {
     "name": "stdin",
     "output_type": "stream",
     "text": [
      "enter number: 5\n"
     ]
    },
    {
     "name": "stdout",
     "output_type": "stream",
     "text": [
      "array('i', [1, 2, 3, 4, 5])\n",
      "1\n",
      "2\n",
      "3\n",
      "4\n",
      "5\n"
     ]
    }
   ],
   "source": [
    "stu_roll = array('i',[])\n",
    "n = int(input(\"enter the element:\"))\n",
    "\n",
    "i=0\n",
    "j=0\n",
    "\n",
    "while i<n:\n",
    "    stu_roll.append(int(input(\"enter number:\")))\n",
    "    print(stu_roll)\n",
    "    i+=1\n",
    "    \n",
    "while j<len(stu_roll):\n",
    "    print(stu_roll[j])\n",
    "    j+=1"
   ]
  },
  {
   "cell_type": "markdown",
   "id": "adf5de4e",
   "metadata": {},
   "source": [
    "### Insert"
   ]
  },
  {
   "cell_type": "code",
   "execution_count": 159,
   "id": "3226f77f",
   "metadata": {
    "tags": []
   },
   "outputs": [
    {
     "name": "stdout",
     "output_type": "stream",
     "text": [
      "10\n",
      "20\n",
      "30\n",
      "40\n",
      "after insertion:\n",
      "100\n",
      "200\n",
      "10\n",
      "20\n",
      "30\n",
      "40\n"
     ]
    }
   ],
   "source": [
    "stu_roll = array('i',[10,20,30,40])\n",
    "n = len(stu_roll)\n",
    "i=0\n",
    "while i<n:\n",
    "    print(stu_roll[i])\n",
    "    i+=1\n",
    "    \n",
    "print(\"after insertion:\")\n",
    "stu_roll.insert(0,100)\n",
    "stu_roll.insert(1,200)\n",
    "n = len(stu_roll)\n",
    "i=0\n",
    "while i<n:\n",
    "    print(stu_roll[i])\n",
    "    i+=1"
   ]
  },
  {
   "cell_type": "markdown",
   "id": "4fc1319b",
   "metadata": {},
   "source": [
    "### POP"
   ]
  },
  {
   "cell_type": "code",
   "execution_count": 160,
   "id": "190e71f5",
   "metadata": {
    "tags": []
   },
   "outputs": [
    {
     "name": "stdout",
     "output_type": "stream",
     "text": [
      "10\n",
      "20\n",
      "30\n",
      "40\n",
      "after pop:\n",
      "remove element 20\n",
      "10\n",
      "remove element 20\n",
      "30\n",
      "remove element 20\n",
      "40\n"
     ]
    }
   ],
   "source": [
    "stu_roll = array('i',[10,20,30,40])\n",
    "n = len(stu_roll)\n",
    "i=0\n",
    "while i<n:\n",
    "    print(stu_roll[i])\n",
    "    i+=1\n",
    "    \n",
    "print(\"after pop:\")\n",
    "r = stu_roll.pop(1)\n",
    "n = len(stu_roll)\n",
    "i=0\n",
    "while i<n:\n",
    "    print(\"remove element\",r)\n",
    "    print(stu_roll[i])\n",
    "    i+=1"
   ]
  },
  {
   "cell_type": "markdown",
   "id": "1eac5f32",
   "metadata": {},
   "source": [
    "### index"
   ]
  },
  {
   "cell_type": "code",
   "execution_count": 161,
   "id": "4f50ba5d",
   "metadata": {
    "tags": []
   },
   "outputs": [
    {
     "name": "stdout",
     "output_type": "stream",
     "text": [
      "1\n"
     ]
    }
   ],
   "source": [
    "stu_roll = array('i',[10,20,30,40])\n",
    "print(stu_roll.index(20))"
   ]
  },
  {
   "cell_type": "markdown",
   "id": "ce09bf6b",
   "metadata": {},
   "source": [
    "### Reverse"
   ]
  },
  {
   "cell_type": "code",
   "execution_count": 162,
   "id": "edf777ea",
   "metadata": {
    "tags": []
   },
   "outputs": [
    {
     "name": "stdout",
     "output_type": "stream",
     "text": [
      "array('i', [40, 30, 20, 10])\n"
     ]
    }
   ],
   "source": [
    "stu_roll = array('i',[10,20,30,40])\n",
    "stu_roll.reverse()\n",
    "print(stu_roll)"
   ]
  },
  {
   "cell_type": "markdown",
   "id": "ed45f498",
   "metadata": {},
   "source": [
    "### Extend"
   ]
  },
  {
   "cell_type": "code",
   "execution_count": 163,
   "id": "949db9c6",
   "metadata": {
    "tags": []
   },
   "outputs": [
    {
     "name": "stdout",
     "output_type": "stream",
     "text": [
      "array('i', [10, 20, 30, 40, 50, 60, 70, 80])\n"
     ]
    }
   ],
   "source": [
    "stu_roll = array('i',[10,20,30,40])\n",
    "arr = array('i',[50,60,70,80])\n",
    "stu_roll.extend(arr)\n",
    "print(stu_roll)"
   ]
  },
  {
   "cell_type": "markdown",
   "id": "fe70ebd2",
   "metadata": {},
   "source": [
    "### Slicing"
   ]
  },
  {
   "cell_type": "code",
   "execution_count": 164,
   "id": "1783e4fe",
   "metadata": {
    "tags": []
   },
   "outputs": [
    {
     "name": "stdout",
     "output_type": "stream",
     "text": [
      "0 - 10\n",
      "1 - 20\n",
      "2 - 30\n",
      "3 - 40\n",
      "******\n"
     ]
    },
    {
     "data": {
      "text/plain": [
       "array('i', [10, 20, 30])"
      ]
     },
     "execution_count": 164,
     "metadata": {},
     "output_type": "execute_result"
    }
   ],
   "source": [
    "stu_roll = array('i',[10,20,30,40])\n",
    "n = len(stu_roll)\n",
    "for i in range(n):\n",
    "    print(i,\"-\",stu_roll[i])\n",
    "    \n",
    "print('******')\n",
    "stu_roll[0:3]"
   ]
  },
  {
   "cell_type": "markdown",
   "id": "26ea6f60",
   "metadata": {},
   "source": [
    "# Lambda function\n",
    "\n",
    "A lambda function in Python is a small, anonymous (unnamed) function defined using the lambda keyword. It’s a quick way to create a function for simple operations, usually in a single line.\n",
    "\n",
    "lambda arguments: expression\n",
    "\n",
    "**Arguments:** The inputs to the function (like parameters).\n",
    "\n",
    "**Expression:** The operation or value returned by the function.\n",
    "\n",
    "Use lambda functions for simple, short operations, especially when passing them as arguments to functions like map(), filter(), and sorted().\n",
    "\n",
    "Avoid them for complex logic or when it reduces code readability."
   ]
  },
  {
   "cell_type": "code",
   "execution_count": 165,
   "id": "bd47c204",
   "metadata": {
    "tags": []
   },
   "outputs": [
    {
     "name": "stdout",
     "output_type": "stream",
     "text": [
      "5\n"
     ]
    }
   ],
   "source": [
    "show = lambda x :print(x)\n",
    "show(5)"
   ]
  },
  {
   "cell_type": "code",
   "execution_count": 166,
   "id": "dd5dc817",
   "metadata": {
    "tags": []
   },
   "outputs": [
    {
     "name": "stdout",
     "output_type": "stream",
     "text": [
      "7\n"
     ]
    }
   ],
   "source": [
    "add = lambda x,y: x+y\n",
    "print(add(5,2))"
   ]
  },
  {
   "cell_type": "code",
   "execution_count": 167,
   "id": "2d9848b8",
   "metadata": {
    "tags": []
   },
   "outputs": [
    {
     "name": "stdout",
     "output_type": "stream",
     "text": [
      "3\n"
     ]
    }
   ],
   "source": [
    "sub = lambda x,y: x-y\n",
    "print(sub(5,2))"
   ]
  },
  {
   "cell_type": "code",
   "execution_count": 168,
   "id": "2a554af3",
   "metadata": {
    "tags": []
   },
   "outputs": [
    {
     "name": "stdout",
     "output_type": "stream",
     "text": [
      "(7, 3)\n"
     ]
    }
   ],
   "source": [
    "add_sub  = lambda x,y: (x+y, x-y)\n",
    "print(add_sub(5,2))"
   ]
  },
  {
   "cell_type": "code",
   "execution_count": 169,
   "id": "1b755f48",
   "metadata": {
    "tags": []
   },
   "outputs": [
    {
     "name": "stdout",
     "output_type": "stream",
     "text": [
      "[20, 40, 60, 'yashyash', 'amanaman', 21.0, 41.0]\n"
     ]
    }
   ],
   "source": [
    "lst1 = [10,20,30,'yash','aman',10.5,20.5]\n",
    "new_lst = list(map(lambda x:x*2, lst1))\n",
    "print(new_lst)"
   ]
  },
  {
   "cell_type": "markdown",
   "id": "c1d1c12b",
   "metadata": {},
   "source": [
    "# Higher order fuction\n",
    "## Map fuction\n",
    "\n",
    "the map() function is used to apply a function to each item in an iterable (like a list, tuple, or string) and return a map object (which can be converted to a list or other iterable).\n",
    "\n",
    "It takes two arguments:\n",
    "A function that defines what to do with each element.\n",
    "\n",
    "An iterable (like a list, tuple, etc.) whose elements the function will be applied to.\n",
    "\n",
    "When you want to apply a function to all items in an iterable. For example, if you need to transform all elements of a list (e.g., square each number, convert strings to uppercase).\n"
   ]
  },
  {
   "cell_type": "code",
   "execution_count": 170,
   "id": "e1b461e6",
   "metadata": {
    "tags": []
   },
   "outputs": [
    {
     "name": "stdout",
     "output_type": "stream",
     "text": [
      "[12, 22, 32, 42]\n",
      "<class 'list'>\n",
      "12\n",
      "22\n",
      "32\n",
      "42\n"
     ]
    }
   ],
   "source": [
    "a = [10,20,30,40]\n",
    "\n",
    "def inc(n):\n",
    "    return n+2\n",
    "\n",
    "result = list(map(inc,a))\n",
    "print(result)\n",
    "print(type(result))\n",
    "\n",
    "for i in result:\n",
    "    print(i)"
   ]
  },
  {
   "cell_type": "code",
   "execution_count": 171,
   "id": "cf1d6cb6",
   "metadata": {
    "tags": []
   },
   "outputs": [
    {
     "name": "stdout",
     "output_type": "stream",
     "text": [
      "[12, 22, 32, 42]\n",
      "<class 'list'>\n",
      "12\n",
      "22\n",
      "32\n",
      "42\n"
     ]
    }
   ],
   "source": [
    "a = [10,20,30,40]\n",
    "\n",
    "\n",
    "result = list(map(lambda n : n+2,a))\n",
    "print(result)\n",
    "print(type(result))\n",
    "\n",
    "for i in result:\n",
    "    print(i)"
   ]
  },
  {
   "cell_type": "code",
   "execution_count": 172,
   "id": "f02e662d",
   "metadata": {
    "tags": []
   },
   "outputs": [
    {
     "name": "stdout",
     "output_type": "stream",
     "text": [
      "[60, 80, 100, 120]\n",
      "<class 'list'>\n",
      "60\n",
      "80\n",
      "100\n",
      "120\n"
     ]
    }
   ],
   "source": [
    "a = [10,20,30,40]\n",
    "b = [50,60,70,80]\n",
    "result = list(map(lambda n,m: n+m, a,b))\n",
    "print(result)\n",
    "print(type(result))\n",
    "\n",
    "for i in result:\n",
    "    print(i)"
   ]
  },
  {
   "cell_type": "code",
   "execution_count": 173,
   "id": "4511fe02",
   "metadata": {
    "tags": []
   },
   "outputs": [
    {
     "name": "stdout",
     "output_type": "stream",
     "text": [
      "[1, 4, 9, 16, 25, 36]\n"
     ]
    }
   ],
   "source": [
    "def square(x):\n",
    "    return x*x\n",
    "\n",
    "a = list(map(square, [1,2,3,4,5,6]))\n",
    "print(a)"
   ]
  },
  {
   "cell_type": "markdown",
   "id": "e117d8f8",
   "metadata": {},
   "source": [
    "## Filter function\n",
    " the filter() function is used to filter elements from an iterable (like a list, tuple, or set) based on a condition. It allows you to keep only those elements that meet a specific criterion.\n",
    "\n",
    "The filter() function takes two arguments:\n",
    "\n",
    "A function: This function defines the condition that each element of the iterable must meet. It should return True or False for each element.\n",
    "An iterable: The iterable (like a list) that contains the elements you want to filter."
   ]
  },
  {
   "cell_type": "code",
   "execution_count": 174,
   "id": "3fc04412",
   "metadata": {},
   "outputs": [
    {
     "name": "stdout",
     "output_type": "stream",
     "text": [
      "[30, 40, 50, 60]\n",
      "<class 'list'>\n",
      "30\n",
      "40\n",
      "50\n",
      "60\n"
     ]
    }
   ],
   "source": [
    "a = [10,20,30,40,50,60]\n",
    "\n",
    "def high_marks(n):\n",
    "    if n>=30:\n",
    "        return True\n",
    "\n",
    "result = list(filter(high_marks,a))\n",
    "print(result)\n",
    "print(type(result))\n",
    "\n",
    "for i in result:\n",
    "    print(i)"
   ]
  },
  {
   "cell_type": "code",
   "execution_count": 174,
   "id": "11e8403f",
   "metadata": {
    "tags": []
   },
   "outputs": [
    {
     "name": "stdout",
     "output_type": "stream",
     "text": [
      "[30, 40, 50, 60]\n",
      "<class 'list'>\n",
      "30\n",
      "40\n",
      "50\n",
      "60\n"
     ]
    }
   ],
   "source": [
    "a = [10,20,30,40,50,60]\n",
    "\n",
    "\n",
    "result = list(filter(lambda n: (n>=30), a))\n",
    "print(result)\n",
    "print(type(result))\n",
    "\n",
    "for i in result:\n",
    "    print(i)"
   ]
  },
  {
   "cell_type": "code",
   "execution_count": 175,
   "id": "e1204b16",
   "metadata": {
    "tags": []
   },
   "outputs": [
    {
     "name": "stdout",
     "output_type": "stream",
     "text": [
      "[5, 7, 9, 13, 15]\n",
      "5\n",
      "7\n",
      "9\n",
      "13\n",
      "15\n"
     ]
    }
   ],
   "source": [
    "a = [5,6,2,7,9,8,12,13,15]\n",
    "\n",
    "def odd_check(num):\n",
    "    if num%2!=0:\n",
    "        return True\n",
    "    \n",
    "result = list(filter(odd_check,a))\n",
    "print(result)\n",
    "\n",
    "\n",
    "for i in result:\n",
    "    print(i)"
   ]
  },
  {
   "cell_type": "code",
   "execution_count": 176,
   "id": "64376ff3",
   "metadata": {
    "tags": []
   },
   "outputs": [
    {
     "name": "stdout",
     "output_type": "stream",
     "text": [
      "[5, 7, 9, 13, 15]\n",
      "5\n",
      "7\n",
      "9\n",
      "13\n",
      "15\n"
     ]
    }
   ],
   "source": [
    "a = [5,6,2,7,9,8,12,13,15]\n",
    "    \n",
    "result = list(filter(lambda n: n%2!=0, a))\n",
    "print(result)\n",
    "\n",
    "\n",
    "for i in result:\n",
    "    print(i)"
   ]
  },
  {
   "cell_type": "code",
   "execution_count": 177,
   "id": "2d8d0a9e",
   "metadata": {
    "tags": []
   },
   "outputs": [
    {
     "data": {
      "text/plain": [
       "[2, 4, 6]"
      ]
     },
     "execution_count": 177,
     "metadata": {},
     "output_type": "execute_result"
    }
   ],
   "source": [
    "def even_odd(num):\n",
    "    if num%2==0:\n",
    "            return True\n",
    "        \n",
    "lst1 = [1,2,3,4,5,6]\n",
    "list(filter(even_odd, lst1))"
   ]
  },
  {
   "cell_type": "markdown",
   "id": "7049487f",
   "metadata": {},
   "source": [
    "## Reduce\n",
    "\n",
    "The reduce() function in Python is part of the functools module, and it is used to apply a binary function (a function that takes two arguments) cumulatively to the items of an iterable (like a list or a tuple) to reduce it to a single value.\n",
    "\n"
   ]
  },
  {
   "cell_type": "code",
   "execution_count": 178,
   "id": "c978ede5-6428-4b4a-992a-993d5e4d41cb",
   "metadata": {
    "tags": []
   },
   "outputs": [
    {
     "name": "stdout",
     "output_type": "stream",
     "text": [
      "10\n"
     ]
    }
   ],
   "source": [
    "#Suppose you want to add all numbers in a list. You can do this using reduce():\n",
    "\n",
    "from functools import reduce\n",
    "\n",
    "numbers = [1, 2, 3, 4]\n",
    "\n",
    "# Using reduce to sum all numbers in the list\n",
    "result = reduce(lambda x, y: x + y, numbers)\n",
    "\n",
    "print(result)  # Output: 10 (1 + 2 + 3 + 4)\n"
   ]
  },
  {
   "cell_type": "code",
   "execution_count": 179,
   "id": "ad7f40eb",
   "metadata": {
    "tags": []
   },
   "outputs": [
    {
     "name": "stdout",
     "output_type": "stream",
     "text": [
      "77\n"
     ]
    }
   ],
   "source": [
    "from functools import reduce\n",
    "\n",
    "a = [5,6,2,7,9,8,12,13,15]\n",
    "\n",
    "result = reduce(lambda n,m: n+m, a)\n",
    "print(result)"
   ]
  },
  {
   "cell_type": "markdown",
   "id": "80c8117c",
   "metadata": {},
   "source": [
    "# Generator\n",
    "\n",
    "A generator in Python is a special type of function that allows you to iterate over a sequence of values, but unlike regular functions, it does not return all values at once. Instead, it generates one value at a time as you loop through it, saving memory and improving performance.\n",
    "\n",
    "**How a Generator Works:**\n",
    "A generator is created using the yield keyword instead of return.\n",
    "\n",
    "When a generator function is called, it returns a generator object, not the values themselves.\n",
    "\n",
    "When you iterate over the generator, it produces values one by one using the yield keyword, pausing and resuming the function's state as needed.\n",
    "\n",
    "**When to Use a Generator:**\n",
    "\n",
    "When you need to process large amounts of data, and you want to minimize memory usage.\n",
    "When you need to lazily generate values (i.e., produce values only when required).\n",
    "When you're dealing with streams of data or potentially infinite sequences, and you want to process data piece by piece.\n"
   ]
  },
  {
   "cell_type": "code",
   "execution_count": 180,
   "id": "3a700e92",
   "metadata": {
    "tags": []
   },
   "outputs": [
    {
     "name": "stdout",
     "output_type": "stream",
     "text": [
      "<generator object var at 0x7f0e00b10200>\n",
      "[10, 20]\n",
      "<class 'list'>\n"
     ]
    }
   ],
   "source": [
    "def var(a,b):\n",
    "    yield a\n",
    "    yield b\n",
    "    \n",
    "result = var(10,20)\n",
    "print(result)\n",
    "\n",
    "lst = list(result)\n",
    "print(lst)\n",
    "print(type(lst))\n",
    "\n"
   ]
  },
  {
   "cell_type": "code",
   "execution_count": 181,
   "id": "5189c9d1",
   "metadata": {
    "tags": []
   },
   "outputs": [
    {
     "name": "stdout",
     "output_type": "stream",
     "text": [
      "<generator object var at 0x7f0e00aa8890>\n",
      "<class 'generator'>\n",
      "10\n",
      "20\n"
     ]
    }
   ],
   "source": [
    "def var(a,b):\n",
    "    yield a\n",
    "    yield b\n",
    "    \n",
    "result = var(10,20)\n",
    "print(result)\n",
    "print(type(result))\n",
    "\n",
    "print(next(result))\n",
    "print(next(result))"
   ]
  },
  {
   "cell_type": "code",
   "execution_count": 182,
   "id": "bf8765af",
   "metadata": {
    "tags": []
   },
   "outputs": [
    {
     "name": "stdout",
     "output_type": "stream",
     "text": [
      "<generator object show at 0x7f0e00aa8740>\n",
      "1\n",
      "2\n",
      "3\n",
      "4\n",
      "5\n",
      "6\n"
     ]
    }
   ],
   "source": [
    "def show(a,b):\n",
    "    while a<=b:\n",
    "        yield a\n",
    "        a+=1\n",
    "    \n",
    "result = show(1,6)\n",
    "print(result)\n",
    "\n",
    "print(next(result))\n",
    "print(next(result))\n",
    "print(next(result))\n",
    "print(next(result))\n",
    "print(next(result))\n",
    "print(next(result))\n"
   ]
  },
  {
   "cell_type": "markdown",
   "id": "bb050f00",
   "metadata": {},
   "source": [
    "# Function\n",
    "\n",
    "a function is a block of reusable code that performs a specific task. Functions allow you to break down your code into smaller, more manageable pieces, making your program more organized and easier to maintain. Functions can take inputs, process them, and return a result.\n",
    "\n",
    "**Components:**\n",
    "\n",
    "def: This keyword is used to define a function.\n",
    "\n",
    "function_name: The name of the function. It should be descriptive and follow naming conventions.\n",
    "\n",
    "parameters (optional): These are the inputs the function takes. Parameters are optional, and a function can have no parameters.\n",
    "\n",
    "Code block: The actual code that is executed when the function is called.\n",
    "\n",
    "return: This keyword sends a result back to the caller. It is optional; a function may not return anything.\n",
    "\n"
   ]
  },
  {
   "cell_type": "markdown",
   "id": "bbde2329-65d0-4e0b-8af3-1d7eba54efaf",
   "metadata": {},
   "source": [
    "**Why Use Functions:**\n",
    "\n",
    "**Reusability:** You can use the same function in multiple places without repeating the code.\n",
    "\n",
    "**Organization:** Functions help organize code into manageable pieces, making it easier to understand.\n",
    "\n",
    "**Readability:** It improves code readability by breaking down a task into smaller, named steps.\n",
    "\n",
    "**Avoiding Repetition:** You don’t need to write the same code multiple times for similar tasks.\n",
    "\n",
    "**When to Use Functions:**\n",
    "\n",
    "**When a task is repeated:** If you need to do something multiple times, put it in a function so you can call it whenever needed.\n",
    "\n",
    "**To improve clarity:** Use functions to break down large programs into smaller parts with clear, meaningful names.\n",
    "\n",
    "**When you want to pass different values:** Functions allow you to perform the same task with different inputs, which is flexible and efficient."
   ]
  },
  {
   "cell_type": "code",
   "execution_count": 183,
   "id": "7c0bd8d0",
   "metadata": {
    "tags": []
   },
   "outputs": [],
   "source": [
    "def add():\n",
    "    x = 10\n",
    "    y = 20\n",
    "    c = x+y\n",
    "    print(c)"
   ]
  },
  {
   "cell_type": "code",
   "execution_count": 184,
   "id": "386da50a",
   "metadata": {
    "tags": []
   },
   "outputs": [
    {
     "name": "stdout",
     "output_type": "stream",
     "text": [
      "30\n"
     ]
    }
   ],
   "source": [
    "add()"
   ]
  },
  {
   "cell_type": "code",
   "execution_count": 185,
   "id": "613c4220",
   "metadata": {
    "tags": []
   },
   "outputs": [],
   "source": [
    "def add():\n",
    "    x = 10\n",
    "    y = 20\n",
    "    c = x+y\n",
    "    return c"
   ]
  },
  {
   "cell_type": "code",
   "execution_count": 186,
   "id": "c50c54ec",
   "metadata": {
    "tags": []
   },
   "outputs": [
    {
     "data": {
      "text/plain": [
       "30"
      ]
     },
     "execution_count": 186,
     "metadata": {},
     "output_type": "execute_result"
    }
   ],
   "source": [
    "add()"
   ]
  },
  {
   "cell_type": "code",
   "execution_count": 187,
   "id": "e2b4c250",
   "metadata": {
    "tags": []
   },
   "outputs": [],
   "source": [
    "def add(y):\n",
    "    x = 10\n",
    "    c = x+y\n",
    "    print(c)"
   ]
  },
  {
   "cell_type": "code",
   "execution_count": 188,
   "id": "58884d45",
   "metadata": {
    "tags": []
   },
   "outputs": [
    {
     "name": "stdout",
     "output_type": "stream",
     "text": [
      "30\n"
     ]
    }
   ],
   "source": [
    "add(20)"
   ]
  },
  {
   "cell_type": "code",
   "execution_count": 189,
   "id": "9c942fdb",
   "metadata": {
    "tags": []
   },
   "outputs": [],
   "source": [
    "def add(y):\n",
    "    x = 10\n",
    "    c = x+y\n",
    "    return c"
   ]
  },
  {
   "cell_type": "code",
   "execution_count": 190,
   "id": "22f2c84b",
   "metadata": {
    "tags": []
   },
   "outputs": [
    {
     "name": "stdout",
     "output_type": "stream",
     "text": [
      "30\n"
     ]
    }
   ],
   "source": [
    "value =add(20)\n",
    "print(value)"
   ]
  },
  {
   "cell_type": "code",
   "execution_count": 191,
   "id": "a05e72c3",
   "metadata": {
    "tags": []
   },
   "outputs": [],
   "source": [
    "def upcoming():\n",
    "    print(\"welcome to python world!\")"
   ]
  },
  {
   "cell_type": "code",
   "execution_count": 192,
   "id": "c90ff8a6",
   "metadata": {
    "tags": []
   },
   "outputs": [
    {
     "name": "stdout",
     "output_type": "stream",
     "text": [
      "welcome to python world!\n",
      "welcome to python world!\n"
     ]
    }
   ],
   "source": [
    "upcoming()\n",
    "upcoming()"
   ]
  },
  {
   "cell_type": "code",
   "execution_count": 193,
   "id": "63cd94ac",
   "metadata": {
    "tags": []
   },
   "outputs": [],
   "source": [
    "# sum of all even and odd numbers\n",
    "def even_odd(lst):\n",
    "    even_is = 0\n",
    "    odd_is = 0\n",
    "    \n",
    "    for i in lst:\n",
    "        if i%2==0:\n",
    "            even_is = even_is+i\n",
    "        else:\n",
    "            odd_is = odd_is+i\n",
    "            return even_is, odd_is"
   ]
  },
  {
   "cell_type": "code",
   "execution_count": 194,
   "id": "5a1993f1",
   "metadata": {
    "tags": []
   },
   "outputs": [
    {
     "name": "stdout",
     "output_type": "stream",
     "text": [
      "6\n",
      "5\n"
     ]
    }
   ],
   "source": [
    "even_is,odd_is =even_odd([2,4,5,6,8,7,6,3,2,8])\n",
    "print(even_is)\n",
    "print(odd_is)"
   ]
  },
  {
   "cell_type": "markdown",
   "id": "bedec5bc",
   "metadata": {},
   "source": [
    "# Class and object\n",
    "\n",
    "\n",
    "a class is like a blueprint for creating objects (specific instances of that class). It defines how objects should behave and what properties they should have.\n",
    "\n",
    "**Attributes:** Variables that store data associated with the class.\n",
    "\n",
    "**Methods:** Functions that define the behavior or actions of the class. Methods operate on attributes and provide functionality to the class.\n",
    "\n",
    "**Very Simple Explanation of Class:**\n",
    "Think of a class as a template or cookie cutter. Just like you can use a cookie cutter to make many cookies of the same shape, you can use a class to create many objects that share the same properties and behaviors.\n",
    "\n",
    "**For example:**\n",
    "\n",
    "A Dog class could define properties like the dog's name, age, and breed, and behaviors like barking or running. Each individual dog object would have its own specific name, age, and breed, but all dogs will have the same behaviors (barking, running).\n",
    "\n",
    "A class is used to define objects with properties and behaviors.\n",
    "Use it when you need to group related data and functions together, especially when your program grows larger.\n",
    "Avoid it for simple tasks or when a function can achieve the same result without creating unnecessary complexity.\n",
    "\n"
   ]
  },
  {
   "cell_type": "markdown",
   "id": "3dada18b-72b2-459f-88ff-f145d9054505",
   "metadata": {},
   "source": [
    "**Syntax**\n",
    "A class is defined using the class keyword followed by the class name (which conventionally starts with a capital letter) and a colon. Inside the class, you can define the __init__() method (the constructor), attributes, and other methods.\n",
    "\n",
    "**Key Concepts in Classes:**\n",
    "\n",
    "__init__() method: The constructor method is called when a new instance of the class is created. It initializes the attributes of the object.\n",
    "\n",
    "**self:** The self parameter refers to the instance of the class. It allows access to instance variables and methods.\n",
    "\n",
    "**Instance:** An object created from the class is called an instance.\n",
    "\n",
    "**Attributes:** These are variables that hold data for each instance of the class.\n",
    "\n",
    "**Methods:** Functions defined inside a class that define the actions for the class instances."
   ]
  },
  {
   "cell_type": "markdown",
   "id": "b0472123-1a1f-4a8d-a507-372f7d79e211",
   "metadata": {},
   "source": [
    "## Object \n",
    "\n",
    "an object is simply an instance of a class. Think of a class as a blueprint, and an object is the actual \"thing\" created from that blueprint.\n",
    "\n",
    "An object represents something you can interact with in your program.\n",
    "It can hold data (like numbers, text, or other values) and functions (called methods) that operate on that data.\n",
    "\n",
    "For example, imagine you have a Car class. The class defines what a car can do (like accelerate, brake) and what information it holds (like color, model, speed). Each car you create from the class is an object.\n",
    "\n",
    "Object is an instance of a class that holds both data and methods.\n",
    "\n",
    "It's used to model real-world things and make programs more organized, reusable, and maintainable.\n",
    "\n",
    "Use objects when your program benefits from structuring data and behavior into \"things\" that can interact with each other. Avoid them for very simple tasks where a few functions may suffice."
   ]
  },
  {
   "cell_type": "code",
   "execution_count": null,
   "id": "ef276694-fcf8-4a18-b567-49c60d1781c4",
   "metadata": {},
   "outputs": [],
   "source": [
    "class Car:\n",
    "    def __init__(self, color, model):\n",
    "        self.color = color\n",
    "        self.model = model\n",
    "    \n",
    "    def drive(self):\n",
    "        print(f\"The {self.model} car is driving!\")\n",
    "\n",
    "# Create an object of the class Car\n",
    "my_car = Car(\"Red\", \"Toyota\")\n",
    "\n",
    "# Accessing object data\n",
    "print(my_car.color)  # Output: Red\n",
    "my_car.drive()  # Output: The Toyota car is driving!\n",
    "\n",
    "\n",
    "# Car is the class (the blueprint).\n",
    "# my_car is an object (a specific instance of a car).\n",
    "# my_car.color and my_car.drive() are examples of interacting with the object's data and methods.\n"
   ]
  },
  {
   "cell_type": "code",
   "execution_count": 195,
   "id": "2038f7d1",
   "metadata": {
    "tags": []
   },
   "outputs": [
    {
     "name": "stdout",
     "output_type": "stream",
     "text": [
      "i am a method\n"
     ]
    }
   ],
   "source": [
    "class Myclass(object):\n",
    "    def show(self):\n",
    "        print(\"i am a method\")\n",
    "x = Myclass()\n",
    "x.show()"
   ]
  },
  {
   "cell_type": "code",
   "execution_count": 196,
   "id": "cb9bc8e8",
   "metadata": {
    "tags": []
   },
   "outputs": [
    {
     "name": "stdout",
     "output_type": "stream",
     "text": [
      "i am a method\n"
     ]
    }
   ],
   "source": [
    "class Myclass:\n",
    "    def show(self):\n",
    "        print(\"i am a method\")\n",
    "        \n",
    "x =Myclass()\n",
    "x.show()"
   ]
  },
  {
   "cell_type": "code",
   "execution_count": 197,
   "id": "858bb5ce",
   "metadata": {
    "tags": []
   },
   "outputs": [
    {
     "name": "stdout",
     "output_type": "stream",
     "text": [
      "Model: Realme x\n"
     ]
    }
   ],
   "source": [
    "class Mobile:\n",
    "    def __init__(self):\n",
    "        self.model = 'Realme x'               #instance variable\n",
    "        \n",
    "    def show_model(self):\n",
    "        print(\"Model:\",self.model)            #accessing instance variable\n",
    "        \n",
    "realme = Mobile()\n",
    "realme.show_model()"
   ]
  },
  {
   "cell_type": "code",
   "execution_count": 198,
   "id": "b7da650e",
   "metadata": {
    "tags": []
   },
   "outputs": [
    {
     "name": "stdout",
     "output_type": "stream",
     "text": [
      "Realme Pro\n",
      "Model: Realme Pro\n"
     ]
    }
   ],
   "source": [
    "class Mobile:\n",
    "    def __init__(self):\n",
    "        self.model = \"Realme x\"\n",
    "        \n",
    "    def show_model(self):\n",
    "        print(\"Model:\",self.model)\n",
    "        \n",
    "realme = Mobile()\n",
    "realme.model = \"Realme Pro\"\n",
    "\n",
    "print(realme.model)\n",
    "realme.show_model()"
   ]
  },
  {
   "cell_type": "markdown",
   "id": "e0afab66",
   "metadata": {},
   "source": [
    "## Constructor\n",
    "\n",
    "a constructor is a special method used to initialize the state of an object when it is created. It is a method that is automatically called when an instance of a class is created. The constructor is typically used to set the initial values of an object's attributes.\n",
    "\n",
    "\n",
    "What is a Constructor?\n",
    "\n",
    "A constructor in Python is a method named __init__.It is defined inside a class and is called whenever a new object of that class is instantiated.\n",
    "\n",
    "It is automatically called when a new object of a class is created.\n",
    "\n",
    "It is used to assign values to the properties of the object or to perform any setup operations when the object is created."
   ]
  },
  {
   "cell_type": "code",
   "execution_count": 199,
   "id": "486a98e4",
   "metadata": {
    "tags": []
   },
   "outputs": [
    {
     "name": "stdout",
     "output_type": "stream",
     "text": [
      "Model: realme x Price 10000\n",
      "139698117523920\n",
      "\n",
      "Model: redmi x Price 12000\n",
      "139698117523872\n",
      "\n",
      "Model: Nokia 1200 Price 25000\n",
      "139698117523680\n",
      "\n"
     ]
    }
   ],
   "source": [
    "class Mobile:\n",
    "    def __init__(self,m):\n",
    "        self.model = m\n",
    "        \n",
    "    def show_model(self,p):\n",
    "        self.price = p\n",
    "        print(\"Model:\",self.model,\"Price\",self.price)\n",
    "        \n",
    "realme = Mobile(\"realme x\")\n",
    "realme.show_model(10000)\n",
    "print(id(realme))\n",
    "print()\n",
    "\n",
    "redmi = Mobile(\"redmi x\")\n",
    "redmi.show_model(12000)\n",
    "print(id(redmi))\n",
    "print()\n",
    "\n",
    "Nokia = Mobile(\"Nokia 1200\")\n",
    "Nokia.show_model(25000)\n",
    "print(id(Nokia))\n",
    "print()"
   ]
  },
  {
   "cell_type": "code",
   "execution_count": 200,
   "id": "1ba0651c",
   "metadata": {
    "tags": []
   },
   "outputs": [
    {
     "name": "stdout",
     "output_type": "stream",
     "text": [
      "Model: realme x\n",
      "Price: 1000\n",
      "volume: 80\n"
     ]
    }
   ],
   "source": [
    "class Mobile:\n",
    "    def __init__(self,m,v=80):\n",
    "        self.model = m\n",
    "        self.volume = v\n",
    "        \n",
    "    def show_model(self,p):\n",
    "        self.price = p\n",
    "        print(\"Model:\", self.model)\n",
    "        print(\"Price:\", self.price)\n",
    "        print(\"volume:\", self.volume)\n",
    "        \n",
    "# passing Argument to constructor\n",
    "realme = Mobile('realme x')\n",
    "\n",
    "# Accessing method from outside class\n",
    "realme.show_model(1000)"
   ]
  },
  {
   "cell_type": "markdown",
   "id": "17088580",
   "metadata": {},
   "source": [
    "# Pickling and unpickling\n",
    "\n",
    "**Pickling:**\n",
    "\n",
    "Pickling is the process of converting a Python object (like a list, dictionary, or even custom objects) into a byte stream (a format that can be saved into a file or sent over a network).\n",
    "\n",
    "This allows you to store data and later retrieve it in the same state.\n",
    "\n",
    "**Unpickling:**\n",
    "\n",
    "Unpickling is the reverse process: it converts the byte stream back into the original Python object.\n",
    "So after unpickling, you get back the exact Python object you had before pickling.\n",
    "\n",
    "Why is it used?\n",
    "\n",
    "Saving data: Pickling is useful when you want to save complex Python objects to a file or send them between systems.\n",
    "\n",
    "Persistent storage: For example, if you’re working on a project and want to save your program’s state to resume later, you can pickle the objects and unpickle them when needed.\n",
    "\n",
    "\n",
    "**Pickling:** Save data to a byte format.\n",
    "\n",
    "**Unpickling:** Retrieve the data from the byte format.\n",
    "\n",
    "**Use when:** Storing or transferring Python objects.\n",
    "\n",
    "**Avoid when:** Dealing with untrusted data or needing cross-version compatibility."
   ]
  },
  {
   "cell_type": "code",
   "execution_count": 201,
   "id": "f35594f6-7117-473a-898a-ae793d85ee73",
   "metadata": {
    "tags": []
   },
   "outputs": [],
   "source": [
    "#Pickling\n",
    "\n",
    "import pickle\n",
    "\n",
    "data = {\"name\": \"Alice\", \"age\": 25}\n",
    "\n",
    "# Pickle the data into a byte stream and save it to a file\n",
    "with open(\"data.pkl\", \"wb\") as file:\n",
    "    pickle.dump(data, file)\n"
   ]
  },
  {
   "cell_type": "code",
   "execution_count": 202,
   "id": "c3d1accd-5022-4261-8036-ca0928734f32",
   "metadata": {
    "tags": []
   },
   "outputs": [
    {
     "name": "stdout",
     "output_type": "stream",
     "text": [
      "{'name': 'Alice', 'age': 25}\n"
     ]
    }
   ],
   "source": [
    "#Unpickling\n",
    "\n",
    "import pickle\n",
    "\n",
    "# Load the pickled data back into a Python object\n",
    "with open(\"data.pkl\", \"rb\") as file:\n",
    "    loaded_data = pickle.load(file)\n",
    "\n",
    "print(loaded_data)\n"
   ]
  },
  {
   "cell_type": "code",
   "execution_count": 203,
   "id": "b716bddf",
   "metadata": {
    "tags": []
   },
   "outputs": [
    {
     "name": "stdout",
     "output_type": "stream",
     "text": [
      "pickling done!\n",
      "Unpickling done!\n",
      "name: Rahul Roll: 101 Address: Rachi\n"
     ]
    }
   ],
   "source": [
    "import pickle\n",
    "class Student:\n",
    "    def __init__(self, name, roll, address):\n",
    "        self.name = name\n",
    "        self.roll = roll\n",
    "        self.address = address\n",
    "        \n",
    "    def disp(self):\n",
    "        print(f'name: {self.name} Roll: {self.roll} Address: {self.address}')\n",
    "        \n",
    "        \n",
    "with open('student.dat', mode='wb') as f:\n",
    "    stu1 = Student('Rahul', 101, 'Rachi')\n",
    "    \n",
    "    pickle.dump(stu1, f)\n",
    "    print('pickling done!')\n",
    "    \n",
    "with open('student.dat', mode= 'rb') as f:\n",
    "    obj =  pickle.load(f)\n",
    "    print('Unpickling done!')\n",
    "    obj.disp()"
   ]
  },
  {
   "cell_type": "code",
   "execution_count": 204,
   "id": "56648d5f",
   "metadata": {
    "tags": []
   },
   "outputs": [
    {
     "name": "stdout",
     "output_type": "stream",
     "text": [
      "pickling done!\n",
      "Unpickling done!\n",
      "name: Raj Roll: 102 Address: bihar\n",
      "name: Raj Roll: 102 Address: bihar\n"
     ]
    }
   ],
   "source": [
    "import pickle\n",
    "class Student:\n",
    "    def __init__(self, name, roll, address):\n",
    "        self.name = name\n",
    "        self.roll = roll\n",
    "        self.address = address\n",
    "        \n",
    "    def disp(self):\n",
    "        print(f'name: {self.name} Roll: {self.roll} Address: {self.address}')\n",
    "        \n",
    "        \n",
    "with open('student.dat', mode='wb') as f:\n",
    "    stu1 = Student('Rahul', 101, 'Rachi')\n",
    "    stu2 = Student('Raj', 102, 'bihar')\n",
    "    pickle.dump(stu1, f)\n",
    "    pickle.dump(stu2, f)\n",
    "    print('pickling done!')\n",
    "    \n",
    "with open('student.dat', mode= 'rb') as f:\n",
    "    obj =  pickle.load(f)\n",
    "    obj = pickle.load(f)\n",
    "    print('Unpickling done!')\n",
    "    obj.disp()\n",
    "    obj.disp()"
   ]
  },
  {
   "cell_type": "code",
   "execution_count": 205,
   "id": "b8b7dc3b",
   "metadata": {
    "tags": []
   },
   "outputs": [
    {
     "name": "stdin",
     "output_type": "stream",
     "text": [
      "Enter Number of students: 4\n",
      "Enter Student Name: yash\n",
      "Enter Roll: 101\n",
      "Enter Address: mumbai\n",
      "Enter Student Name: yogesh\n",
      "Enter Roll: 102\n",
      "Enter Address: indore\n",
      "Enter Student Name: aman\n",
      "Enter Roll: 103\n",
      "Enter Address: delhi\n",
      "Enter Student Name: sharad\n",
      "Enter Roll: 104\n",
      "Enter Address: pune\n"
     ]
    },
    {
     "name": "stdout",
     "output_type": "stream",
     "text": [
      "Pickling done!\n",
      "name: yash Roll: 101 Address: mumbai\n",
      "name: yogesh Roll: 102 Address: indore\n",
      "name: aman Roll: 103 Address: delhi\n",
      "name: sharad Roll: 104 Address: pune\n",
      "Done\n"
     ]
    }
   ],
   "source": [
    "import pickle\n",
    "class Student:\n",
    "    def __init__(self, name, roll, address):\n",
    "        self.name = name\n",
    "        self.roll = roll\n",
    "        self.address = address\n",
    "        \n",
    "    def disp(self):\n",
    "        print(f'name: {self.name} Roll: {self.roll} Address: {self.address}')\n",
    "        \n",
    "n = int(input(\"Enter Number of students:\"))\n",
    "with open('student.dat', mode= 'wb') as f:\n",
    "    for i in range(n):\n",
    "        name = input('Enter Student Name:')\n",
    "        roll = int(input('Enter Roll:'))\n",
    "        address = input('Enter Address:')\n",
    "        stu1 = Student(name, roll, address)\n",
    "        pickle.dump(stu1, f)\n",
    "        \n",
    "print('Pickling done!')\n",
    "\n",
    "with open('student.dat', mode= 'rb') as f:\n",
    "    while True:\n",
    "        try:\n",
    "            obj =  pickle.load(f)\n",
    "            obj.disp()\n",
    "        except EOFError:\n",
    "            print('Done')\n",
    "            break"
   ]
  },
  {
   "cell_type": "markdown",
   "id": "79686437",
   "metadata": {},
   "source": [
    "## Abstract Method\n",
    "\n",
    "An abstract method in Python is a method that is declared in an abstract class but does not contain any implementation. Abstract methods must be implemented by any subclass of the abstract class. They are used to define a common interface for all the subclasses, but leave the actual implementation to be provided by the subclasses themselves."
   ]
  },
  {
   "cell_type": "code",
   "execution_count": 206,
   "id": "9789787a",
   "metadata": {
    "tags": []
   },
   "outputs": [
    {
     "name": "stdout",
     "output_type": "stream",
     "text": [
      "Child Class\n",
      "Defining Abstract Method\n",
      "concrete Method\n"
     ]
    }
   ],
   "source": [
    "from abc import ABC, abstractmethod\n",
    "\n",
    "class Father(ABC):\n",
    "    @abstractmethod\n",
    "    def disp(self):\n",
    "        pass\n",
    "        \n",
    "    \n",
    "    def show(self):\n",
    "        print('concrete Method')\n",
    "        \n",
    "class Child(Father):\n",
    "    def disp(self):\n",
    "        print(\"Child Class\")\n",
    "        print(\"Defining Abstract Method\")\n",
    "        \n",
    "c = Child()\n",
    "c.disp()\n",
    "c.show()"
   ]
  },
  {
   "cell_type": "code",
   "execution_count": 207,
   "id": "7b3d4e21",
   "metadata": {
    "tags": []
   },
   "outputs": [
    {
     "name": "stdout",
     "output_type": "stream",
     "text": [
      "Gun = AK47\n",
      "Army Area = land\n",
      "\n",
      "Gun = AK47\n",
      "Airforce Area = sky\n",
      "\n",
      "Gun = AK47\n",
      "Navy Area = sea\n",
      "\n"
     ]
    }
   ],
   "source": [
    "from abc import ABC, abstractmethod\n",
    "class DefenceForce(ABC):\n",
    "    @abstractmethod\n",
    "    def area(self):\n",
    "        pass\n",
    "        \n",
    "    def gun(self):\n",
    "        print(\"Gun = AK47\")\n",
    "        \n",
    "class Army(DefenceForce):\n",
    "    def area(self):\n",
    "        print(\"Army Area = land\")\n",
    "        \n",
    "class AirForce(DefenceForce):\n",
    "    def area(self):\n",
    "        print(\"Airforce Area = sky\")\n",
    "        \n",
    "class Navy(DefenceForce):\n",
    "    def area(self):\n",
    "        print(\"Navy Area = sea\")\n",
    "        \n",
    "a = Army()\n",
    "af = AirForce()\n",
    "Nv = Navy()\n",
    "\n",
    "a.gun()\n",
    "a.area()\n",
    "print()\n",
    "\n",
    "af.gun()\n",
    "af.area()\n",
    "print()\n",
    "\n",
    "Nv.gun()\n",
    "Nv.area()\n",
    "print()"
   ]
  },
  {
   "cell_type": "markdown",
   "id": "6e874575",
   "metadata": {},
   "source": [
    "# Encapsulation\n",
    "### public protected private\n",
    "#### __ private attribute  double underscore is private attribute\n",
    "#### _protected attribute single underscore is protected attribute\n",
    "\n",
    "\n",
    "\n",
    "Encapsulation in Python refers to the concept of bundling or grouping related variables (data) and methods (functions) inside a single unit, often called a class. It also means restricting direct access to some of the object's components, which is done using private and public attributes/methods.\n",
    "\n",
    "In simpler terms, encapsulation allows you to hide the internal workings of an object from the outside world, providing a controlled way to interact with the object’s data.\n",
    "\n",
    "How it works in Python:\n",
    "\n",
    "Public Attributes/Methods: These can be accessed directly from outside the class.\n",
    "\n",
    "Private Attributes/Methods: These are hidden and can’t be accessed directly from outside the class. They are usually marked with two underscores (e.g., __private_var)."
   ]
  },
  {
   "cell_type": "code",
   "execution_count": 208,
   "id": "cef3f61f",
   "metadata": {
    "tags": []
   },
   "outputs": [
    {
     "name": "stdout",
     "output_type": "stream",
     "text": [
      "yash\n",
      "ml analyse\n"
     ]
    }
   ],
   "source": [
    "class Employee:\n",
    "    def __init__(self, name, project):\n",
    "        self.name = name\n",
    "        self.project = project\n",
    "        \n",
    "    def disp(self):\n",
    "        print(self.name)\n",
    "        print(self.project)\n",
    "        \n",
    "emp = Employee(\"yash\", 'ml analyse')\n",
    "emp.disp()\n"
   ]
  },
  {
   "cell_type": "code",
   "execution_count": 209,
   "id": "9468962f",
   "metadata": {
    "tags": []
   },
   "outputs": [
    {
     "ename": "AttributeError",
     "evalue": "'Employee' object has no attribute '__name'",
     "output_type": "error",
     "traceback": [
      "\u001b[0;31m---------------------------------------------------------------------------\u001b[0m",
      "\u001b[0;31mAttributeError\u001b[0m                            Traceback (most recent call last)",
      "Cell \u001b[0;32mIn[209], line 9\u001b[0m\n\u001b[1;32m      5\u001b[0m         \u001b[38;5;28mself\u001b[39m\u001b[38;5;241m.\u001b[39m__project \u001b[38;5;241m=\u001b[39m project\n\u001b[1;32m      8\u001b[0m emp \u001b[38;5;241m=\u001b[39m Employee(\u001b[38;5;124m\"\u001b[39m\u001b[38;5;124myash\u001b[39m\u001b[38;5;124m\"\u001b[39m, \u001b[38;5;124m'\u001b[39m\u001b[38;5;124mml analyse\u001b[39m\u001b[38;5;124m'\u001b[39m)\n\u001b[0;32m----> 9\u001b[0m \u001b[38;5;28mprint\u001b[39m(\u001b[43memp\u001b[49m\u001b[38;5;241;43m.\u001b[39;49m\u001b[43m__name\u001b[49m)\n\u001b[1;32m     10\u001b[0m \u001b[38;5;66;03m#\"we can't direct access private variable\"\u001b[39;00m\n",
      "\u001b[0;31mAttributeError\u001b[0m: 'Employee' object has no attribute '__name'"
     ]
    }
   ],
   "source": [
    "# Private variable\n",
    "class Employee:\n",
    "    def __init__(self, name, project):\n",
    "        self.__name = name\n",
    "        self.__project = project\n",
    "        \n",
    "        \n",
    "emp = Employee(\"yash\", 'ml analyse')\n",
    "print(emp.__name)\n",
    "#\"we can't direct access private variable\""
   ]
  },
  {
   "cell_type": "code",
   "execution_count": 210,
   "id": "4f458848",
   "metadata": {
    "tags": []
   },
   "outputs": [
    {
     "name": "stdout",
     "output_type": "stream",
     "text": [
      "yash\n",
      "ml analyse\n"
     ]
    }
   ],
   "source": [
    "# Private variable\n",
    "class Employee:\n",
    "    def __init__(self, name, project):\n",
    "        self.__name = name\n",
    "        self.__project = project\n",
    "        \n",
    "    def disp(self):\n",
    "        print(self.__name)\n",
    "        print(self.__project)\n",
    "        \n",
    "emp = Employee(\"yash\", 'ml analyse')\n",
    "emp.disp()"
   ]
  },
  {
   "cell_type": "code",
   "execution_count": 211,
   "id": "e9f2677e",
   "metadata": {
    "tags": []
   },
   "outputs": [
    {
     "name": "stdout",
     "output_type": "stream",
     "text": [
      "yash\n",
      "ml analyse\n"
     ]
    }
   ],
   "source": [
    "#Protected variable\n",
    "class Employee:\n",
    "    def __init__(self, name, project):\n",
    "        self.name = name\n",
    "        self._project = project\n",
    "        \n",
    "    def disp(self):\n",
    "        print(self.name)\n",
    "        print(self._project)\n",
    "        \n",
    "emp = Employee(\"yash\", 'ml analyse')\n",
    "emp.disp()"
   ]
  },
  {
   "cell_type": "code",
   "execution_count": 212,
   "id": "523bdc20",
   "metadata": {
    "tags": []
   },
   "outputs": [
    {
     "name": "stdout",
     "output_type": "stream",
     "text": [
      "ml analyse\n"
     ]
    }
   ],
   "source": [
    "class Employee:\n",
    "    def __init__(self, name, project):\n",
    "        self.name = name\n",
    "        self._project = project\n",
    "        \n",
    "        \n",
    "emp = Employee(\"yash\", 'ml analyse')\n",
    "print(emp._project)"
   ]
  },
  {
   "cell_type": "markdown",
   "id": "9760fa97",
   "metadata": {},
   "source": [
    "## Exception Handling\n",
    "\n",
    "\n",
    "exception handling is a way to deal with errors or unexpected situations in your program without crashing it. When something goes wrong (like trying to divide by zero or accessing a file that doesn't exist), Python throws an exception, which is like an alert telling you that something went wrong.\n",
    "\n",
    "Instead of letting the program crash, you can handle these exceptions using try-except blocks."
   ]
  },
  {
   "cell_type": "code",
   "execution_count": 213,
   "id": "fbad9c70",
   "metadata": {
    "tags": []
   },
   "outputs": [
    {
     "name": "stdout",
     "output_type": "stream",
     "text": [
      "2.0\n",
      "Rest of the code\n"
     ]
    }
   ],
   "source": [
    "a = 10\n",
    "b = 5\n",
    "c = a/b\n",
    "print(c)\n",
    "print('Rest of the code')"
   ]
  },
  {
   "cell_type": "code",
   "execution_count": 214,
   "id": "b8511e7e",
   "metadata": {
    "tags": []
   },
   "outputs": [
    {
     "ename": "ZeroDivisionError",
     "evalue": "division by zero",
     "output_type": "error",
     "traceback": [
      "\u001b[0;31m---------------------------------------------------------------------------\u001b[0m",
      "\u001b[0;31mZeroDivisionError\u001b[0m                         Traceback (most recent call last)",
      "Cell \u001b[0;32mIn[214], line 3\u001b[0m\n\u001b[1;32m      1\u001b[0m a \u001b[38;5;241m=\u001b[39m \u001b[38;5;241m10\u001b[39m\n\u001b[1;32m      2\u001b[0m b \u001b[38;5;241m=\u001b[39m \u001b[38;5;241m0\u001b[39m\n\u001b[0;32m----> 3\u001b[0m c \u001b[38;5;241m=\u001b[39m \u001b[43ma\u001b[49m\u001b[38;5;241;43m/\u001b[39;49m\u001b[43mb\u001b[49m\n\u001b[1;32m      4\u001b[0m \u001b[38;5;28mprint\u001b[39m(c)\n\u001b[1;32m      5\u001b[0m \u001b[38;5;28mprint\u001b[39m(\u001b[38;5;124m'\u001b[39m\u001b[38;5;124mRest of the code\u001b[39m\u001b[38;5;124m'\u001b[39m)\n",
      "\u001b[0;31mZeroDivisionError\u001b[0m: division by zero"
     ]
    }
   ],
   "source": [
    "a = 10\n",
    "b = 0\n",
    "c = a/b\n",
    "print(c)\n",
    "print('Rest of the code')"
   ]
  },
  {
   "cell_type": "code",
   "execution_count": 215,
   "id": "847dd3c8",
   "metadata": {
    "tags": []
   },
   "outputs": [
    {
     "name": "stdout",
     "output_type": "stream",
     "text": [
      "2.0\n",
      "Rest of the code\n"
     ]
    }
   ],
   "source": [
    "a = 10\n",
    "b = 5\n",
    "try:\n",
    "    c = a/b\n",
    "    print(c)\n",
    "\n",
    "\n",
    "except ZeroDivisionError:\n",
    "    print('Division by zero not allowed')\n",
    "    \n",
    "print('Rest of the code')"
   ]
  },
  {
   "cell_type": "code",
   "execution_count": 216,
   "id": "e64cfef4",
   "metadata": {
    "tags": []
   },
   "outputs": [
    {
     "name": "stdout",
     "output_type": "stream",
     "text": [
      "Division by zero not allowed\n",
      "Rest of the code\n"
     ]
    }
   ],
   "source": [
    "a = 10\n",
    "b = 0\n",
    "try:\n",
    "    c = a/b\n",
    "    print(c)\n",
    "\n",
    "\n",
    "except ZeroDivisionError:\n",
    "    print('Division by zero not allowed')\n",
    "    \n",
    "print('Rest of the code')"
   ]
  },
  {
   "cell_type": "code",
   "execution_count": 217,
   "id": "b6bd8c4d",
   "metadata": {
    "tags": []
   },
   "outputs": [
    {
     "name": "stdout",
     "output_type": "stream",
     "text": [
      "2.0\n",
      "Inside else\n",
      "Inside finally\n",
      "Rest of the code\n"
     ]
    }
   ],
   "source": [
    "a = 10\n",
    "b = 5\n",
    "try:\n",
    "    c = a/b\n",
    "    print(c)\n",
    "\n",
    "\n",
    "except ZeroDivisionError:\n",
    "    print('Division by zero not allowed')\n",
    "\n",
    "\n",
    "else:\n",
    "    print('Inside else')\n",
    "    \n",
    "finally:\n",
    "    print('Inside finally')\n",
    "    \n",
    "print('Rest of the code')"
   ]
  },
  {
   "cell_type": "code",
   "execution_count": 218,
   "id": "4da6b7b7",
   "metadata": {
    "tags": []
   },
   "outputs": [
    {
     "name": "stdout",
     "output_type": "stream",
     "text": [
      "Division by zero not allowed\n",
      "Inside finally\n",
      "Rest of the code\n"
     ]
    }
   ],
   "source": [
    "a = 10\n",
    "b = 0\n",
    "try:\n",
    "    c = a/b\n",
    "    print(c)\n",
    "\n",
    "\n",
    "except ZeroDivisionError:\n",
    "    print('Division by zero not allowed')\n",
    "\n",
    "    \n",
    "\n",
    "else:\n",
    "    print('Inside else')\n",
    "    \n",
    "finally:\n",
    "    print('Inside finally')\n",
    "\n",
    "print('Rest of the code')\n"
   ]
  },
  {
   "cell_type": "code",
   "execution_count": null,
   "id": "03d41f52",
   "metadata": {},
   "outputs": [],
   "source": []
  },
  {
   "cell_type": "code",
   "execution_count": null,
   "id": "4550ecf5",
   "metadata": {},
   "outputs": [],
   "source": []
  }
 ],
 "metadata": {
  "kernelspec": {
   "display_name": "Python 3 (ipykernel)",
   "language": "python",
   "name": "python3"
  },
  "language_info": {
   "codemirror_mode": {
    "name": "ipython",
    "version": 3
   },
   "file_extension": ".py",
   "mimetype": "text/x-python",
   "name": "python",
   "nbconvert_exporter": "python",
   "pygments_lexer": "ipython3",
   "version": "3.9.2"
  }
 },
 "nbformat": 4,
 "nbformat_minor": 5
}
