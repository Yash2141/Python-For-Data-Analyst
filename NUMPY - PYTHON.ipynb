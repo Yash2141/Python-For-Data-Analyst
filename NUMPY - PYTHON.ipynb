{
 "cells": [
  {
   "cell_type": "markdown",
   "id": "58d60a6f",
   "metadata": {},
   "source": [
    "### NUMPY"
   ]
  },
  {
   "cell_type": "code",
   "execution_count": 1,
   "id": "91aa2973",
   "metadata": {},
   "outputs": [],
   "source": [
    "import numpy "
   ]
  },
  {
   "cell_type": "code",
   "execution_count": 2,
   "id": "da86088c",
   "metadata": {},
   "outputs": [
    {
     "name": "stdout",
     "output_type": "stream",
     "text": [
      "[10 11 12 13 14 15 16 17 18]\n",
      "int32\n"
     ]
    }
   ],
   "source": [
    "stu_roll = numpy.array([10,11,12,13,14,15,16,17,18])\n",
    "print(stu_roll)\n",
    "print(stu_roll.dtype)"
   ]
  },
  {
   "cell_type": "code",
   "execution_count": 3,
   "id": "c562de17",
   "metadata": {},
   "outputs": [
    {
     "data": {
      "text/plain": [
       "1"
      ]
     },
     "execution_count": 3,
     "metadata": {},
     "output_type": "execute_result"
    }
   ],
   "source": [
    "stu_roll.ndim"
   ]
  },
  {
   "cell_type": "code",
   "execution_count": 4,
   "id": "9e180f60",
   "metadata": {},
   "outputs": [
    {
     "data": {
      "text/plain": [
       "9"
      ]
     },
     "execution_count": 4,
     "metadata": {},
     "output_type": "execute_result"
    }
   ],
   "source": [
    "stu_roll.size"
   ]
  },
  {
   "cell_type": "code",
   "execution_count": 5,
   "id": "8d457bcf",
   "metadata": {},
   "outputs": [
    {
     "data": {
      "text/plain": [
       "(9,)"
      ]
     },
     "execution_count": 5,
     "metadata": {},
     "output_type": "execute_result"
    }
   ],
   "source": [
    "stu_roll.shape"
   ]
  },
  {
   "cell_type": "markdown",
   "id": "4200a944",
   "metadata": {},
   "source": [
    "### View\n",
    "This is used to construct a new view of array with the same data of existing array"
   ]
  },
  {
   "cell_type": "code",
   "execution_count": 6,
   "id": "74508196",
   "metadata": {},
   "outputs": [
    {
     "name": "stdout",
     "output_type": "stream",
     "text": [
      "[10 11 12 13 14 15]\n",
      "[10 11 12 13 14 15]\n",
      "\n",
      "2487204896368\n",
      "2487204894256\n"
     ]
    }
   ],
   "source": [
    "stu_roll = numpy.array([10,11,12,13,14,15])\n",
    "acc = stu_roll.view()\n",
    "\n",
    "print(stu_roll)\n",
    "print(acc)\n",
    "\n",
    "print()\n",
    "print(id(stu_roll))\n",
    "print(id(acc))"
   ]
  },
  {
   "cell_type": "code",
   "execution_count": 7,
   "id": "e1a788c9",
   "metadata": {},
   "outputs": [
    {
     "data": {
      "text/plain": [
       "11"
      ]
     },
     "execution_count": 7,
     "metadata": {},
     "output_type": "execute_result"
    }
   ],
   "source": [
    "stu_roll[1]"
   ]
  },
  {
   "cell_type": "code",
   "execution_count": 8,
   "id": "175aa19f",
   "metadata": {},
   "outputs": [
    {
     "name": "stdout",
     "output_type": "stream",
     "text": [
      "[10. 11. 12. 13. 14. 15.]\n"
     ]
    }
   ],
   "source": [
    "stu_roll = numpy.array([10,11,12,13,14,15], dtype= float)\n",
    "print(stu_roll)"
   ]
  },
  {
   "cell_type": "code",
   "execution_count": 9,
   "id": "a3ff9f54",
   "metadata": {},
   "outputs": [
    {
     "name": "stdout",
     "output_type": "stream",
     "text": [
      "['yash' 'yogesh' 'aman' 'sharad']\n"
     ]
    }
   ],
   "source": [
    "stu_roll = numpy.array([\"yash\",\"yogesh\",\"aman\",\"sharad\"])\n",
    "print(stu_roll)"
   ]
  },
  {
   "cell_type": "code",
   "execution_count": null,
   "id": "61be9079",
   "metadata": {},
   "outputs": [],
   "source": []
  },
  {
   "cell_type": "code",
   "execution_count": 10,
   "id": "edf46792",
   "metadata": {},
   "outputs": [
    {
     "name": "stdout",
     "output_type": "stream",
     "text": [
      "['yash' '101' '102' '103.55' 'True']\n"
     ]
    }
   ],
   "source": [
    "from numpy import *\n",
    "stu_roll = array([\"yash\",101,102,103.55,True])\n",
    "print(stu_roll)"
   ]
  },
  {
   "cell_type": "markdown",
   "id": "1be40470",
   "metadata": {},
   "source": [
    "### For Loop accessing array"
   ]
  },
  {
   "cell_type": "code",
   "execution_count": 11,
   "id": "ead2732f",
   "metadata": {},
   "outputs": [
    {
     "name": "stdout",
     "output_type": "stream",
     "text": [
      "10\n",
      "20\n",
      "aman\n",
      "sharad\n",
      "40\n",
      "50\n"
     ]
    }
   ],
   "source": [
    "roll = array([10,20,\"aman\",\"sharad\",40,50])\n",
    "\n",
    "for element in roll:\n",
    "    \n",
    "    print(element)"
   ]
  },
  {
   "cell_type": "code",
   "execution_count": 12,
   "id": "51859b48",
   "metadata": {},
   "outputs": [
    {
     "name": "stdout",
     "output_type": "stream",
     "text": [
      "index 0 - 10\n",
      "index 1 - 20\n",
      "index 2 - aman\n",
      "index 3 - sharad\n",
      "index 4 - 40\n",
      "index 5 - 50\n"
     ]
    }
   ],
   "source": [
    "roll = array([10,20,\"aman\",\"sharad\",40,50])\n",
    "\n",
    "n =len(roll)\n",
    "for i in range(n):\n",
    "    print(\"index\",i,\"-\",roll[i])"
   ]
  },
  {
   "cell_type": "code",
   "execution_count": 13,
   "id": "26f7ccb3",
   "metadata": {},
   "outputs": [
    {
     "name": "stdout",
     "output_type": "stream",
     "text": [
      "index 0 - 10\n",
      "index 1 - 20\n",
      "index 2 - aman\n",
      "index 3 - sharad\n",
      "index 4 - 40\n",
      "index 5 - 50\n"
     ]
    }
   ],
   "source": [
    "roll = array([10,20,\"aman\",\"sharad\",40,50])\n",
    "n=len(roll)\n",
    "i=0\n",
    "while i<n:\n",
    "    print(\"index\",i,\"-\",roll[i])\n",
    "    i+=1"
   ]
  },
  {
   "cell_type": "markdown",
   "id": "8963530b",
   "metadata": {},
   "source": [
    "### Linspace () function  \n",
    "This is used to create an array with evenly spaced numbers between a start point and stop point"
   ]
  },
  {
   "cell_type": "code",
   "execution_count": 14,
   "id": "d844799b",
   "metadata": {},
   "outputs": [],
   "source": [
    "from array import *"
   ]
  },
  {
   "cell_type": "code",
   "execution_count": 15,
   "id": "673027ab",
   "metadata": {},
   "outputs": [
    {
     "name": "stdout",
     "output_type": "stream",
     "text": [
      "[1.         1.14285714 1.28571429 1.42857143 1.57142857 1.71428571\n",
      " 1.85714286 2.         2.14285714 2.28571429 2.42857143 2.57142857\n",
      " 2.71428571 2.85714286 3.         3.14285714 3.28571429 3.42857143\n",
      " 3.57142857 3.71428571 3.85714286 4.         4.14285714 4.28571429\n",
      " 4.42857143 4.57142857 4.71428571 4.85714286 5.         5.14285714\n",
      " 5.28571429 5.42857143 5.57142857 5.71428571 5.85714286 6.\n",
      " 6.14285714 6.28571429 6.42857143 6.57142857 6.71428571 6.85714286\n",
      " 7.         7.14285714 7.28571429 7.42857143 7.57142857 7.71428571\n",
      " 7.85714286 8.        ]\n"
     ]
    }
   ],
   "source": [
    "a = linspace(1,8)\n",
    "print(a)"
   ]
  },
  {
   "cell_type": "code",
   "execution_count": 16,
   "id": "66613b36",
   "metadata": {},
   "outputs": [
    {
     "name": "stdout",
     "output_type": "stream",
     "text": [
      "[1.  2.4 3.8 5.2 6.6]\n"
     ]
    }
   ],
   "source": [
    "a = linspace(1,8,5, endpoint = False)\n",
    "print(a)"
   ]
  },
  {
   "cell_type": "code",
   "execution_count": 17,
   "id": "e7c63c01",
   "metadata": {},
   "outputs": [
    {
     "name": "stdout",
     "output_type": "stream",
     "text": [
      "3.8\n"
     ]
    }
   ],
   "source": [
    "print(a[2])"
   ]
  },
  {
   "cell_type": "markdown",
   "id": "0d505b32",
   "metadata": {},
   "source": [
    "### logspace() function\n",
    "This is used to create an array with evenly spaced numbers logrithmically"
   ]
  },
  {
   "cell_type": "code",
   "execution_count": 18,
   "id": "913befc9",
   "metadata": {},
   "outputs": [
    {
     "name": "stdout",
     "output_type": "stream",
     "text": [
      "[1.00000000e+01 1.38949549e+01 1.93069773e+01 2.68269580e+01\n",
      " 3.72759372e+01 5.17947468e+01 7.19685673e+01 1.00000000e+02\n",
      " 1.38949549e+02 1.93069773e+02 2.68269580e+02 3.72759372e+02\n",
      " 5.17947468e+02 7.19685673e+02 1.00000000e+03 1.38949549e+03\n",
      " 1.93069773e+03 2.68269580e+03 3.72759372e+03 5.17947468e+03\n",
      " 7.19685673e+03 1.00000000e+04 1.38949549e+04 1.93069773e+04\n",
      " 2.68269580e+04 3.72759372e+04 5.17947468e+04 7.19685673e+04\n",
      " 1.00000000e+05 1.38949549e+05 1.93069773e+05 2.68269580e+05\n",
      " 3.72759372e+05 5.17947468e+05 7.19685673e+05 1.00000000e+06\n",
      " 1.38949549e+06 1.93069773e+06 2.68269580e+06 3.72759372e+06\n",
      " 5.17947468e+06 7.19685673e+06 1.00000000e+07 1.38949549e+07\n",
      " 1.93069773e+07 2.68269580e+07 3.72759372e+07 5.17947468e+07\n",
      " 7.19685673e+07 1.00000000e+08]\n"
     ]
    }
   ],
   "source": [
    "a = logspace(1,8)\n",
    "print(a)"
   ]
  },
  {
   "cell_type": "code",
   "execution_count": 19,
   "id": "83576b68",
   "metadata": {},
   "outputs": [
    {
     "name": "stdout",
     "output_type": "stream",
     "text": [
      "[1.00000000e+01 5.62341325e+02 3.16227766e+04 1.77827941e+06\n",
      " 1.00000000e+08]\n"
     ]
    }
   ],
   "source": [
    "a = logspace(1,8,5)\n",
    "print(a)"
   ]
  },
  {
   "cell_type": "markdown",
   "id": "6d663c19",
   "metadata": {},
   "source": [
    "### arange function()  \n",
    " arange function is used to create an array with a group of elements "
   ]
  },
  {
   "cell_type": "code",
   "execution_count": 20,
   "id": "072d0a6b",
   "metadata": {},
   "outputs": [
    {
     "name": "stdout",
     "output_type": "stream",
     "text": [
      "[0 1 2 3 4]\n"
     ]
    }
   ],
   "source": [
    "b = arange(5)\n",
    "print(b)"
   ]
  },
  {
   "cell_type": "code",
   "execution_count": 21,
   "id": "ff3bbd5e",
   "metadata": {},
   "outputs": [
    {
     "name": "stdout",
     "output_type": "stream",
     "text": [
      "[1 3 5 7 9]\n"
     ]
    }
   ],
   "source": [
    "b = arange(1,10,2)\n",
    "print(b)"
   ]
  },
  {
   "cell_type": "markdown",
   "id": "bbafc909",
   "metadata": {},
   "source": [
    "### initializing different types of array"
   ]
  },
  {
   "cell_type": "markdown",
   "id": "7c718e55",
   "metadata": {},
   "source": [
    "### zeros function()\n",
    "zeros function is used to create an array will all zeros"
   ]
  },
  {
   "cell_type": "code",
   "execution_count": 22,
   "id": "ef81f052",
   "metadata": {},
   "outputs": [
    {
     "name": "stdout",
     "output_type": "stream",
     "text": [
      "[0. 0. 0. 0. 0. 0. 0. 0.]\n"
     ]
    }
   ],
   "source": [
    "b = zeros(8)\n",
    "print(b)"
   ]
  },
  {
   "cell_type": "code",
   "execution_count": 23,
   "id": "3752808c",
   "metadata": {},
   "outputs": [
    {
     "name": "stdout",
     "output_type": "stream",
     "text": [
      "[0.+0.j 0.+0.j 0.+0.j 0.+0.j 0.+0.j 0.+0.j 0.+0.j 0.+0.j]\n"
     ]
    }
   ],
   "source": [
    "b = zeros(8, dtype=complex)\n",
    "print(b)"
   ]
  },
  {
   "cell_type": "code",
   "execution_count": 24,
   "id": "d352889d",
   "metadata": {},
   "outputs": [
    {
     "name": "stdout",
     "output_type": "stream",
     "text": [
      "[[0. 0.]\n",
      " [0. 0.]\n",
      " [0. 0.]\n",
      " [0. 0.]]\n"
     ]
    }
   ],
   "source": [
    "b = zeros((4,2))\n",
    "print(b)"
   ]
  },
  {
   "cell_type": "markdown",
   "id": "62811932",
   "metadata": {},
   "source": [
    "### ones function () \n",
    "ones function is used to create an array with all 1s"
   ]
  },
  {
   "cell_type": "code",
   "execution_count": 25,
   "id": "491feb1a",
   "metadata": {},
   "outputs": [
    {
     "name": "stdout",
     "output_type": "stream",
     "text": [
      "[1. 1. 1. 1. 1.]\n"
     ]
    }
   ],
   "source": [
    "b = ones(5)\n",
    "print(b)"
   ]
  },
  {
   "cell_type": "code",
   "execution_count": 26,
   "id": "77355d7d",
   "metadata": {},
   "outputs": [
    {
     "name": "stdout",
     "output_type": "stream",
     "text": [
      "[[[1. 1. 1. 1. 1. 1.]\n",
      "  [1. 1. 1. 1. 1. 1.]\n",
      "  [1. 1. 1. 1. 1. 1.]\n",
      "  [1. 1. 1. 1. 1. 1.]]\n",
      "\n",
      " [[1. 1. 1. 1. 1. 1.]\n",
      "  [1. 1. 1. 1. 1. 1.]\n",
      "  [1. 1. 1. 1. 1. 1.]\n",
      "  [1. 1. 1. 1. 1. 1.]]\n",
      "\n",
      " [[1. 1. 1. 1. 1. 1.]\n",
      "  [1. 1. 1. 1. 1. 1.]\n",
      "  [1. 1. 1. 1. 1. 1.]\n",
      "  [1. 1. 1. 1. 1. 1.]]]\n"
     ]
    }
   ],
   "source": [
    "b = ones((3,4,6))\n",
    "print(b)"
   ]
  },
  {
   "cell_type": "code",
   "execution_count": 27,
   "id": "f01dd4fc",
   "metadata": {},
   "outputs": [
    {
     "data": {
      "text/plain": [
       "array([[99, 99],\n",
       "       [99, 99]])"
      ]
     },
     "execution_count": 27,
     "metadata": {},
     "output_type": "execute_result"
    }
   ],
   "source": [
    "#Any other number\n",
    "import numpy as np\n",
    "np.full((2,2),99)"
   ]
  },
  {
   "cell_type": "code",
   "execution_count": 28,
   "id": "3e85dd45",
   "metadata": {},
   "outputs": [
    {
     "name": "stdout",
     "output_type": "stream",
     "text": [
      "[[1 2 3]\n",
      " [1 2 3]\n",
      " [1 2 3]]\n"
     ]
    }
   ],
   "source": [
    "# Repeat of array\n",
    "arr = np.array([[1,2,3]])\n",
    "r1 = np.repeat(arr,3,axis=0)\n",
    "print(r1)"
   ]
  },
  {
   "cell_type": "markdown",
   "id": "ae93aa24",
   "metadata": {},
   "source": [
    "### input by user"
   ]
  },
  {
   "cell_type": "code",
   "execution_count": 29,
   "id": "32b86a24",
   "metadata": {},
   "outputs": [
    {
     "name": "stdout",
     "output_type": "stream",
     "text": [
      "enter the number of element:5\n",
      "[1 1 1 1 1 1]\n"
     ]
    }
   ],
   "source": [
    "user = int(input(\"enter the number of element:\"))\n",
    "ab = ones(n ,dtype = int)\n",
    "\n",
    "print(ab)"
   ]
  },
  {
   "cell_type": "code",
   "execution_count": 30,
   "id": "85476e27",
   "metadata": {},
   "outputs": [
    {
     "name": "stdout",
     "output_type": "stream",
     "text": [
      "[[1 2 3 4]\n",
      " [5 6 7 8]]\n",
      "<class 'numpy.ndarray'>\n",
      "int32\n"
     ]
    }
   ],
   "source": [
    "import numpy as np\n",
    "tst = np.array([[1,2,3,4],\n",
    "              [5,6,7,8]])\n",
    "\n",
    "print(tst)\n",
    "print(type(tst))\n",
    "print(tst.dtype)"
   ]
  },
  {
   "cell_type": "code",
   "execution_count": 31,
   "id": "ef3ab90e",
   "metadata": {},
   "outputs": [
    {
     "name": "stdout",
     "output_type": "stream",
     "text": [
      "3\n"
     ]
    }
   ],
   "source": [
    "print(tst[0][2])"
   ]
  },
  {
   "cell_type": "code",
   "execution_count": 32,
   "id": "a2d3387c",
   "metadata": {},
   "outputs": [
    {
     "name": "stdout",
     "output_type": "stream",
     "text": [
      "8\n"
     ]
    }
   ],
   "source": [
    "print(tst[1][3])"
   ]
  },
  {
   "cell_type": "code",
   "execution_count": 33,
   "id": "3fa3466f",
   "metadata": {},
   "outputs": [
    {
     "name": "stdout",
     "output_type": "stream",
     "text": [
      "1\n",
      "2\n",
      "3\n",
      "4\n",
      "\n",
      "5\n",
      "6\n",
      "7\n",
      "8\n",
      "\n"
     ]
    }
   ],
   "source": [
    "tst = np.array([ [1,2,3,4],\n",
    "                [5,6,7,8] ])\n",
    "\n",
    "for i in tst:\n",
    "    for c in i:\n",
    "        print(c)\n",
    "    print()"
   ]
  },
  {
   "cell_type": "code",
   "execution_count": 34,
   "id": "fc97bcc2",
   "metadata": {},
   "outputs": [
    {
     "name": "stdout",
     "output_type": "stream",
     "text": [
      "index 0 - [1 2 3 4]\n",
      "index 1 - [5 6 7 8]\n"
     ]
    }
   ],
   "source": [
    "tst = np.array([ [1,2,3,4],\n",
    "                [5,6,7,8] ])\n",
    "n=len(tst)\n",
    "i=0\n",
    "while i<n:\n",
    "    print(\"index\",i,\"-\",tst[i])\n",
    "    i+=1"
   ]
  },
  {
   "cell_type": "markdown",
   "id": "bd9da3d0",
   "metadata": {},
   "source": [
    "### convert 1-D To 2-D array\n"
   ]
  },
  {
   "cell_type": "code",
   "execution_count": 35,
   "id": "d5f8ad14",
   "metadata": {},
   "outputs": [],
   "source": [
    "from numpy import *"
   ]
  },
  {
   "cell_type": "code",
   "execution_count": 36,
   "id": "26c8f775",
   "metadata": {},
   "outputs": [
    {
     "name": "stdout",
     "output_type": "stream",
     "text": [
      "[ 1  2  3  4  5  6  7  8  9 10 11 12]\n",
      "\n",
      "[[ 1  2  3  4]\n",
      " [ 5  6  7  8]\n",
      " [ 9 10 11 12]]\n"
     ]
    }
   ],
   "source": [
    "arry = array([1,2,3,4,5,6,7,8,9,10,11,12])\n",
    "shp = reshape(arry,(3,4))\n",
    "\n",
    "print(arry)\n",
    "print()\n",
    "print(shp)"
   ]
  },
  {
   "cell_type": "markdown",
   "id": "f2b77e71",
   "metadata": {},
   "source": [
    "### convert 2-D To 1-D"
   ]
  },
  {
   "cell_type": "code",
   "execution_count": 37,
   "id": "9810bd77",
   "metadata": {},
   "outputs": [
    {
     "name": "stdout",
     "output_type": "stream",
     "text": [
      "[[1 2 3 4]\n",
      " [5 6 7 8]]\n",
      "\n",
      "[1 2 3 4 5 6 7 8]\n"
     ]
    }
   ],
   "source": [
    "arry = array([[1,2,3,4],[5,6,7,8]])\n",
    "shp = reshape(arry,(8))\n",
    "\n",
    "print(arry)\n",
    "print()\n",
    "print(shp)"
   ]
  },
  {
   "cell_type": "markdown",
   "id": "7b25bc96",
   "metadata": {},
   "source": [
    "### convert 1-D To 3-D"
   ]
  },
  {
   "cell_type": "code",
   "execution_count": 38,
   "id": "27c64b22",
   "metadata": {},
   "outputs": [
    {
     "name": "stdout",
     "output_type": "stream",
     "text": [
      "[ 1  2  3  4  5  6  7  8  9 10 11 12]\n",
      "\n",
      "[[[ 1  2]\n",
      "  [ 3  4]\n",
      "  [ 5  6]]\n",
      "\n",
      " [[ 7  8]\n",
      "  [ 9 10]\n",
      "  [11 12]]]\n"
     ]
    }
   ],
   "source": [
    "arry = array([1,2,3,4,5,6,7,8,9,10,11,12])\n",
    "shp = reshape(arry,(2,3,2))\n",
    "\n",
    "print(arry)\n",
    "print()\n",
    "print(shp)"
   ]
  },
  {
   "cell_type": "code",
   "execution_count": 39,
   "id": "977f7502",
   "metadata": {},
   "outputs": [
    {
     "name": "stdout",
     "output_type": "stream",
     "text": [
      "[[10 20 30]\n",
      " [40 50 60]\n",
      " [70 80 90]]\n",
      "<class 'numpy.ndarray'>\n"
     ]
    }
   ],
   "source": [
    "arry = array([[10,20,30],\n",
    "             [40,50,60],\n",
    "             [70,80,90]])\n",
    "\n",
    "print(arry)\n",
    "print(type(arry))"
   ]
  },
  {
   "cell_type": "code",
   "execution_count": 40,
   "id": "6833c3c3",
   "metadata": {},
   "outputs": [
    {
     "data": {
      "text/plain": [
       "array([[10, 20, 30],\n",
       "       [40, 50, 60],\n",
       "       [70, 80, 90]])"
      ]
     },
     "execution_count": 40,
     "metadata": {},
     "output_type": "execute_result"
    }
   ],
   "source": [
    "arry[:]"
   ]
  },
  {
   "cell_type": "code",
   "execution_count": 41,
   "id": "85db96d4",
   "metadata": {},
   "outputs": [
    {
     "data": {
      "text/plain": [
       "array([[10, 20, 30],\n",
       "       [40, 50, 60]])"
      ]
     },
     "execution_count": 41,
     "metadata": {},
     "output_type": "execute_result"
    }
   ],
   "source": [
    "arry[:2]"
   ]
  },
  {
   "cell_type": "code",
   "execution_count": 42,
   "id": "4d5b5689",
   "metadata": {},
   "outputs": [
    {
     "name": "stdout",
     "output_type": "stream",
     "text": [
      "0 th row all column\n"
     ]
    },
    {
     "data": {
      "text/plain": [
       "array([10, 20, 30])"
      ]
     },
     "execution_count": 42,
     "metadata": {},
     "output_type": "execute_result"
    }
   ],
   "source": [
    "print(\"0 th row all column\")\n",
    "arry[0,:]"
   ]
  },
  {
   "cell_type": "code",
   "execution_count": 43,
   "id": "908ce663",
   "metadata": {},
   "outputs": [
    {
     "name": "stdout",
     "output_type": "stream",
     "text": [
      "2nd row all column\n"
     ]
    },
    {
     "data": {
      "text/plain": [
       "array([70, 80, 90])"
      ]
     },
     "execution_count": 43,
     "metadata": {},
     "output_type": "execute_result"
    }
   ],
   "source": [
    "print(\"2nd row all column\")\n",
    "arry[2,:]"
   ]
  },
  {
   "cell_type": "code",
   "execution_count": 44,
   "id": "8a72dd2e",
   "metadata": {},
   "outputs": [
    {
     "name": "stdout",
     "output_type": "stream",
     "text": [
      "0 th row all column\n"
     ]
    },
    {
     "data": {
      "text/plain": [
       "array([10, 40, 70])"
      ]
     },
     "execution_count": 44,
     "metadata": {},
     "output_type": "execute_result"
    }
   ],
   "source": [
    "print(\"0 th row all column\")\n",
    "arry[:,0]"
   ]
  },
  {
   "cell_type": "code",
   "execution_count": 45,
   "id": "fa7c0dc0",
   "metadata": {},
   "outputs": [
    {
     "data": {
      "text/plain": [
       "array([[10]])"
      ]
     },
     "execution_count": 45,
     "metadata": {},
     "output_type": "execute_result"
    }
   ],
   "source": [
    "arry[0:1,0:1]"
   ]
  },
  {
   "cell_type": "code",
   "execution_count": 46,
   "id": "587f7d25",
   "metadata": {},
   "outputs": [
    {
     "data": {
      "text/plain": [
       "array([[70]])"
      ]
     },
     "execution_count": 46,
     "metadata": {},
     "output_type": "execute_result"
    }
   ],
   "source": [
    "arry[2:3,0:1]"
   ]
  },
  {
   "cell_type": "code",
   "execution_count": 47,
   "id": "5a705f22",
   "metadata": {},
   "outputs": [
    {
     "data": {
      "text/plain": [
       "array([[90]])"
      ]
     },
     "execution_count": 47,
     "metadata": {},
     "output_type": "execute_result"
    }
   ],
   "source": [
    "arry[2:3,2:3]"
   ]
  },
  {
   "cell_type": "code",
   "execution_count": 48,
   "id": "2f8dc70f",
   "metadata": {},
   "outputs": [
    {
     "data": {
      "text/plain": [
       "array([[20, 30],\n",
       "       [50, 60]])"
      ]
     },
     "execution_count": 48,
     "metadata": {},
     "output_type": "execute_result"
    }
   ],
   "source": [
    "arry[0:2,1:3]"
   ]
  },
  {
   "cell_type": "markdown",
   "id": "3ddfeaf3",
   "metadata": {},
   "source": [
    "### numpy .random .rand()\n",
    "this function creates an array of specified shape and fills it with random values"
   ]
  },
  {
   "cell_type": "code",
   "execution_count": 49,
   "id": "b9c9b8bd",
   "metadata": {},
   "outputs": [
    {
     "data": {
      "text/plain": [
       "array([0.98509633, 0.94217135, 0.25857827, 0.40727579, 0.96274941,\n",
       "       0.32485304, 0.593768  , 0.46033884, 0.60192519, 0.27533488,\n",
       "       0.48367681, 0.73154092, 0.13346368, 0.83648208, 0.83414016,\n",
       "       0.80651682, 0.46535924, 0.34707008, 0.20217275, 0.92281416,\n",
       "       0.47062546, 0.36269707, 0.11599555, 0.97706767, 0.78937886,\n",
       "       0.46219209, 0.61943206, 0.13984863, 0.47461946, 0.74254854,\n",
       "       0.10106701, 0.59561965, 0.10217722, 0.85507943, 0.7544818 ,\n",
       "       0.39680479, 0.33907102, 0.82337782, 0.26244331, 0.42345884])"
      ]
     },
     "execution_count": 49,
     "metadata": {},
     "output_type": "execute_result"
    }
   ],
   "source": [
    "np.random.rand(40)"
   ]
  },
  {
   "cell_type": "markdown",
   "id": "154c79c6",
   "metadata": {},
   "source": [
    "### numpy .random .randn()\n",
    "this function creates an array of specified shape and fills it with random values as per standard normal distribution"
   ]
  },
  {
   "cell_type": "code",
   "execution_count": 50,
   "id": "4686a6c5",
   "metadata": {},
   "outputs": [
    {
     "data": {
      "text/plain": [
       "array([ 0.43608356, -0.68172006, -0.88078679,  0.50388908,  0.06749655,\n",
       "       -0.77412006, -0.78297697,  0.66496344, -0.17152532,  0.11576423,\n",
       "        1.02291864,  0.50716857, -0.38272634,  0.57889463,  0.74443044,\n",
       "        0.29831974, -0.48342554,  0.06985074,  1.94841615,  2.20905085])"
      ]
     },
     "execution_count": 50,
     "metadata": {},
     "output_type": "execute_result"
    }
   ],
   "source": [
    "np.random.randn(20)"
   ]
  },
  {
   "cell_type": "markdown",
   "id": "0ad18b59",
   "metadata": {},
   "source": [
    "###  numpy .random .randint()\n",
    "It returns an array of specified shape and fills it with random intergers form low to higher limits"
   ]
  },
  {
   "cell_type": "code",
   "execution_count": 51,
   "id": "e926913a",
   "metadata": {},
   "outputs": [
    {
     "data": {
      "text/plain": [
       "4"
      ]
     },
     "execution_count": 51,
     "metadata": {},
     "output_type": "execute_result"
    }
   ],
   "source": [
    "np.random .randint(6)"
   ]
  },
  {
   "cell_type": "code",
   "execution_count": 52,
   "id": "6c1bdf61",
   "metadata": {},
   "outputs": [
    {
     "data": {
      "text/plain": [
       "array([[19, 10, 30, 16],\n",
       "       [16, 15, 28, 18],\n",
       "       [14, 15, 10, 13],\n",
       "       [17, 12, 15, 32]])"
      ]
     },
     "execution_count": 52,
     "metadata": {},
     "output_type": "execute_result"
    }
   ],
   "source": [
    "np.random.randint(5,40,(4,4))"
   ]
  },
  {
   "cell_type": "code",
   "execution_count": 53,
   "id": "2e8abe82",
   "metadata": {},
   "outputs": [
    {
     "data": {
      "text/plain": [
       "array([[6, 5, 5],\n",
       "       [4, 7, 4],\n",
       "       [4, 5, 5]])"
      ]
     },
     "execution_count": 53,
     "metadata": {},
     "output_type": "execute_result"
    }
   ],
   "source": [
    "np.random.randint(3,9,(3,3))"
   ]
  },
  {
   "cell_type": "markdown",
   "id": "4d0bb821",
   "metadata": {},
   "source": [
    "### Matrix "
   ]
  },
  {
   "cell_type": "code",
   "execution_count": 54,
   "id": "da9c58dd",
   "metadata": {},
   "outputs": [
    {
     "name": "stdout",
     "output_type": "stream",
     "text": [
      "[[1 3 4]\n",
      " [1 2 6]]\n",
      "<class 'numpy.matrix'>\n",
      "\n",
      "[[1 1]\n",
      " [3 2]\n",
      " [4 6]]\n"
     ]
    }
   ],
   "source": [
    "var = np.matrix([[1,3,4],[1,2,6]])\n",
    "\n",
    "print(var)\n",
    "print(type(var))\n",
    "print()\n",
    "\n",
    "print(np.transpose(var))"
   ]
  },
  {
   "cell_type": "code",
   "execution_count": 55,
   "id": "5cdf7204",
   "metadata": {},
   "outputs": [
    {
     "name": "stdout",
     "output_type": "stream",
     "text": [
      "[[1 2 3]\n",
      " [1 2 3]]\n",
      "<class 'numpy.ndarray'>\n"
     ]
    }
   ],
   "source": [
    "var1 = np.array([[1,2,3],[1,2,3]])\n",
    "print(var1)\n",
    "print(type(var1))"
   ]
  },
  {
   "cell_type": "code",
   "execution_count": 56,
   "id": "5f60fbfa",
   "metadata": {},
   "outputs": [
    {
     "data": {
      "text/plain": [
       "array([[1., 0., 0., 0., 0.],\n",
       "       [0., 1., 0., 0., 0.],\n",
       "       [0., 0., 1., 0., 0.],\n",
       "       [0., 0., 0., 1., 0.],\n",
       "       [0., 0., 0., 0., 1.]])"
      ]
     },
     "execution_count": 56,
     "metadata": {},
     "output_type": "execute_result"
    }
   ],
   "source": [
    "# Identity matrix\n",
    "np.identity(5)"
   ]
  },
  {
   "cell_type": "code",
   "execution_count": null,
   "id": "d8181022",
   "metadata": {},
   "outputs": [],
   "source": []
  },
  {
   "cell_type": "code",
   "execution_count": null,
   "id": "6bcb17e9",
   "metadata": {},
   "outputs": [],
   "source": []
  }
 ],
 "metadata": {
  "kernelspec": {
   "display_name": "Python 3 (ipykernel)",
   "language": "python",
   "name": "python3"
  },
  "language_info": {
   "codemirror_mode": {
    "name": "ipython",
    "version": 3
   },
   "file_extension": ".py",
   "mimetype": "text/x-python",
   "name": "python",
   "nbconvert_exporter": "python",
   "pygments_lexer": "ipython3",
   "version": "3.9.7"
  }
 },
 "nbformat": 4,
 "nbformat_minor": 5
}
